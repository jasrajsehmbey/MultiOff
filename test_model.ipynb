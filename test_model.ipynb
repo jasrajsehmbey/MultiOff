{
 "cells": [
  {
   "cell_type": "code",
   "execution_count": 2,
   "metadata": {},
   "outputs": [
    {
     "name": "stderr",
     "output_type": "stream",
     "text": [
      "c:\\Users\\jasra\\OneDrive\\Desktop\\MAJOR PROJECT\\.venv\\lib\\site-packages\\tqdm\\auto.py:21: TqdmWarning: IProgress not found. Please update jupyter and ipywidgets. See https://ipywidgets.readthedocs.io/en/stable/user_install.html\n",
      "  from .autonotebook import tqdm as notebook_tqdm\n"
     ]
    }
   ],
   "source": [
    "import pandas as pd\n",
    "import numpy as np\n",
    "import tensorflow as tf\n",
    "from transformers import AutoTokenizer, TFAutoModel, AutoProcessor\n",
    "from tensorflow.keras.models import Model\n",
    "from tensorflow.keras.layers import Input, Dense, Concatenate\n",
    "from PIL import Image\n",
    "from transformers import TFAutoModel, AutoProcessor\n",
    "from tensorflow.keras.layers import Input, Dense\n",
    "from tensorflow.keras.models import Model\n",
    "import numpy as np\n",
    "from PIL import Image"
   ]
  },
  {
   "cell_type": "code",
   "execution_count": 3,
   "metadata": {},
   "outputs": [],
   "source": [
    "# Load CSV files\n",
    "train_df = pd.read_csv(\"C:\\\\Users\\\\jasra\\\\OneDrive\\\\Desktop\\\\MAJOR PROJECT\\\\MultiOFF_Dataset\\\\Split Dataset\\\\Training_meme_dataset.csv\")\n",
    "val_df = pd.read_csv(\"C:\\\\Users\\\\jasra\\\\OneDrive\\\\Desktop\\\\MAJOR PROJECT\\\\MultiOFF_Dataset\\\\Split Dataset\\\\Validation_meme_dataset.csv\")\n",
    "test_df = pd.read_csv(\"C:\\\\Users\\\\jasra\\\\OneDrive\\\\Desktop\\\\MAJOR PROJECT\\\\MultiOFF_Dataset\\\\Split Dataset\\\\Testing_meme_dataset.csv\")"
   ]
  },
  {
   "cell_type": "code",
   "execution_count": 4,
   "metadata": {},
   "outputs": [],
   "source": [
    "# Preprocess text using Hugging Face Tokenizer\n",
    "text_model_name = \"bert-base-uncased\"\n",
    "text_tokenizer = AutoTokenizer.from_pretrained(text_model_name)\n",
    "\n",
    "def preprocess_texts(texts, max_len=512):\n",
    "    return text_tokenizer(\n",
    "        texts.tolist(),\n",
    "        max_length=max_len,\n",
    "        padding=\"max_length\",\n",
    "        truncation=True,\n",
    "        return_tensors=\"tf\"\n",
    "    )\n",
    "\n",
    "# Preprocess images using Hugging Face Processor\n",
    "image_model_name = \"google/vit-base-patch16-224-in21k\"\n",
    "image_processor = AutoProcessor.from_pretrained(image_model_name)\n",
    "\n",
    "def preprocess_images(image_paths):\n",
    "    images = []\n",
    "    for image_path in image_paths:\n",
    "        img = Image.open(image_path).convert(\"RGB\")  # Convert to RGB\n",
    "        img = img.resize((224, 224))  # Resize to 224x224\n",
    "        img = np.array(img)  # Convert to NumPy array\n",
    "        img = img / 255.0  # Normalize to [0, 1]\n",
    "        images.append(img)\n",
    "    return np.stack(images)\n",
    "\n"
   ]
  },
  {
   "cell_type": "code",
   "execution_count": 5,
   "metadata": {},
   "outputs": [],
   "source": [
    "import re\n",
    "from nltk.corpus import stopwords\n",
    "REPLACE_BY_SPACE_RE = re.compile('[/(){}\\[\\]\\|@,;]')\n",
    "BAD_SYMBOLS_RE = re.compile('[^0-9a-z #+_]')\n",
    "EMAIL = re.compile(r'[a-zA-Z0-9._%+-]+@[a-zA-Z0-9.-]+\\.[a-zA-Z]{2,}')\n",
    "NUMBERS_RE = re.compile(r'\\d+')\n",
    "STOPWORDS = set(stopwords.words('english'))\n",
    "\n",
    "def clean_text(text):  #preprocessing of text \n",
    "    \"\"\"\n",
    "        text: a string\n",
    "        \n",
    "        return: modified initial string\n",
    "    \"\"\"\n",
    "    text = text.lower()\n",
    "    text = EMAIL.sub('', text)\n",
    "    text = NUMBERS_RE.sub('', text)  # Remove numbers\n",
    "    text = REPLACE_BY_SPACE_RE.sub(' ',text)\n",
    "    text = BAD_SYMBOLS_RE.sub('',text)    \n",
    "    # text = text.replace('x','')\n",
    "    text = ' '.join(word for word in text.split() if word not in STOPWORDS)\n",
    "    \n",
    "    return text\n"
   ]
  },
  {
   "cell_type": "code",
   "execution_count": 6,
   "metadata": {},
   "outputs": [],
   "source": [
    "train_df['sentence'] = train_df['sentence'].apply(clean_text)\n",
    "train_df['sentence'] = train_df['sentence'].apply(clean_text)\n",
    "train_df['sentence'] = train_df['sentence'].apply(clean_text)"
   ]
  },
  {
   "cell_type": "code",
   "execution_count": 7,
   "metadata": {},
   "outputs": [],
   "source": [
    "# Prepare train data\n",
    "train_texts = preprocess_texts(train_df[\"sentence\"])\n",
    "train_images = preprocess_images([f\"C:/Users/jasra/OneDrive/Desktop/MAJOR PROJECT/MultiOFF_Dataset/Labelled Images/{img}\" for img in train_df[\"image_name\"]])\n",
    "train_df[\"label\"] = train_df[\"label\"].map({\"Non-offensiv\": 0, \"offensive\": 1})\n",
    "train_labels = train_df[\"label\"].values  # Convert to a NumPy array\n",
    "\n",
    "# Prepare validation data\n",
    "val_texts = preprocess_texts(val_df[\"sentence\"])\n",
    "val_images = preprocess_images([f\"C:/Users/jasra/OneDrive/Desktop/MAJOR PROJECT/MultiOFF_Dataset/Labelled Images/{img}\" for img in val_df[\"image_name\"]])\n",
    "val_df[\"label\"] = val_df[\"label\"].map({\"Non-offensiv\": 0, \"offensive\": 1})\n",
    "val_labels = val_df[\"label\"].values  # Convert to a NumPy array\n",
    "\n"
   ]
  },
  {
   "cell_type": "code",
   "execution_count": null,
   "metadata": {},
   "outputs": [],
   "source": []
  },
  {
   "cell_type": "code",
   "execution_count": 8,
   "metadata": {},
   "outputs": [
    {
     "name": "stdout",
     "output_type": "stream",
     "text": [
      "(445, 224, 224, 3)\n"
     ]
    }
   ],
   "source": [
    "print(train_images.shape)  # Should output: (batch_size, 224, 224, 3)"
   ]
  },
  {
   "cell_type": "code",
   "execution_count": 6,
   "metadata": {},
   "outputs": [],
   "source": [
    "from tensorflow.keras.applications import EfficientNetV2B0\n",
    "from tensorflow.keras.layers import Input, Dense, GlobalAveragePooling2D\n",
    "from tensorflow.keras.models import Model\n",
    "\n",
    "# EfficientNetV2 model for image feature extraction\n",
    "def create_image_model():\n",
    "    base_model = EfficientNetV2B0(weights=\"imagenet\", include_top=False, input_shape=(224, 224, 3))\n",
    "    base_model.trainable = False  # Freeze the base model\n",
    "    inputs = Input(shape=(224, 224, 3), name=\"image_input\")\n",
    "    x = base_model(inputs)\n",
    "    x = GlobalAveragePooling2D()(x)  # Reduce to a single feature vector\n",
    "    x = Dense(128, activation=\"relu\")(x)  # Add a dense layer for embedding\n",
    "    return Model(inputs, x, name=\"ImageModel\")"
   ]
  },
  {
   "cell_type": "code",
   "execution_count": 7,
   "metadata": {},
   "outputs": [
    {
     "name": "stdout",
     "output_type": "stream",
     "text": [
      "Model: \"ImageModel\"\n",
      "_________________________________________________________________\n",
      " Layer (type)                Output Shape              Param #   \n",
      "=================================================================\n",
      " image_input (InputLayer)    [(None, 224, 224, 3)]     0         \n",
      "                                                                 \n",
      " efficientnetv2-b0 (Function  (None, 7, 7, 1280)       5919312   \n",
      " al)                                                             \n",
      "                                                                 \n",
      " global_average_pooling2d (G  (None, 1280)             0         \n",
      " lobalAveragePooling2D)                                          \n",
      "                                                                 \n",
      " dense (Dense)               (None, 128)               163968    \n",
      "                                                                 \n",
      "=================================================================\n",
      "Total params: 6,083,280\n",
      "Trainable params: 163,968\n",
      "Non-trainable params: 5,919,312\n",
      "_________________________________________________________________\n"
     ]
    }
   ],
   "source": [
    "image_model = create_image_model()\n",
    "image_model.summary()"
   ]
  },
  {
   "cell_type": "code",
   "execution_count": 8,
   "metadata": {},
   "outputs": [],
   "source": [
    "image_input = Input(shape=(224, 224, 3), name=\"image_input\")\n",
    "image_out = image_model(image_input)\n",
    "image_features = Dense(1, activation=\"sigmoid\", name=\"output\")(image_out)"
   ]
  },
  {
   "cell_type": "code",
   "execution_count": 9,
   "metadata": {},
   "outputs": [
    {
     "name": "stderr",
     "output_type": "stream",
     "text": [
      "Some weights of the PyTorch model were not used when initializing the TF 2.0 model TFBertModel: ['cls.predictions.bias', 'cls.seq_relationship.weight', 'cls.predictions.transform.LayerNorm.weight', 'cls.predictions.transform.LayerNorm.bias', 'cls.seq_relationship.bias', 'cls.predictions.transform.dense.bias', 'cls.predictions.transform.dense.weight']\n",
      "- This IS expected if you are initializing TFBertModel from a PyTorch model trained on another task or with another architecture (e.g. initializing a TFBertForSequenceClassification model from a BertForPreTraining model).\n",
      "- This IS NOT expected if you are initializing TFBertModel from a PyTorch model that you expect to be exactly identical (e.g. initializing a TFBertForSequenceClassification model from a BertForSequenceClassification model).\n",
      "All the weights of TFBertModel were initialized from the PyTorch model.\n",
      "If your task is similar to the task the model of the checkpoint was trained on, you can already use TFBertModel for predictions without further training.\n"
     ]
    }
   ],
   "source": [
    "# Build Text Model\n",
    "text_input = Input(shape=(512,), dtype=tf.int32, name=\"text_input\")\n",
    "text_mask = Input(shape=(512,), dtype=tf.int32, name=\"text_mask\")\n",
    "text_model = TFAutoModel.from_pretrained(text_model_name)\n",
    "text_output = text_model(text_input, attention_mask=text_mask).pooler_output\n",
    "text_features = Dense(128, activation=\"relu\")(text_output)\n",
    "\n"
   ]
  },
  {
   "cell_type": "code",
   "execution_count": 10,
   "metadata": {},
   "outputs": [],
   "source": [
    "# Combine Features\n",
    "combined_features = Concatenate()([text_features, image_features])\n",
    "output = Dense(1, activation=\"sigmoid\")(combined_features)\n",
    "\n",
    "# Compile the Model\n",
    "model = Model(inputs=[image_input, text_input, text_mask], outputs=output)\n",
    "model.compile(optimizer=\"adam\", loss=\"binary_crossentropy\", metrics=[\"accuracy\"])\n",
    "\n"
   ]
  },
  {
   "cell_type": "code",
   "execution_count": null,
   "metadata": {},
   "outputs": [
    {
     "name": "stdout",
     "output_type": "stream",
     "text": [
      "Epoch 1/4\n",
      " 1/14 [=>............................] - ETA: 1:55:06 - loss: 1.0661 - accuracy: 0.2812"
     ]
    }
   ],
   "source": [
    "# Train the Model\n",
    "history = model.fit(\n",
    "    [train_images, train_texts[\"input_ids\"], train_texts[\"attention_mask\"]],\n",
    "    train_labels,\n",
    "    validation_data=(\n",
    "        [val_images, val_texts[\"input_ids\"], val_texts[\"attention_mask\"]],\n",
    "        val_labels\n",
    "    ),\n",
    "    epochs=4,\n",
    "    batch_size=32\n",
    ")\n",
    "\n"
   ]
  },
  {
   "cell_type": "code",
   "execution_count": null,
   "metadata": {},
   "outputs": [],
   "source": [
    "# Evaluate on Test Data\n",
    "test_texts = preprocess_texts(test_df[\"text\"])\n",
    "test_images = preprocess_images([f\"images/{img}\" for img in test_df[\"image_name\"]])\n",
    "test_labels = test_df[\"label\"].values\n",
    "\n",
    "results = model.evaluate(\n",
    "    [test_images, test_texts[\"input_ids\"], test_texts[\"attention_mask\"]],\n",
    "    test_labels\n",
    ")\n",
    "print(f\"Test Accuracy: {results[1]}\")"
   ]
  }
 ],
 "metadata": {
  "kernelspec": {
   "display_name": ".venv",
   "language": "python",
   "name": "python3"
  },
  "language_info": {
   "codemirror_mode": {
    "name": "ipython",
    "version": 3
   },
   "file_extension": ".py",
   "mimetype": "text/x-python",
   "name": "python",
   "nbconvert_exporter": "python",
   "pygments_lexer": "ipython3",
   "version": "3.7.4"
  }
 },
 "nbformat": 4,
 "nbformat_minor": 2
}
