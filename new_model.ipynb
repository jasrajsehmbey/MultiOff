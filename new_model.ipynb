{
 "cells": [
  {
   "cell_type": "code",
   "execution_count": 1,
   "metadata": {},
   "outputs": [],
   "source": [
    "import os\n",
    "import pandas as pd\n",
    "import numpy as np\n",
    "import tensorflow as tf\n",
    "from tensorflow.keras.models import Model\n",
    "from tensorflow.keras.layers import (\n",
    "    Input, Dense, GlobalAveragePooling2D, Embedding, LSTM, Bidirectional, Concatenate, Flatten, Dropout\n",
    ")\n",
    "from tensorflow.keras.applications import ResNet50\n",
    "from tensorflow.keras.preprocessing.text import Tokenizer\n",
    "from tensorflow.keras.preprocessing.sequence import pad_sequences\n",
    "from tensorflow.keras.preprocessing.image import ImageDataGenerator, load_img, img_to_array\n",
    "from sklearn.model_selection import train_test_split\n",
    "from sklearn.preprocessing import LabelEncoder"
   ]
  },
  {
   "cell_type": "code",
   "execution_count": 13,
   "metadata": {},
   "outputs": [],
   "source": [
    "IMG_SIZE = (224, 224)\n",
    "MAX_SEQ_LENGTH = 1000\n",
    "VOCAB_SIZE = 50000\n",
    "EMBEDDING_DIM = 100\n",
    "BATCH_SIZE = 32"
   ]
  },
  {
   "cell_type": "code",
   "execution_count": 3,
   "metadata": {},
   "outputs": [],
   "source": [
    "train_data = pd.read_csv(\"C:\\\\Users\\\\jasra\\\\OneDrive\\\\Desktop\\\\MAJOR PROJECT\\\\MultiOFF_Dataset\\\\Split Dataset\\\\Training_meme_dataset.csv\")\n",
    "val_data = pd.read_csv(\"C:\\\\Users\\\\jasra\\\\OneDrive\\\\Desktop\\\\MAJOR PROJECT\\\\MultiOFF_Dataset\\\\Split Dataset\\\\Validation_meme_dataset.csv\")\n",
    "test_data = pd.read_csv(\"C:\\\\Users\\\\jasra\\\\OneDrive\\\\Desktop\\\\MAJOR PROJECT\\\\MultiOFF_Dataset\\\\Split Dataset\\\\Testing_meme_dataset.csv\")"
   ]
  },
  {
   "cell_type": "code",
   "execution_count": 4,
   "metadata": {},
   "outputs": [],
   "source": [
    "# Preprocess Labels\n",
    "label_encoder = LabelEncoder()\n",
    "train_data[\"label\"] = label_encoder.fit_transform(train_data[\"label\"])\n",
    "val_data[\"label\"] = label_encoder.transform(val_data[\"label\"])\n",
    "test_data[\"label\"] = label_encoder.transform(test_data[\"label\"])"
   ]
  },
  {
   "cell_type": "code",
   "execution_count": 6,
   "metadata": {},
   "outputs": [],
   "source": [
    "def preprocess_images(image_dir, image_list):\n",
    "    images = []\n",
    "    for img_name in image_list:\n",
    "        img_path = os.path.join(image_dir, img_name)\n",
    "        img = load_img(img_path, target_size=IMG_SIZE)\n",
    "        img_array = img_to_array(img) / 255.0\n",
    "        images.append(img_array)\n",
    "    return np.array(images)"
   ]
  },
  {
   "cell_type": "code",
   "execution_count": 7,
   "metadata": {},
   "outputs": [],
   "source": [
    "train_images = preprocess_images(\"C:/Users/jasra/OneDrive/Desktop/MAJOR PROJECT/MultiOFF_Dataset/Labelled Images/\", train_data[\"image_name\"])\n",
    "val_images = preprocess_images(\"C:/Users/jasra/OneDrive/Desktop/MAJOR PROJECT/MultiOFF_Dataset/Labelled Images/\", val_data[\"image_name\"])\n",
    "test_images = preprocess_images(\"C:/Users/jasra/OneDrive/Desktop/MAJOR PROJECT/MultiOFF_Dataset/Labelled Images/\", test_data[\"image_name\"])"
   ]
  },
  {
   "cell_type": "code",
   "execution_count": 10,
   "metadata": {},
   "outputs": [],
   "source": [
    "import re\n",
    "from nltk.corpus import stopwords\n",
    "REPLACE_BY_SPACE_RE = re.compile('[/(){}\\[\\]\\|@,;]')\n",
    "BAD_SYMBOLS_RE = re.compile('[^0-9a-z #+_]')\n",
    "EMAIL = re.compile(r'[a-zA-Z0-9._%+-]+@[a-zA-Z0-9.-]+\\.[a-zA-Z]{2,}')\n",
    "NUMBERS_RE = re.compile(r'\\d+')\n",
    "STOPWORDS = set(stopwords.words('english'))\n",
    "\n",
    "def clean_text(text):  #preprocessing of text \n",
    "    \"\"\"\n",
    "        text: a string\n",
    "        \n",
    "        return: modified initial string\n",
    "    \"\"\"\n",
    "    text = text.lower()\n",
    "    text = EMAIL.sub('', text)\n",
    "    text = NUMBERS_RE.sub('', text)  # Remove numbers\n",
    "    text = REPLACE_BY_SPACE_RE.sub(' ',text)\n",
    "    text = BAD_SYMBOLS_RE.sub('',text)    \n",
    "    # text = text.replace('x','')\n",
    "    text = ' '.join(word for word in text.split() if word not in STOPWORDS)\n",
    "    \n",
    "    return text"
   ]
  },
  {
   "cell_type": "code",
   "execution_count": 11,
   "metadata": {},
   "outputs": [],
   "source": [
    "train_data['sentence'] = train_data['sentence'].apply(clean_text)\n",
    "test_data['sentence'] = test_data['sentence'].apply(clean_text)\n",
    "val_data['sentence'] = val_data['sentence'].apply(clean_text)"
   ]
  },
  {
   "cell_type": "code",
   "execution_count": 14,
   "metadata": {},
   "outputs": [],
   "source": [
    "# Preprocess Text\n",
    "tokenizer = Tokenizer(num_words=VOCAB_SIZE)\n",
    "tokenizer.fit_on_texts(train_data[\"sentence\"])"
   ]
  },
  {
   "cell_type": "code",
   "execution_count": 15,
   "metadata": {},
   "outputs": [],
   "source": [
    "train_text = pad_sequences(tokenizer.texts_to_sequences(train_data[\"sentence\"]), maxlen=MAX_SEQ_LENGTH)\n",
    "val_text = pad_sequences(tokenizer.texts_to_sequences(val_data[\"sentence\"]), maxlen=MAX_SEQ_LENGTH)\n",
    "test_text = pad_sequences(tokenizer.texts_to_sequences(test_data[\"sentence\"]), maxlen=MAX_SEQ_LENGTH)"
   ]
  },
  {
   "cell_type": "code",
   "execution_count": 17,
   "metadata": {},
   "outputs": [],
   "source": [
    "image_input = Input(shape=(224, 224, 3))\n",
    "base_model = ResNet50(weights=\"imagenet\", include_top=False, input_tensor=image_input)\n",
    "x = GlobalAveragePooling2D()(base_model.output)\n",
    "x = Dense(128, activation=\"relu\")(x)\n",
    "x = Dense(64, activation=\"relu\")(x)\n",
    "image_output = Dense(1, activation=\"sigmoid\")(x) \n",
    "image_model = Model(inputs=image_input, outputs=image_output)"
   ]
  },
  {
   "cell_type": "code",
   "execution_count": 18,
   "metadata": {},
   "outputs": [],
   "source": [
    "from tensorflow.keras.optimizers import Adam\n",
    "# Compile Image Model\n",
    "image_model.compile(optimizer=Adam(learning_rate=0.001), loss=\"binary_crossentropy\", metrics=[\"accuracy\"])"
   ]
  },
  {
   "cell_type": "code",
   "execution_count": 19,
   "metadata": {},
   "outputs": [
    {
     "name": "stdout",
     "output_type": "stream",
     "text": [
      "Epoch 1/7\n",
      "14/14 [==============================] - 115s 7s/step - loss: 0.9306 - accuracy: 0.4921 - val_loss: 15749.9795 - val_accuracy: 0.6107\n",
      "Epoch 2/7\n",
      "14/14 [==============================] - 107s 8s/step - loss: 0.7107 - accuracy: 0.5843 - val_loss: 14976.2432 - val_accuracy: 0.3893\n",
      "Epoch 3/7\n",
      "14/14 [==============================] - 105s 8s/step - loss: 0.6947 - accuracy: 0.6067 - val_loss: 3097.2295 - val_accuracy: 0.3893\n",
      "Epoch 4/7\n",
      "14/14 [==============================] - 103s 7s/step - loss: 0.6611 - accuracy: 0.5978 - val_loss: 123.9914 - val_accuracy: 0.6107\n",
      "Epoch 5/7\n",
      "14/14 [==============================] - 104s 7s/step - loss: 0.6731 - accuracy: 0.6247 - val_loss: 348.0192 - val_accuracy: 0.3893\n",
      "Epoch 6/7\n",
      "14/14 [==============================] - 101s 7s/step - loss: 0.6496 - accuracy: 0.6809 - val_loss: 0.6764 - val_accuracy: 0.6107\n",
      "Epoch 7/7\n",
      "14/14 [==============================] - 107s 8s/step - loss: 0.6469 - accuracy: 0.6517 - val_loss: 26.1597 - val_accuracy: 0.6107\n"
     ]
    }
   ],
   "source": [
    "image_history = image_model.fit(\n",
    "    train_images, \n",
    "    train_data[\"label\"], \n",
    "    validation_data=(val_images, val_data[\"label\"]), \n",
    "    epochs=7, \n",
    "    batch_size=32\n",
    ")"
   ]
  },
  {
   "cell_type": "code",
   "execution_count": 20,
   "metadata": {},
   "outputs": [
    {
     "name": "stdout",
     "output_type": "stream",
     "text": [
      "5/5 [==============================] - 8s 1s/step\n"
     ]
    },
    {
     "data": {
      "image/png": "[encoded data removed]",
      "text/plain": [
       "<Figure size 600x600 with 2 Axes>"
      ]
     },
     "metadata": {},
     "output_type": "display_data"
    }
   ],
   "source": [
    "from sklearn.metrics import confusion_matrix, classification_report\n",
    "import seaborn as sns\n",
    "import matplotlib.pyplot as plt\n",
    "\n",
    "image_predictions = image_model.predict(test_images)\n",
    "image_predictions_binary = (image_predictions > 0.5).astype(int)  # Convert probabilities to 0 or 1\n",
    "\n",
    "# Compute Confusion Matrix\n",
    "image_conf_matrix = confusion_matrix(test_data[\"label\"], image_predictions_binary)\n",
    "\n",
    "# Visualize Confusion Matrix\n",
    "plt.figure(figsize=(6, 6))\n",
    "sns.heatmap(image_conf_matrix, annot=True, fmt=\"d\", cmap=\"Blues\", xticklabels=[\"Non-Offensive\", \"Offensive\"], yticklabels=[\"Non-Offensive\", \"Offensive\"])\n",
    "plt.title(\"Confusion Matrix: ResNet50 (Image Model)\")\n",
    "plt.xlabel(\"Predicted Labels\")\n",
    "plt.ylabel(\"True Labels\")\n",
    "plt.show()"
   ]
  },
  {
   "cell_type": "code",
   "execution_count": 22,
   "metadata": {},
   "outputs": [],
   "source": [
    "image_model.save(\"image_model.h5\")"
   ]
  },
  {
   "cell_type": "code",
   "execution_count": 23,
   "metadata": {},
   "outputs": [],
   "source": [
    "from tensorflow.keras.layers import Embedding, LSTM, Bidirectional, Dropout\n",
    "from tensorflow.keras.preprocessing.text import Tokenizer\n",
    "from tensorflow.keras.preprocessing.sequence import pad_sequences\n",
    "\n",
    "text_input = Input(shape=(MAX_SEQ_LENGTH,))\n",
    "embedding_layer = Embedding(VOCAB_SIZE, EMBEDDING_DIM, input_length=MAX_SEQ_LENGTH)(text_input)\n",
    "x = Bidirectional(LSTM(128, return_sequences=True))(embedding_layer)\n",
    "x = Dropout(0.5)(x)\n",
    "x = Bidirectional(LSTM(128))(x)\n",
    "x = Dense(64, activation=\"relu\")(x)\n",
    "text_output = Dense(1, activation=\"sigmoid\")(x)  # Binary classification\n",
    "text_model = Model(inputs=text_input, outputs=text_output)\n",
    "\n",
    "# Compile Text Model\n",
    "text_model.compile(optimizer=Adam(learning_rate=0.001), loss=\"binary_crossentropy\", metrics=[\"accuracy\"])\n"
   ]
  },
  {
   "cell_type": "code",
   "execution_count": 24,
   "metadata": {},
   "outputs": [
    {
     "name": "stdout",
     "output_type": "stream",
     "text": [
      "Epoch 1/10\n",
      "14/14 [==============================] - 65s 4s/step - loss: 0.6854 - accuracy: 0.5753 - val_loss: 0.6727 - val_accuracy: 0.6107\n",
      "Epoch 2/10\n",
      "14/14 [==============================] - 62s 5s/step - loss: 0.6734 - accuracy: 0.5820 - val_loss: 0.6708 - val_accuracy: 0.6107\n",
      "Epoch 3/10\n",
      "14/14 [==============================] - 66s 5s/step - loss: 0.4742 - accuracy: 0.7910 - val_loss: 2.3551 - val_accuracy: 0.6242\n",
      "Epoch 4/10\n",
      "14/14 [==============================] - 68s 5s/step - loss: 0.2251 - accuracy: 0.9281 - val_loss: 1.1911 - val_accuracy: 0.5772\n",
      "Epoch 5/10\n",
      "14/14 [==============================] - 66s 5s/step - loss: 0.0948 - accuracy: 0.9753 - val_loss: 1.3221 - val_accuracy: 0.5436\n",
      "Epoch 6/10\n",
      "14/14 [==============================] - 69s 5s/step - loss: 0.0880 - accuracy: 0.9708 - val_loss: 1.0869 - val_accuracy: 0.5101\n",
      "Epoch 7/10\n",
      "14/14 [==============================] - 76s 5s/step - loss: 0.0537 - accuracy: 0.9865 - val_loss: 1.7468 - val_accuracy: 0.5772\n",
      "Epoch 8/10\n",
      "14/14 [==============================] - 67s 5s/step - loss: 0.0661 - accuracy: 0.9753 - val_loss: 1.3833 - val_accuracy: 0.5369\n",
      "Epoch 9/10\n",
      "14/14 [==============================] - 66s 5s/step - loss: 0.0390 - accuracy: 0.9865 - val_loss: 1.3606 - val_accuracy: 0.5772\n",
      "Epoch 10/10\n",
      "14/14 [==============================] - 78s 5s/step - loss: 0.0411 - accuracy: 0.9843 - val_loss: 1.4043 - val_accuracy: 0.5839\n"
     ]
    }
   ],
   "source": [
    "text_history = text_model.fit(\n",
    "    train_text, \n",
    "    train_data[\"label\"], \n",
    "    validation_data=(val_text, val_data[\"label\"]), \n",
    "    epochs=10, \n",
    "    batch_size=32\n",
    ")"
   ]
  },
  {
   "cell_type": "code",
   "execution_count": 25,
   "metadata": {},
   "outputs": [
    {
     "name": "stdout",
     "output_type": "stream",
     "text": [
      "5/5 [==============================] - 5s 752ms/step\n"
     ]
    },
    {
     "data": {
      "image/png": "[encoded data removed]",
      "text/plain": [
       "<Figure size 600x600 with 2 Axes>"
      ]
     },
     "metadata": {},
     "output_type": "display_data"
    },
    {
     "name": "stdout",
     "output_type": "stream",
     "text": [
      "Classification Report for LSTM:\n",
      "               precision    recall  f1-score   support\n",
      "\n",
      "Non-Offensive       0.68      0.69      0.68        91\n",
      "    Offensive       0.50      0.48      0.49        58\n",
      "\n",
      "     accuracy                           0.61       149\n",
      "    macro avg       0.59      0.59      0.59       149\n",
      " weighted avg       0.61      0.61      0.61       149\n",
      "\n"
     ]
    }
   ],
   "source": [
    "# Predict with the LSTM model\n",
    "text_predictions = text_model.predict(test_text)\n",
    "text_predictions_binary = (text_predictions > 0.5).astype(int)  # Convert probabilities to 0 or 1\n",
    "\n",
    "# Compute Confusion Matrix\n",
    "text_conf_matrix = confusion_matrix(test_data[\"label\"], text_predictions_binary)\n",
    "\n",
    "# Visualize Confusion Matrix\n",
    "plt.figure(figsize=(6, 6))\n",
    "sns.heatmap(text_conf_matrix, annot=True, fmt=\"d\", cmap=\"Blues\", xticklabels=[\"Non-Offensive\", \"Offensive\"], yticklabels=[\"Non-Offensive\", \"Offensive\"])\n",
    "plt.title(\"Confusion Matrix: LSTM (Text Model)\")\n",
    "plt.xlabel(\"Predicted Labels\")\n",
    "plt.ylabel(\"True Labels\")\n",
    "plt.show()\n",
    "\n",
    "# Classification Report\n",
    "print(\"Classification Report for LSTM:\")\n",
    "print(classification_report(test_data[\"label\"], text_predictions_binary, target_names=[\"Non-Offensive\", \"Offensive\"]))\n"
   ]
  },
  {
   "cell_type": "code",
   "execution_count": 26,
   "metadata": {},
   "outputs": [],
   "source": [
    "text_model.save(\"text_model.h5\")"
   ]
  },
  {
   "cell_type": "code",
   "execution_count": 27,
   "metadata": {},
   "outputs": [],
   "source": [
    "from tensorflow.keras.models import load_model\n",
    "from tensorflow.keras.layers import Concatenate\n",
    "\n",
    "# Load Pretrained Models\n",
    "pretrained_image_model = load_model(\"image_model.h5\")\n",
    "pretrained_text_model = load_model(\"text_model.h5\")"
   ]
  },
  {
   "cell_type": "code",
   "execution_count": 28,
   "metadata": {},
   "outputs": [],
   "source": [
    "# Freeze the Pretrained Models\n",
    "for layer in pretrained_image_model.layers:\n",
    "    layer.trainable = False\n",
    "for layer in pretrained_text_model.layers:\n",
    "    layer.trainable = False"
   ]
  },
  {
   "cell_type": "code",
   "execution_count": 31,
   "metadata": {},
   "outputs": [],
   "source": [
    "# Combine Models\n",
    "image_features = pretrained_image_model.get_layer(\"dense_3\").output  # Adjust the layer name if necessary\n",
    "text_features = pretrained_text_model.get_layer(\"dense_5\").output  # Adjust the layer name if necessary"
   ]
  },
  {
   "cell_type": "code",
   "execution_count": 32,
   "metadata": {},
   "outputs": [],
   "source": [
    "combined_features = Concatenate()([image_features, text_features])\n",
    "x = Dense(128, activation=\"relu\")(combined_features)\n",
    "x = Dropout(0.5)(x)\n",
    "x = Dense(64, activation=\"relu\")(x)\n",
    "final_output = Dense(1, activation=\"sigmoid\")(x)\n",
    "\n",
    "# Final Multimodal Model\n",
    "final_model = Model(inputs=[pretrained_image_model.input, pretrained_text_model.input], outputs=final_output)\n",
    "\n"
   ]
  },
  {
   "cell_type": "code",
   "execution_count": 33,
   "metadata": {},
   "outputs": [],
   "source": [
    "# Compile Final Model\n",
    "final_model.compile(optimizer=Adam(learning_rate=0.0001), loss=\"binary_crossentropy\", metrics=[\"accuracy\"])\n"
   ]
  },
  {
   "cell_type": "code",
   "execution_count": 34,
   "metadata": {},
   "outputs": [
    {
     "name": "stdout",
     "output_type": "stream",
     "text": [
      "Epoch 1/10\n",
      "14/14 [==============================] - 46s 3s/step - loss: 0.6741 - accuracy: 0.7528 - val_loss: 0.6985 - val_accuracy: 0.4497\n",
      "Epoch 2/10\n",
      "14/14 [==============================] - 38s 3s/step - loss: 0.6617 - accuracy: 0.9393 - val_loss: 0.7002 - val_accuracy: 0.4497\n",
      "Epoch 3/10\n",
      "14/14 [==============================] - 38s 3s/step - loss: 0.6543 - accuracy: 0.9685 - val_loss: 0.7020 - val_accuracy: 0.4564\n",
      "Epoch 4/10\n",
      "14/14 [==============================] - 37s 3s/step - loss: 0.6426 - accuracy: 0.9798 - val_loss: 0.7042 - val_accuracy: 0.4631\n",
      "Epoch 5/10\n",
      "14/14 [==============================] - 37s 3s/step - loss: 0.6336 - accuracy: 0.9753 - val_loss: 0.7066 - val_accuracy: 0.4631\n",
      "Epoch 6/10\n",
      "14/14 [==============================] - 39s 3s/step - loss: 0.6226 - accuracy: 0.9865 - val_loss: 0.7093 - val_accuracy: 0.4497\n",
      "Epoch 7/10\n",
      "14/14 [==============================] - 40s 3s/step - loss: 0.6156 - accuracy: 0.9843 - val_loss: 0.7123 - val_accuracy: 0.4564\n",
      "Epoch 8/10\n",
      "14/14 [==============================] - 41s 3s/step - loss: 0.6089 - accuracy: 0.9843 - val_loss: 0.7153 - val_accuracy: 0.4631\n",
      "Epoch 9/10\n",
      "14/14 [==============================] - 40s 3s/step - loss: 0.6016 - accuracy: 0.9865 - val_loss: 0.7192 - val_accuracy: 0.4698\n",
      "Epoch 10/10\n",
      "14/14 [==============================] - 40s 3s/step - loss: 0.5890 - accuracy: 0.9888 - val_loss: 0.7230 - val_accuracy: 0.4765\n"
     ]
    }
   ],
   "source": [
    "# Train Final Model\n",
    "final_history = final_model.fit(\n",
    "    [train_images, train_text],\n",
    "    train_data[\"label\"],\n",
    "    validation_data=([val_images, val_text], val_data[\"label\"]),\n",
    "    epochs=10,\n",
    "    batch_size=32\n",
    ")"
   ]
  },
  {
   "cell_type": "code",
   "execution_count": 35,
   "metadata": {},
   "outputs": [
    {
     "name": "stdout",
     "output_type": "stream",
     "text": [
      "5/5 [==============================] - 11s 2s/step\n"
     ]
    },
    {
     "data": {
      "image/png": "[encoded data removed]",
      "text/plain": [
       "<Figure size 600x600 with 2 Axes>"
      ]
     },
     "metadata": {},
     "output_type": "display_data"
    },
    {
     "name": "stdout",
     "output_type": "stream",
     "text": [
      "Classification Report for Multimodal Model:\n",
      "               precision    recall  f1-score   support\n",
      "\n",
      "Non-Offensive       0.76      0.48      0.59        91\n",
      "    Offensive       0.48      0.76      0.59        58\n",
      "\n",
      "     accuracy                           0.59       149\n",
      "    macro avg       0.62      0.62      0.59       149\n",
      " weighted avg       0.65      0.59      0.59       149\n",
      "\n"
     ]
    }
   ],
   "source": [
    "# Predict with the Multimodal Model\n",
    "final_predictions = final_model.predict([test_images, test_text])\n",
    "final_predictions_binary = (final_predictions > 0.5).astype(int)  # Convert probabilities to 0 or 1\n",
    "\n",
    "# Compute Confusion Matrix\n",
    "final_conf_matrix = confusion_matrix(test_data[\"label\"], final_predictions_binary)\n",
    "\n",
    "# Visualize Confusion Matrix\n",
    "plt.figure(figsize=(6, 6))\n",
    "sns.heatmap(final_conf_matrix, annot=True, fmt=\"d\", cmap=\"Blues\", xticklabels=[\"Non-Offensive\", \"Offensive\"], yticklabels=[\"Non-Offensive\", \"Offensive\"])\n",
    "plt.title(\"Confusion Matrix: Multimodal Model\")\n",
    "plt.xlabel(\"Predicted Labels\")\n",
    "plt.ylabel(\"True Labels\")\n",
    "plt.show()\n",
    "\n",
    "# Classification Report\n",
    "print(\"Classification Report for Multimodal Model:\")\n",
    "print(classification_report(test_data[\"label\"], final_predictions_binary, target_names=[\"Non-Offensive\", \"Offensive\"]))\n"
   ]
  },
  {
   "cell_type": "code",
   "execution_count": 36,
   "metadata": {},
   "outputs": [],
   "source": [
    "final_model.save(\"final_model_ac59.h5\")"
   ]
  },
  {
   "cell_type": "code",
   "execution_count": null,
   "metadata": {},
   "outputs": [],
   "source": []
  }
 ],
 "metadata": {
  "kernelspec": {
   "display_name": ".venv",
   "language": "python",
   "name": "python3"
  },
  "language_info": {
   "codemirror_mode": {
    "name": "ipython",
    "version": 3
   },
   "file_extension": ".py",
   "mimetype": "text/x-python",
   "name": "python",
   "nbconvert_exporter": "python",
   "pygments_lexer": "ipython3",
   "version": "3.7.4"
  }
 },
 "nbformat": 4,
 "nbformat_minor": 2
}
