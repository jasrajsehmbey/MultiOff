{
 "cells": [
  {
   "cell_type": "code",
   "execution_count": 16,
   "metadata": {
    "scrolled": true
   },
   "outputs": [],
   "source": [
    "# Importing all the necessary libraries\n",
    "import keras\n",
    "import h5py\n",
    "from keras import optimizers\n",
    "from keras.models import load_model\n",
    "from keras.layers import Bidirectional\n",
    "from Multimodal_baseline_Functions import *\n",
    "from keras.layers.core import Reshape, Dropout\n",
    "from keras.utils.vis_utils import plot_model\n",
    "import os\n",
    "# import keras_metrics\n",
    "import matplotlib.pyplot as plt\n",
    "from keras.layers import Conv1D, MaxPooling1D, Flatten, GlobalAveragePooling3D\n",
    "from keras import regularizers\n",
    "import seaborn as sns\n",
    "import matplotlib.pyplot as plt   \n",
    "from sklearn.metrics import confusion_matrix\n",
    "from keras import regularizers  \n",
    "from keras.applications.inception_v3 import InceptionV3"
   ]
  },
  {
   "cell_type": "code",
   "execution_count": 17,
   "metadata": {},
   "outputs": [],
   "source": [
    "# Storing directory of glove embeddings\n",
    "GLOVE_DIR = \"C:\\\\Users\\\\jasra\\\\OneDrive\\\\Desktop\\\\MAJOR PROJECT\\\\glove.6B\"\n",
    "EMBEDDING_DIM = 50"
   ]
  },
  {
   "cell_type": "code",
   "execution_count": 18,
   "metadata": {},
   "outputs": [],
   "source": [
    "# Assigning class weights\n",
    "class_weight = {1: 1.4,\n",
    "                0: 1.}"
   ]
  },
  {
   "cell_type": "code",
   "execution_count": 19,
   "metadata": {},
   "outputs": [],
   "source": [
    "# Defining model with Adam optimizer\n",
    "adam = keras.optimizers.Adam(lr=0.001, beta_1=0.9, beta_2=0.999, epsilon=None, decay=0.0, amsgrad=False)\n",
    "sgd = optimizers.SGD(lr=0.001, decay=1e-6, momentum=0.9, nesterov=True)\n",
    "adadelta = optimizers.Adadelta(lr=1.0, rho=0.95, epsilon=None, decay=0.0)"
   ]
  },
  {
   "cell_type": "code",
   "execution_count": 20,
   "metadata": {},
   "outputs": [],
   "source": [
    "def Image_model(base_model):\n",
    "    # Freezing all the trainable layers\n",
    "    for layer in base_model.layers:\n",
    "        layer.trainable = False\n",
    "\n",
    "    # Creating output layer\n",
    "    x = base_model.output\n",
    "    # Adding pooling layer before the output\n",
    "    x = GlobalAveragePooling2D()(x)\n",
    "    return x"
   ]
  },
  {
   "cell_type": "code",
   "execution_count": 21,
   "metadata": {},
   "outputs": [],
   "source": [
    "def read_data(file_name):\n",
    "  #Opening file\n",
    "    with open(file_name,'r', encoding=\"utf8\") as f:\n",
    "      #Creating empty set and dictonary for vocab and word respectively\n",
    "        word_vocab = set() \n",
    "        word2vector = {}\n",
    "        #Iterating over each line of file\n",
    "        for line in f:\n",
    "            #Spliting lines\n",
    "            line_ = line.strip() \n",
    "            #Splitting words\n",
    "            words_Vec = line_.split()            \n",
    "            word_vocab.add(words_Vec[0])\n",
    "            word2vector[words_Vec[0]] = np.array(words_Vec[1:],dtype=float)\n",
    "    print(\"Total Words in DataSet:\",len(word_vocab))\n",
    "    return word_vocab,word2vector"
   ]
  },
  {
   "cell_type": "code",
   "execution_count": 22,
   "metadata": {},
   "outputs": [],
   "source": [
    "# Dividing data in test, train, validation\n",
    "training_DF, testing_DF, validation_DF = preprocess_text(Training_path,Validation_path, Testing_path)"
   ]
  },
  {
   "cell_type": "code",
   "execution_count": 23,
   "metadata": {},
   "outputs": [],
   "source": [
    "# Processing image and text for each set\n",
    "# Creating train, test and validation image path\n",
    "train_img_path = create_img_path(training_DF,'image_name', img_dir)\n",
    "test_img_path = create_img_path(testing_DF,'image_name', img_dir)\n",
    "val_img_path = create_img_path(validation_DF,'image_name', img_dir)\n",
    "\n",
    "# Processing the text\n",
    "training_DF['sentence'] = training_DF['sentence'].apply(clean_text)\n",
    "testing_DF['sentence'] = testing_DF['sentence'].apply(clean_text)\n",
    "validation_DF['sentence'] = validation_DF['sentence'].apply(clean_text)"
   ]
  },
  {
   "cell_type": "code",
   "execution_count": 24,
   "metadata": {},
   "outputs": [],
   "source": [
    "# Vectorising text\n",
    "# process the whole observation into single list\n",
    "train_text_list=list(training_DF['sentence'])\n",
    "test_text_list = list(testing_DF['sentence'])\n",
    "val_text_list = list(validation_DF['sentence'])\n",
    "\n",
    "# Creating vectors for train, test, validation\n",
    "tokenizer = Tokenizer(num_words=1000)\n",
    "tokenizer.fit_on_texts(train_text_list)\n",
    "sequences_train = tokenizer.texts_to_sequences(train_text_list)\n",
    "sequences_test = tokenizer.texts_to_sequences(test_text_list)\n",
    "sequences_val = tokenizer.texts_to_sequences(val_text_list)\n",
    "\n",
    "x_train = preprocessing.sequence.pad_sequences(sequences_train, maxlen=maxlen)\n",
    "x_test = preprocessing.sequence.pad_sequences(sequences_test, maxlen=maxlen)\n",
    "x_val = preprocessing.sequence.pad_sequences(sequences_val, maxlen=maxlen)\n",
    "\n",
    "# encoding all the labels \n",
    "y_test = testing_DF['label']\n",
    "y_train = training_DF['label']\n",
    "y_val = validation_DF['label']"
   ]
  },
  {
   "cell_type": "code",
   "execution_count": 25,
   "metadata": {},
   "outputs": [],
   "source": [
    "# Creating train, test, val, generator for meme (gives -> {image,text in image, O/NO} )\n",
    "img_txt_gen_train = img_text_generator(train_img_path, x_train, y_train, batch_size=32)\n",
    "img_txt_gen_test = img_text_generator(test_img_path, x_test, y_test, batch_size=1)\n",
    "img_txt_gen_val = img_text_generator(val_img_path, x_val, y_val, batch_size=1)\n",
    "\n",
    "# Creating train, test, val, generator for text (gives -> {text in image, O/NO})\n",
    "txt_gen_train = text_generator(x_train, y_train, batch_size=32)\n",
    "txt_gen_test = text_generator(x_test, y_test, batch_size=1)\n",
    "txt_gen_val = text_generator(x_val, y_val, batch_size=1)\n",
    "\n",
    "# Creating train, test, val, generator for image (gives -> {image, O/NO})\n",
    "img_gen_train = image_generator(train_img_path, training_DF, batch_size=32)\n",
    "img_gen_test = image_generator(test_img_path, testing_DF, batch_size=1)\n",
    "img_gen_val = image_generator(val_img_path, validation_DF, batch_size=1)"
   ]
  },
  {
   "cell_type": "code",
   "execution_count": 26,
   "metadata": {},
   "outputs": [
    {
     "name": "stdout",
     "output_type": "stream",
     "text": [
      "Total Words in DataSet: 400000\n"
     ]
    }
   ],
   "source": [
    "# Creating vocabulary with glove embeddings\n",
    "vocab, w2v = read_data(os.path.join(GLOVE_DIR, \"glove.6B.50d.txt\"))"
   ]
  },
  {
   "cell_type": "code",
   "execution_count": 27,
   "metadata": {},
   "outputs": [],
   "source": [
    "# Creating word index\n",
    "word_index = tokenizer.word_index\n",
    "num_tokens = len(word_index)"
   ]
  },
  {
   "cell_type": "code",
   "execution_count": 28,
   "metadata": {},
   "outputs": [],
   "source": [
    "#Creating embeddding weight matrix\n",
    "embedding_matrix = np.zeros((num_tokens + 1, EMBEDDING_DIM))\n",
    "\n",
    "for word, i in word_index.items():\n",
    "    embedding_vector = w2v.get(word)\n",
    "    if embedding_vector is not None:\n",
    "        embedding_matrix[i] = embedding_vector"
   ]
  },
  {
   "cell_type": "code",
   "execution_count": 29,
   "metadata": {},
   "outputs": [],
   "source": [
    "#Creating embedded layer using embedded matrix as weight matrix\n",
    "embedding_layer = Embedding(num_tokens + 1, EMBEDDING_DIM, weights=[embedding_matrix], trainable = False)"
   ]
  },
  {
   "cell_type": "code",
   "execution_count": 16,
   "metadata": {},
   "outputs": [],
   "source": [
    "# Defining input layer\n",
    "main_input = Input(shape=(maxlen,), dtype='int32', name='main_input')\n",
    "\n",
    "# Defining embedding layer which will encode the input sequence\n",
    "embedded_sequences = embedding_layer(main_input)"
   ]
  },
  {
   "cell_type": "code",
   "execution_count": null,
   "metadata": {},
   "outputs": [
    {
     "name": "stderr",
     "output_type": "stream",
     "text": [
      "W1109 01:05:03.298506  5476 deprecation_wrapper.py:119] From d:\\anaconda\\envs\\btechproject\\lib\\site-packages\\keras\\backend\\tensorflow_backend.py:517: The name tf.placeholder is deprecated. Please use tf.compat.v1.placeholder instead.\n",
      "\n",
      "W1109 01:05:03.305695  5476 deprecation_wrapper.py:119] From d:\\anaconda\\envs\\btechproject\\lib\\site-packages\\keras\\backend\\tensorflow_backend.py:4138: The name tf.random_uniform is deprecated. Please use tf.random.uniform instead.\n",
      "\n",
      "W1109 01:05:03.348326  5476 deprecation_wrapper.py:119] From d:\\anaconda\\envs\\btechproject\\lib\\site-packages\\keras\\backend\\tensorflow_backend.py:174: The name tf.get_default_session is deprecated. Please use tf.compat.v1.get_default_session instead.\n",
      "\n",
      "W1109 01:05:03.350874  5476 deprecation_wrapper.py:119] From d:\\anaconda\\envs\\btechproject\\lib\\site-packages\\keras\\backend\\tensorflow_backend.py:181: The name tf.ConfigProto is deprecated. Please use tf.compat.v1.ConfigProto instead.\n",
      "\n"
     ]
    }
   ],
   "source": [
    "\n",
    "\n",
    "# # A LSTM will transform the vector sequence into a single vector,\n",
    "# # containing information about the entire sequence\n",
    "# lstm1 = LSTM(32, return_state=True)\n",
    "# encoder_outputs,state_h,state_c = (lstm1)(embedded_sequences)\n",
    "# states= [state_h,state_c]"
   ]
  },
  {
   "cell_type": "code",
   "execution_count": null,
   "metadata": {},
   "outputs": [],
   "source": [
    "# # Defining second LSTM\n",
    "# lstm2=LSTM(32, return_sequences=True, return_state=True)\n",
    "# # Adding initial state as state of  previous LSTM\n",
    "# decoder_out,_,_=lstm2(embedded_sequences,initial_state=states)\n",
    "# # Adding dense layer with 500 neurons\n",
    "# decoder_dense = (Dense(500, activation='relu'))\n",
    "# # LSTM output\n",
    "# lstm_out=(decoder_out)\n",
    "# # Flattening \n",
    "# lstm_out = Flatten()(lstm_out)\n",
    "# # Output of text model\n",
    "# txt_out = Dense(1, activation='sigmoid')(lstm_out)"
   ]
  },
  {
   "cell_type": "code",
   "execution_count": 17,
   "metadata": {},
   "outputs": [
    {
     "ename": "NameError",
     "evalue": "name 'txt_out' is not defined",
     "output_type": "error",
     "traceback": [
      "\u001b[1;31m---------------------------------------------------------------------------\u001b[0m",
      "\u001b[1;31mNameError\u001b[0m                                 Traceback (most recent call last)",
      "\u001b[1;32m<ipython-input-17-4b09f60183b1>\u001b[0m in \u001b[0;36m<module>\u001b[1;34m\u001b[0m\n\u001b[0;32m      1\u001b[0m \u001b[1;31m# Defining text model\u001b[0m\u001b[1;33m\u001b[0m\u001b[1;33m\u001b[0m\u001b[0m\n\u001b[1;32m----> 2\u001b[1;33m \u001b[0mtxt_model\u001b[0m \u001b[1;33m=\u001b[0m \u001b[0mModel\u001b[0m\u001b[1;33m(\u001b[0m\u001b[0minputs\u001b[0m \u001b[1;33m=\u001b[0m \u001b[1;33m[\u001b[0m\u001b[0mmain_input\u001b[0m\u001b[1;33m]\u001b[0m\u001b[1;33m,\u001b[0m \u001b[0moutputs\u001b[0m\u001b[1;33m=\u001b[0m\u001b[0mtxt_out\u001b[0m\u001b[1;33m)\u001b[0m\u001b[1;33m\u001b[0m\u001b[0m\n\u001b[0m",
      "\u001b[1;31mNameError\u001b[0m: name 'txt_out' is not defined"
     ]
    }
   ],
   "source": [
    "# # Defining text model\n",
    "# txt_model = Model(inputs = [main_input], outputs=txt_out)"
   ]
  },
  {
   "cell_type": "code",
   "execution_count": 30,
   "metadata": {},
   "outputs": [],
   "source": [
    "from keras.models import Model\n",
    "from keras.layers import Input, Dense, LSTM, Dropout, GlobalAveragePooling2D, Embedding, concatenate\n",
    "from keras.applications import ResNet50\n",
    "from keras.layers import Embedding"
   ]
  },
  {
   "cell_type": "code",
   "execution_count": 12,
   "metadata": {},
   "outputs": [
    {
     "name": "stderr",
     "output_type": "stream",
     "text": [
      "WARNING: Logging before flag parsing goes to stderr.\n",
      "W1127 13:36:22.085921 12592 deprecation_wrapper.py:119] From c:\\Users\\jasra\\OneDrive\\Desktop\\MAJOR PROJECT\\.venv\\lib\\site-packages\\keras\\backend\\tensorflow_backend.py:517: The name tf.placeholder is deprecated. Please use tf.compat.v1.placeholder instead.\n",
      "\n",
      "W1127 13:36:22.102040 12592 deprecation_wrapper.py:119] From c:\\Users\\jasra\\OneDrive\\Desktop\\MAJOR PROJECT\\.venv\\lib\\site-packages\\keras\\backend\\tensorflow_backend.py:4185: The name tf.truncated_normal is deprecated. Please use tf.random.truncated_normal instead.\n",
      "\n",
      "W1127 13:36:22.131048 12592 deprecation_wrapper.py:119] From c:\\Users\\jasra\\OneDrive\\Desktop\\MAJOR PROJECT\\.venv\\lib\\site-packages\\keras\\backend\\tensorflow_backend.py:245: The name tf.get_default_graph is deprecated. Please use tf.compat.v1.get_default_graph instead.\n",
      "\n",
      "W1127 13:36:22.132048 12592 deprecation_wrapper.py:119] From c:\\Users\\jasra\\OneDrive\\Desktop\\MAJOR PROJECT\\.venv\\lib\\site-packages\\keras\\backend\\tensorflow_backend.py:174: The name tf.get_default_session is deprecated. Please use tf.compat.v1.get_default_session instead.\n",
      "\n",
      "W1127 13:36:22.133044 12592 deprecation_wrapper.py:119] From c:\\Users\\jasra\\OneDrive\\Desktop\\MAJOR PROJECT\\.venv\\lib\\site-packages\\keras\\backend\\tensorflow_backend.py:181: The name tf.ConfigProto is deprecated. Please use tf.compat.v1.ConfigProto instead.\n",
      "\n",
      "W1127 13:36:22.233659 12592 deprecation_wrapper.py:119] From c:\\Users\\jasra\\OneDrive\\Desktop\\MAJOR PROJECT\\.venv\\lib\\site-packages\\keras\\backend\\tensorflow_backend.py:1834: The name tf.nn.fused_batch_norm is deprecated. Please use tf.compat.v1.nn.fused_batch_norm instead.\n",
      "\n",
      "W1127 13:36:22.291103 12592 deprecation_wrapper.py:119] From c:\\Users\\jasra\\OneDrive\\Desktop\\MAJOR PROJECT\\.venv\\lib\\site-packages\\keras\\backend\\tensorflow_backend.py:3976: The name tf.nn.max_pool is deprecated. Please use tf.nn.max_pool2d instead.\n",
      "\n",
      "c:\\Users\\jasra\\OneDrive\\Desktop\\MAJOR PROJECT\\.venv\\lib\\site-packages\\keras_applications\\resnet50.py:265: UserWarning: The output shape of `ResNet50(include_top=False)` has been changed since Keras 2.2.0.\n",
      "  warnings.warn('The output shape of `ResNet50(include_top=False)` '\n",
      "W1127 13:36:29.974310 12592 deprecation_wrapper.py:119] From c:\\Users\\jasra\\OneDrive\\Desktop\\MAJOR PROJECT\\.venv\\lib\\site-packages\\keras\\optimizers.py:790: The name tf.train.Optimizer is deprecated. Please use tf.compat.v1.train.Optimizer instead.\n",
      "\n",
      "W1127 13:36:29.982507 12592 deprecation.py:323] From c:\\Users\\jasra\\OneDrive\\Desktop\\MAJOR PROJECT\\.venv\\lib\\site-packages\\tensorflow\\python\\ops\\nn_impl.py:180: add_dispatch_support.<locals>.wrapper (from tensorflow.python.ops.array_ops) is deprecated and will be removed in a future version.\n",
      "Instructions for updating:\n",
      "Use tf.where in 2.0, which has the same broadcast rule as np.where\n"
     ]
    }
   ],
   "source": [
    "# Image Input and CNN\n",
    "image_input = Input(shape=(224, 224, 3), name='image_input')\n",
    "base_cnn = ResNet50(weights='imagenet', include_top=False, input_tensor=image_input)\n",
    "cnn_out = GlobalAveragePooling2D()(base_cnn.output)\n",
    "cnn_out = Dense(128, activation='relu')(cnn_out)\n",
    "img_prediction_layer = Dense(1, activation='sigmoid')(cnn_out)\n",
    "# pre_trained_image_model = VGG16(weights='imagenet', include_top=False)\n",
    "img_model = Model(inputs = [base_cnn.input], outputs=img_prediction_layer)\n",
    "img_model.compile(loss='binary_crossentropy', optimizer=adam, metrics = [\"accuracy\"])\n"
   ]
  },
  {
   "cell_type": "code",
   "execution_count": 13,
   "metadata": {},
   "outputs": [
    {
     "name": "stdout",
     "output_type": "stream",
     "text": [
      "Epoch 1/7\n",
      "13/13 [==============================] - 255s 20s/step - loss: 0.1758 - acc: 0.9495 - val_loss: 0.0613 - val_acc: 1.0000\n",
      "Epoch 2/7\n",
      "13/13 [==============================] - 242s 19s/step - loss: 9.1386e-04 - acc: 1.0000 - val_loss: 1.1921e-07 - val_acc: 1.0000\n",
      "Epoch 3/7\n",
      "13/13 [==============================] - 235s 18s/step - loss: 3.2752e-05 - acc: 1.0000 - val_loss: 9.5367e-07 - val_acc: 1.0000\n",
      "Epoch 4/7\n",
      "13/13 [==============================] - 243s 19s/step - loss: 7.9087e-06 - acc: 1.0000 - val_loss: 4.7504e-04 - val_acc: 1.0000\n",
      "Epoch 5/7\n",
      "13/13 [==============================] - 232s 18s/step - loss: 3.7491e-06 - acc: 1.0000 - val_loss: 0.0023 - val_acc: 1.0000\n",
      "Epoch 6/7\n",
      "13/13 [==============================] - 233s 18s/step - loss: 2.3595e-06 - acc: 1.0000 - val_loss: 0.0049 - val_acc: 1.0000\n",
      "Epoch 7/7\n",
      "13/13 [==============================] - 238s 18s/step - loss: 1.7808e-06 - acc: 1.0000 - val_loss: 0.0081 - val_acc: 1.0000\n"
     ]
    },
    {
     "data": {
      "text/plain": [
       "<keras.callbacks.History at 0x18830e74cc0>"
      ]
     },
     "execution_count": 13,
     "metadata": {},
     "output_type": "execute_result"
    }
   ],
   "source": [
    "img_model.fit_generator(img_gen_train,\n",
    "                        epochs=7,\n",
    "                        validation_steps = len(x_val)//32,\n",
    "                        steps_per_epoch=len(x_train)//32, \n",
    "                        validation_data=img_gen_val, \n",
    "                        shuffle=False, \n",
    "                        class_weight=class_weight)"
   ]
  },
  {
   "cell_type": "code",
   "execution_count": 14,
   "metadata": {},
   "outputs": [],
   "source": [
    "img_model.save('image_model_1.00ac.h5')"
   ]
  },
  {
   "cell_type": "code",
   "execution_count": 31,
   "metadata": {},
   "outputs": [],
   "source": [
    "from keras.models import load_model\n",
    "\n",
    "# Load the model into the img_model variable\n",
    "img_model = load_model('image_model_1.00ac.h5')"
   ]
  },
  {
   "cell_type": "code",
   "execution_count": 34,
   "metadata": {},
   "outputs": [
    {
     "name": "stderr",
     "output_type": "stream",
     "text": [
      "W1127 19:23:33.542382 12592 deprecation.py:506] From c:\\Users\\jasra\\OneDrive\\Desktop\\MAJOR PROJECT\\.venv\\lib\\site-packages\\keras\\backend\\tensorflow_backend.py:3445: calling dropout (from tensorflow.python.ops.nn_ops) with keep_prob is deprecated and will be removed in a future version.\n",
      "Instructions for updating:\n",
      "Please use `rate` instead of `keep_prob`. Rate should be set to `rate = 1 - keep_prob`.\n"
     ]
    },
    {
     "name": "stdout",
     "output_type": "stream",
     "text": [
      "__________________________________________________________________________________________________\n",
      "Layer (type)                    Output Shape         Param #     Connected to                     \n",
      "==================================================================================================\n",
      "text_input (InputLayer)         (None, 1000)         0                                            \n",
      "__________________________________________________________________________________________________\n",
      "embedding_1 (Embedding)         (None, 1000, 50)     219000      text_input[0][0]                 \n",
      "__________________________________________________________________________________________________\n",
      "bidirectional_1 (Bidirectional) (None, 1000, 128)    58880       embedding_1[0][0]                \n",
      "__________________________________________________________________________________________________\n",
      "dense_3 (Dense)                 (None, 1000, 1)      129         bidirectional_1[0][0]            \n",
      "__________________________________________________________________________________________________\n",
      "flatten_1 (Flatten)             (None, 1000)         0           dense_3[0][0]                    \n",
      "__________________________________________________________________________________________________\n",
      "activation_50 (Activation)      (None, 1000)         0           flatten_1[0][0]                  \n",
      "__________________________________________________________________________________________________\n",
      "dot_1 (Dot)                     (None, 128)          0           bidirectional_1[0][0]            \n",
      "                                                                 activation_50[0][0]              \n",
      "__________________________________________________________________________________________________\n",
      "dense_4 (Dense)                 (None, 128)          16512       dot_1[0][0]                      \n",
      "__________________________________________________________________________________________________\n",
      "dropout_1 (Dropout)             (None, 128)          0           dense_4[0][0]                    \n",
      "__________________________________________________________________________________________________\n",
      "dense_5 (Dense)                 (None, 1)            129         dropout_1[0][0]                  \n",
      "==================================================================================================\n",
      "Total params: 294,650\n",
      "Trainable params: 75,650\n",
      "Non-trainable params: 219,000\n",
      "__________________________________________________________________________________________________\n"
     ]
    }
   ],
   "source": [
    "# # Text Input and LSTM\n",
    "# text_input = Input(shape=(maxlen,), dtype='int32', name='text_input')\n",
    "# embedded_text = embedding_layer(text_input)\n",
    "# lstm_out = LSTM(32)(embedded_text)/\n",
    "\n",
    "from keras.layers import Input, LSTM, Bidirectional, Dropout, Dense, Embedding\n",
    "from keras.layers import Activation, Dot\n",
    "from keras.models import Model\n",
    "\n",
    "# Text Input\n",
    "text_input = Input(shape=(maxlen,), dtype='int32', name='text_input')\n",
    "\n",
    "# Embedding Layer (using pre-trained GloVe embeddings)\n",
    "embedded_text = embedding_layer(text_input)\n",
    "\n",
    "# Bidirectional LSTM Layer\n",
    "lstm_out = Bidirectional(LSTM(64, return_sequences=True, dropout=0.2, recurrent_dropout=0.2))(embedded_text)\n",
    "\n",
    "# Attention Mechanism\n",
    "attention = Dense(1, activation='tanh')(lstm_out)\n",
    "attention = Flatten()(attention)\n",
    "attention_weights = Activation('softmax')(attention)\n",
    "context_vector = Dot(axes=1)([lstm_out, attention_weights])\n",
    "\n",
    "# Fully Connected Layer with Batch Normalization\n",
    "dense_out = Dense(128, activation='relu', kernel_regularizer=regularizers.l2(0.01))(context_vector)\n",
    "dense_out = Dropout(0.3)(dense_out)\n",
    "\n",
    "# Final Output Layer\n",
    "output = Dense(1, activation='sigmoid')(dense_out)\n",
    "\n",
    "# Define the Model\n",
    "text_model = Model(inputs=text_input, outputs=output)\n",
    "\n",
    "# Compile the Model\n",
    "text_model.compile(optimizer='adam', loss='binary_crossentropy', metrics=['accuracy'])\n",
    "text_model.summary()\n"
   ]
  },
  {
   "cell_type": "code",
   "execution_count": 35,
   "metadata": {},
   "outputs": [
    {
     "name": "stdout",
     "output_type": "stream",
     "text": [
      "Epoch 1/7\n",
      "13/13 [==============================] - 13s 968ms/step - loss: 1.9190 - acc: 0.5168 - val_loss: 1.6554 - val_acc: 0.5000\n",
      "Epoch 2/7\n",
      "13/13 [==============================] - 9s 681ms/step - loss: 1.6520 - acc: 0.5962 - val_loss: 1.4093 - val_acc: 0.7500\n",
      "Epoch 3/7\n",
      "13/13 [==============================] - 9s 707ms/step - loss: 1.4400 - acc: 0.5986 - val_loss: 1.2347 - val_acc: 0.5000\n",
      "Epoch 4/7\n",
      "13/13 [==============================] - 9s 728ms/step - loss: 1.2775 - acc: 0.5986 - val_loss: 1.0947 - val_acc: 0.5000\n",
      "Epoch 5/7\n",
      "13/13 [==============================] - 10s 737ms/step - loss: 1.1525 - acc: 0.5986 - val_loss: 0.9717 - val_acc: 0.7500\n",
      "Epoch 6/7\n",
      "13/13 [==============================] - 10s 754ms/step - loss: 1.0590 - acc: 0.5913 - val_loss: 0.9052 - val_acc: 0.5000\n",
      "Epoch 7/7\n",
      "13/13 [==============================] - 10s 765ms/step - loss: 0.9887 - acc: 0.5962 - val_loss: 0.8356 - val_acc: 0.7500\n"
     ]
    },
    {
     "data": {
      "text/plain": [
       "<keras.callbacks.History at 0x18853df5d30>"
      ]
     },
     "execution_count": 35,
     "metadata": {},
     "output_type": "execute_result"
    }
   ],
   "source": [
    "# Training text model\n",
    "text_model.fit_generator(txt_gen_train, \n",
    "                         epochs=7, \n",
    "                         validation_steps = len(x_val)//32, \n",
    "                         steps_per_epoch=len(x_train)//32, \n",
    "                         validation_data=txt_gen_val, \n",
    "                         shuffle = False, \n",
    "                         class_weight=class_weight)"
   ]
  },
  {
   "cell_type": "code",
   "execution_count": null,
   "metadata": {},
   "outputs": [],
   "source": [
    "con_layer = concatenate([text_model.output, img_model.output])\n",
    "dense = Dense(64, activation='relu')(con_layer)\n",
    "dropout = Dropout(0.3)(dense)\n",
    "out = Dense(1, activation='sigmoid')(dropout)\n",
    "com_model = Model(inputs = [img_model.input, text_model.input], outputs=out)\n",
    "sgd = optimizers.SGD(lr=0.001, decay=1e-6, momentum=0.9, nesterov=True)\n",
    "com_model.compile(loss='binary_crossentropy', optimizer=adam, metrics = [\"accuracy\"])"
   ]
  },
  {
   "cell_type": "code",
   "execution_count": 37,
   "metadata": {},
   "outputs": [
    {
     "name": "stdout",
     "output_type": "stream",
     "text": [
      "Epoch 1/7\n",
      "13/13 [==============================] - 328s 25s/step - loss: 0.9377 - acc: 0.5361 - val_loss: 0.6251 - val_acc: 1.0000\n",
      "Epoch 2/7\n",
      "13/13 [==============================] - 333s 26s/step - loss: 0.8675 - acc: 0.5553 - val_loss: 0.6777 - val_acc: 0.7500\n",
      "Epoch 3/7\n",
      "13/13 [==============================] - 338s 26s/step - loss: 0.8409 - acc: 0.5649 - val_loss: 0.7376 - val_acc: 0.5000\n",
      "Epoch 4/7\n",
      "13/13 [==============================] - 348s 27s/step - loss: 0.8116 - acc: 0.5529 - val_loss: 0.5791 - val_acc: 1.0000\n",
      "Epoch 5/7\n",
      "13/13 [==============================] - 347s 27s/step - loss: 0.8089 - acc: 0.5385 - val_loss: 0.6984 - val_acc: 0.5000\n",
      "Epoch 6/7\n",
      "13/13 [==============================] - 346s 27s/step - loss: 0.7826 - acc: 0.6034 - val_loss: 0.7725 - val_acc: 0.2500\n",
      "Epoch 7/7\n",
      "13/13 [==============================] - 349s 27s/step - loss: 0.7920 - acc: 0.5865 - val_loss: 0.5580 - val_acc: 1.0000\n"
     ]
    },
    {
     "data": {
      "text/plain": [
       "<keras.callbacks.History at 0x18853df55c0>"
      ]
     },
     "execution_count": 37,
     "metadata": {},
     "output_type": "execute_result"
    }
   ],
   "source": [
    "# Training\n",
    "com_model.fit_generator(\n",
    "    img_txt_gen_train,\n",
    "    validation_data=img_txt_gen_val,\n",
    "    steps_per_epoch=len(x_train)//32,\n",
    "    validation_steps=len(x_val)//32,\n",
    "    epochs=7,\n",
    "    class_weight=class_weight\n",
    ")"
   ]
  },
  {
   "cell_type": "code",
   "execution_count": 38,
   "metadata": {},
   "outputs": [],
   "source": [
    "com_model.save('newfinal_model_ac.h5')"
   ]
  },
  {
   "cell_type": "code",
   "execution_count": null,
   "metadata": {},
   "outputs": [
    {
     "name": "stderr",
     "output_type": "stream",
     "text": [
      "W1126 22:47:14.102974 32732 deprecation.py:506] From c:\\Users\\jasra\\OneDrive\\Desktop\\MAJOR PROJECT\\.venv\\lib\\site-packages\\keras\\backend\\tensorflow_backend.py:3445: calling dropout (from tensorflow.python.ops.nn_ops) with keep_prob is deprecated and will be removed in a future version.\n",
      "Instructions for updating:\n",
      "Please use `rate` instead of `keep_prob`. Rate should be set to `rate = 1 - keep_prob`.\n"
     ]
    }
   ],
   "source": [
    "# # Fusion\n",
    "# concat = concatenate([cnn_out, lstm_out])\n",
    "# dense = Dense(64, activation='relu')(concat)\n",
    "# dropout = Dropout(0.3)(dense)\n",
    "# output = Dense(1, activation='sigmoid')(dropout)\n"
   ]
  },
  {
   "cell_type": "code",
   "execution_count": null,
   "metadata": {},
   "outputs": [
    {
     "name": "stderr",
     "output_type": "stream",
     "text": [
      "W1126 22:47:25.526576 32732 deprecation_wrapper.py:119] From c:\\Users\\jasra\\OneDrive\\Desktop\\MAJOR PROJECT\\.venv\\lib\\site-packages\\keras\\optimizers.py:790: The name tf.train.Optimizer is deprecated. Please use tf.compat.v1.train.Optimizer instead.\n",
      "\n",
      "W1126 22:47:25.534574 32732 deprecation.py:323] From c:\\Users\\jasra\\OneDrive\\Desktop\\MAJOR PROJECT\\.venv\\lib\\site-packages\\tensorflow\\python\\ops\\nn_impl.py:180: add_dispatch_support.<locals>.wrapper (from tensorflow.python.ops.array_ops) is deprecated and will be removed in a future version.\n",
      "Instructions for updating:\n",
      "Use tf.where in 2.0, which has the same broadcast rule as np.where\n"
     ]
    }
   ],
   "source": [
    "# # Model\n",
    "# multi_model = Model(inputs=[image_input, text_input], outputs=output)\n",
    "# multi_model.compile(loss='binary_crossentropy', optimizer=adam, metrics=['accuracy'])\n"
   ]
  },
  {
   "cell_type": "code",
   "execution_count": 24,
   "metadata": {},
   "outputs": [
    {
     "name": "stdout",
     "output_type": "stream",
     "text": [
      "Epoch 1/7\n",
      "13/13 [==============================] - 253s 19s/step - loss: 1.0125 - acc: 0.6298 - val_loss: 4.6548 - val_acc: 0.5000\n",
      "Epoch 2/7\n",
      "13/13 [==============================] - 242s 19s/step - loss: 0.9472 - acc: 0.6202 - val_loss: 0.7432 - val_acc: 0.2500\n",
      "Epoch 3/7\n",
      "13/13 [==============================] - 239s 18s/step - loss: 1.0405 - acc: 0.6058 - val_loss: 15.9424 - val_acc: 0.0000e+00\n",
      "Epoch 4/7\n",
      "13/13 [==============================] - 254s 20s/step - loss: 0.8717 - acc: 0.5264 - val_loss: 4.5536 - val_acc: 0.2500\n",
      "Epoch 5/7\n",
      "13/13 [==============================] - 236s 18s/step - loss: 0.8111 - acc: 0.6202 - val_loss: 0.8940 - val_acc: 0.2500\n",
      "Epoch 6/7\n",
      "13/13 [==============================] - 231s 18s/step - loss: 0.7633 - acc: 0.6418 - val_loss: 2.1085 - val_acc: 0.5000\n",
      "Epoch 7/7\n",
      "13/13 [==============================] - 229s 18s/step - loss: 0.8146 - acc: 0.6442 - val_loss: 0.8201 - val_acc: 0.2500\n"
     ]
    },
    {
     "data": {
      "text/plain": [
       "<keras.callbacks.History at 0x1fbcec47978>"
      ]
     },
     "execution_count": 24,
     "metadata": {},
     "output_type": "execute_result"
    }
   ],
   "source": [
    "# Training\n",
    "multi_model.fit_generator(\n",
    "    img_txt_gen_train,\n",
    "    validation_data=img_txt_gen_val,\n",
    "    steps_per_epoch=len(x_train)//32,\n",
    "    validation_steps=len(x_val)//32,\n",
    "    epochs=7,\n",
    "    class_weight=class_weight\n",
    ")"
   ]
  },
  {
   "cell_type": "code",
   "execution_count": null,
   "metadata": {},
   "outputs": [],
   "source": [
    "# Saving text modelSS\n",
    "multi_model.save('final_model_0.6442ac.h5')"
   ]
  },
  {
   "cell_type": "code",
   "execution_count": 26,
   "metadata": {},
   "outputs": [],
   "source": [
    "# Predicting labels of the test set\n",
    "y_pred_com = (multi_model.predict_generator(img_txt_gen_test,steps = 149))\n",
    "y_pred_com = np.round(list(itertools.chain(*y_pred_com)))\n",
    "# Defining true labels\n",
    "y_true = y_test.values"
   ]
  },
  {
   "cell_type": "code",
   "execution_count": 27,
   "metadata": {},
   "outputs": [
    {
     "data": {
      "image/png": "[encoded data removed]",
      "text/plain": [
       "<Figure size 432x288 with 2 Axes>"
      ]
     },
     "metadata": {
      "needs_background": "light"
     },
     "output_type": "display_data"
    }
   ],
   "source": [
    "labels = [1,0]\n",
    "cm = confusion_matrix(y_true, y_pred_com, labels)\n",
    "ax= plt.subplot()\n",
    "sns.heatmap(cm, annot=True, ax = ax); #annot=True to annotate cells\n",
    "\n",
    "# labels, title and ticks\n",
    "ax.set_xlabel('Predicted labels');ax.set_ylabel('True labels'); \n",
    "ax.set_title('Confusion Matrix'); \n",
    "ax.xaxis.set_ticklabels(['offensive', 'non-offensive']); ax.yaxis.set_ticklabels(['offensive', 'non-offensive']);"
   ]
  },
  {
   "cell_type": "code",
   "execution_count": 28,
   "metadata": {},
   "outputs": [
    {
     "data": {
      "image/png": "[encoded data removed]",
      "text/plain": [
       "<Figure size 432x288 with 1 Axes>"
      ]
     },
     "metadata": {
      "needs_background": "light"
     },
     "output_type": "display_data"
    }
   ],
   "source": [
    "# Plotting training accuaracy \n",
    "plt.plot(multi_model.history.epoch, multi_model.history.history['acc'])\n",
    "plt.gca().legend(('meme model acc', 'image model acc'))\n",
    "plt.xlabel('epoch')\n",
    "plt.ylabel('training accuracy')\n",
    "plt.show()"
   ]
  },
  {
   "cell_type": "code",
   "execution_count": 29,
   "metadata": {},
   "outputs": [
    {
     "data": {
      "image/png": "[encoded data removed]",
      "text/plain": [
       "<Figure size 432x288 with 1 Axes>"
      ]
     },
     "metadata": {
      "needs_background": "light"
     },
     "output_type": "display_data"
    }
   ],
   "source": [
    "\n",
    "# Plotting validation accuracy\n",
    "plt.plot(multi_model.history.epoch, multi_model.history.history['val_acc'])\n",
    "plt.gca().legend(('meme model validation acc', 'image model validation acc'))\n",
    "plt.xlabel('epoch')\n",
    "plt.ylabel('validaion accuracy')\n",
    "plt.show()"
   ]
  },
  {
   "cell_type": "code",
   "execution_count": 30,
   "metadata": {},
   "outputs": [
    {
     "data": {
      "text/plain": [
       "[0.7797344565391541, 0.2]"
      ]
     },
     "execution_count": 30,
     "metadata": {},
     "output_type": "execute_result"
    }
   ],
   "source": [
    "# Evaluating model by calculating loss and accuracy respectively\n",
    "# for combined model\n",
    "multi_model.evaluate_generator(img_txt_gen_test, steps=5)"
   ]
  },
  {
   "cell_type": "code",
   "execution_count": null,
   "metadata": {
    "scrolled": true
   },
   "outputs": [
    {
     "name": "stderr",
     "output_type": "stream",
     "text": [
      "W1109 01:05:09.906090  5476 deprecation_wrapper.py:119] From d:\\anaconda\\envs\\btechproject\\lib\\site-packages\\keras\\optimizers.py:790: The name tf.train.Optimizer is deprecated. Please use tf.compat.v1.train.Optimizer instead.\n",
      "\n",
      "W1109 01:05:09.913822  5476 deprecation.py:323] From d:\\anaconda\\envs\\btechproject\\lib\\site-packages\\tensorflow\\python\\ops\\nn_impl.py:180: add_dispatch_support.<locals>.wrapper (from tensorflow.python.ops.array_ops) is deprecated and will be removed in a future version.\n",
      "Instructions for updating:\n",
      "Use tf.where in 2.0, which has the same broadcast rule as np.where\n"
     ]
    }
   ],
   "source": [
    "# # compiling text model\n",
    "# txt_model.compile(loss='binary_crossentropy', optimizer=adam, metrics = [\"accuracy\"])"
   ]
  },
  {
   "cell_type": "code",
   "execution_count": 20,
   "metadata": {
    "scrolled": true
   },
   "outputs": [
    {
     "name": "stdout",
     "output_type": "stream",
     "text": [
      "Epoch 1/7\n",
      "2/2 [==============================] - 19s 10s/step - loss: 0.8202 - acc: 0.4062 - val_loss: 0.7049 - val_acc: 0.4362\n",
      "Epoch 2/7\n",
      "2/2 [==============================] - 15s 7s/step - loss: 0.8100 - acc: 0.3750 - val_loss: 0.6913 - val_acc: 0.5436\n",
      "Epoch 3/7\n",
      "2/2 [==============================] - 15s 7s/step - loss: 0.7646 - acc: 0.6562 - val_loss: 0.6721 - val_acc: 0.6107\n",
      "Epoch 4/7\n",
      "2/2 [==============================] - 15s 7s/step - loss: 0.8411 - acc: 0.5625 - val_loss: 0.6731 - val_acc: 0.6107\n",
      "Epoch 5/7\n",
      "2/2 [==============================] - 15s 8s/step - loss: 0.8215 - acc: 0.5781 - val_loss: 0.6796 - val_acc: 0.6107\n",
      "Epoch 6/7\n",
      "2/2 [==============================] - 15s 7s/step - loss: 0.8039 - acc: 0.5781 - val_loss: 0.6876 - val_acc: 0.5973\n",
      "Epoch 7/7\n",
      "2/2 [==============================] - 15s 7s/step - loss: 0.8284 - acc: 0.6094 - val_loss: 0.7037 - val_acc: 0.4362\n"
     ]
    },
    {
     "data": {
      "text/plain": [
       "<keras.callbacks.History at 0x1c2e5fbeac8>"
      ]
     },
     "execution_count": 20,
     "metadata": {},
     "output_type": "execute_result"
    }
   ],
   "source": [
    "# Training text model\n",
    "txt_model.fit_generator(txt_gen_train, epochs=7, validation_steps = 149, steps_per_epoch=2, validation_data=txt_gen_val, shuffle = False, class_weight=class_weight)"
   ]
  },
  {
   "cell_type": "code",
   "execution_count": 21,
   "metadata": {},
   "outputs": [
    {
     "name": "stderr",
     "output_type": "stream",
     "text": [
      "d:\\anaconda\\envs\\btechproject\\lib\\site-packages\\keras\\engine\\network.py:877: UserWarning: Layer lstm_2 was passed non-serializable keyword arguments: {'initial_state': [<tf.Tensor 'lstm_1/while/Exit_3:0' shape=(?, 32) dtype=float32>, <tf.Tensor 'lstm_1/while/Exit_4:0' shape=(?, 32) dtype=float32>]}. They will not be included in the serialized model (and thus will be missing at deserialization time).\n",
      "  '. They will not be included '\n"
     ]
    }
   ],
   "source": [
    "# Saving text model\n",
    "txt_model.save('Stack_LSTM_txt_model.h5')"
   ]
  },
  {
   "cell_type": "code",
   "execution_count": 22,
   "metadata": {},
   "outputs": [],
   "source": [
    "# Predicting labels of the test set\n",
    "y_pred_txt = (txt_model.predict_generator(txt_gen_test,steps = 149))\n",
    "y_pred_txt = np.round(list(itertools.chain(*y_pred_txt)))\n",
    "# Defining true labels\n",
    "y_true = y_test.values"
   ]
  },
  {
   "cell_type": "code",
   "execution_count": 23,
   "metadata": {},
   "outputs": [
    {
     "data": {
      "image/png": "[encoded data removed]",
      "text/plain": [
       "<Figure size 432x288 with 2 Axes>"
      ]
     },
     "metadata": {
      "needs_background": "light"
     },
     "output_type": "display_data"
    }
   ],
   "source": [
    "# Block that prints confusion matrix\n",
    "labels = [1,0]\n",
    "cm = confusion_matrix(y_true, y_pred_txt, labels)\n",
    "ax= plt.subplot()\n",
    "sns.heatmap(cm, annot=True, ax = ax); #annot=True to annotate cells\n",
    "\n",
    "# labels, title and ticks\n",
    "ax.set_xlabel('Predicted labels');ax.set_ylabel('True labels'); \n",
    "ax.set_title('Confusion Matrix'); \n",
    "ax.xaxis.set_ticklabels(['offensive', 'non-offensive']); ax.yaxis.set_ticklabels(['offensive', 'non-offensive']);"
   ]
  },
  {
   "cell_type": "code",
   "execution_count": 24,
   "metadata": {
    "scrolled": true
   },
   "outputs": [
    {
     "name": "stderr",
     "output_type": "stream",
     "text": [
      "W1109 01:07:52.340348  5476 deprecation_wrapper.py:119] From d:\\anaconda\\envs\\btechproject\\lib\\site-packages\\keras\\backend\\tensorflow_backend.py:3976: The name tf.nn.max_pool is deprecated. Please use tf.nn.max_pool2d instead.\n",
      "\n"
     ]
    }
   ],
   "source": [
    "# create base model with imagenet weights\n",
    "pre_trained_image_model = VGG16(weights='imagenet', include_top=False)"
   ]
  },
  {
   "cell_type": "code",
   "execution_count": 25,
   "metadata": {},
   "outputs": [],
   "source": [
    "# Building img_prediction layer using Image_model\n",
    "base_img = Image_model(pre_trained_image_model)\n",
    "img_prediction_layer = Dense(1, activation='sigmoid')(base_img)"
   ]
  },
  {
   "cell_type": "code",
   "execution_count": 26,
   "metadata": {},
   "outputs": [],
   "source": [
    "# Defining image model\n",
    "img_model = Model(inputs = [pre_trained_image_model.input], outputs=img_prediction_layer)"
   ]
  },
  {
   "cell_type": "code",
   "execution_count": null,
   "metadata": {},
   "outputs": [],
   "source": [
    "# Compiling image model\n",
    "img_model.compile(loss='binary_crossentropy', optimizer=adam, metrics = [\"accuracy\"])"
   ]
  },
  {
   "cell_type": "code",
   "execution_count": 28,
   "metadata": {},
   "outputs": [
    {
     "ename": "OSError",
     "evalue": "`pydot` failed to call GraphViz.Please install GraphViz (https://www.graphviz.org/) and ensure that its executables are in the $PATH.",
     "output_type": "error",
     "traceback": [
      "\u001b[1;31m---------------------------------------------------------------------------\u001b[0m",
      "\u001b[1;31mFileNotFoundError\u001b[0m                         Traceback (most recent call last)",
      "\u001b[1;32md:\\anaconda\\envs\\btechproject\\lib\\site-packages\\pydot.py\u001b[0m in \u001b[0;36mcreate\u001b[1;34m(self, prog, format, encoding)\u001b[0m\n\u001b[0;32m   1914\u001b[0m                 \u001b[0marguments\u001b[0m\u001b[1;33m=\u001b[0m\u001b[0marguments\u001b[0m\u001b[1;33m,\u001b[0m\u001b[1;33m\u001b[0m\u001b[1;33m\u001b[0m\u001b[0m\n\u001b[1;32m-> 1915\u001b[1;33m                 \u001b[0mworking_dir\u001b[0m\u001b[1;33m=\u001b[0m\u001b[0mtmp_dir\u001b[0m\u001b[1;33m,\u001b[0m\u001b[1;33m\u001b[0m\u001b[1;33m\u001b[0m\u001b[0m\n\u001b[0m\u001b[0;32m   1916\u001b[0m             )\n",
      "\u001b[1;32md:\\anaconda\\envs\\btechproject\\lib\\site-packages\\pydot.py\u001b[0m in \u001b[0;36mcall_graphviz\u001b[1;34m(program, arguments, working_dir, **kwargs)\u001b[0m\n\u001b[0;32m    135\u001b[0m         \u001b[0mstdout\u001b[0m\u001b[1;33m=\u001b[0m\u001b[0msubprocess\u001b[0m\u001b[1;33m.\u001b[0m\u001b[0mPIPE\u001b[0m\u001b[1;33m,\u001b[0m\u001b[1;33m\u001b[0m\u001b[1;33m\u001b[0m\u001b[0m\n\u001b[1;32m--> 136\u001b[1;33m         \u001b[1;33m**\u001b[0m\u001b[0mkwargs\u001b[0m\u001b[1;33m\u001b[0m\u001b[1;33m\u001b[0m\u001b[0m\n\u001b[0m\u001b[0;32m    137\u001b[0m     )\n",
      "\u001b[1;32md:\\anaconda\\envs\\btechproject\\lib\\subprocess.py\u001b[0m in \u001b[0;36m__init__\u001b[1;34m(self, args, bufsize, executable, stdin, stdout, stderr, preexec_fn, close_fds, shell, cwd, env, universal_newlines, startupinfo, creationflags, restore_signals, start_new_session, pass_fds, encoding, errors, text)\u001b[0m\n\u001b[0;32m    799\u001b[0m                                 \u001b[0merrread\u001b[0m\u001b[1;33m,\u001b[0m \u001b[0merrwrite\u001b[0m\u001b[1;33m,\u001b[0m\u001b[1;33m\u001b[0m\u001b[1;33m\u001b[0m\u001b[0m\n\u001b[1;32m--> 800\u001b[1;33m                                 restore_signals, start_new_session)\n\u001b[0m\u001b[0;32m    801\u001b[0m         \u001b[1;32mexcept\u001b[0m\u001b[1;33m:\u001b[0m\u001b[1;33m\u001b[0m\u001b[1;33m\u001b[0m\u001b[0m\n",
      "\u001b[1;32md:\\anaconda\\envs\\btechproject\\lib\\subprocess.py\u001b[0m in \u001b[0;36m_execute_child\u001b[1;34m(self, args, executable, preexec_fn, close_fds, pass_fds, cwd, env, startupinfo, creationflags, shell, p2cread, p2cwrite, c2pread, c2pwrite, errread, errwrite, unused_restore_signals, unused_start_new_session)\u001b[0m\n\u001b[0;32m   1206\u001b[0m                                          \u001b[0mos\u001b[0m\u001b[1;33m.\u001b[0m\u001b[0mfspath\u001b[0m\u001b[1;33m(\u001b[0m\u001b[0mcwd\u001b[0m\u001b[1;33m)\u001b[0m \u001b[1;32mif\u001b[0m \u001b[0mcwd\u001b[0m \u001b[1;32mis\u001b[0m \u001b[1;32mnot\u001b[0m \u001b[1;32mNone\u001b[0m \u001b[1;32melse\u001b[0m \u001b[1;32mNone\u001b[0m\u001b[1;33m,\u001b[0m\u001b[1;33m\u001b[0m\u001b[1;33m\u001b[0m\u001b[0m\n\u001b[1;32m-> 1207\u001b[1;33m                                          startupinfo)\n\u001b[0m\u001b[0;32m   1208\u001b[0m             \u001b[1;32mfinally\u001b[0m\u001b[1;33m:\u001b[0m\u001b[1;33m\u001b[0m\u001b[1;33m\u001b[0m\u001b[0m\n",
      "\u001b[1;31mFileNotFoundError\u001b[0m: [WinError 2] The system cannot find the file specified",
      "\nDuring handling of the above exception, another exception occurred:\n",
      "\u001b[1;31mFileNotFoundError\u001b[0m                         Traceback (most recent call last)",
      "\u001b[1;32md:\\anaconda\\envs\\btechproject\\lib\\site-packages\\keras\\utils\\vis_utils.py\u001b[0m in \u001b[0;36m_check_pydot\u001b[1;34m()\u001b[0m\n\u001b[0;32m     25\u001b[0m         \u001b[1;31m# to check the pydot/graphviz installation.\u001b[0m\u001b[1;33m\u001b[0m\u001b[1;33m\u001b[0m\u001b[1;33m\u001b[0m\u001b[0m\n\u001b[1;32m---> 26\u001b[1;33m         \u001b[0mpydot\u001b[0m\u001b[1;33m.\u001b[0m\u001b[0mDot\u001b[0m\u001b[1;33m.\u001b[0m\u001b[0mcreate\u001b[0m\u001b[1;33m(\u001b[0m\u001b[0mpydot\u001b[0m\u001b[1;33m.\u001b[0m\u001b[0mDot\u001b[0m\u001b[1;33m(\u001b[0m\u001b[1;33m)\u001b[0m\u001b[1;33m)\u001b[0m\u001b[1;33m\u001b[0m\u001b[1;33m\u001b[0m\u001b[0m\n\u001b[0m\u001b[0;32m     27\u001b[0m     \u001b[1;32mexcept\u001b[0m \u001b[0mOSError\u001b[0m\u001b[1;33m:\u001b[0m\u001b[1;33m\u001b[0m\u001b[1;33m\u001b[0m\u001b[0m\n",
      "\u001b[1;32md:\\anaconda\\envs\\btechproject\\lib\\site-packages\\pydot.py\u001b[0m in \u001b[0;36mcreate\u001b[1;34m(self, prog, format, encoding)\u001b[0m\n\u001b[0;32m   1921\u001b[0m                     prog=prog)\n\u001b[1;32m-> 1922\u001b[1;33m                 \u001b[1;32mraise\u001b[0m \u001b[0mOSError\u001b[0m\u001b[1;33m(\u001b[0m\u001b[1;33m*\u001b[0m\u001b[0margs\u001b[0m\u001b[1;33m)\u001b[0m\u001b[1;33m\u001b[0m\u001b[1;33m\u001b[0m\u001b[0m\n\u001b[0m\u001b[0;32m   1923\u001b[0m             \u001b[1;32melse\u001b[0m\u001b[1;33m:\u001b[0m\u001b[1;33m\u001b[0m\u001b[1;33m\u001b[0m\u001b[0m\n",
      "\u001b[1;31mFileNotFoundError\u001b[0m: [WinError 2] \"dot\" not found in path.",
      "\nDuring handling of the above exception, another exception occurred:\n",
      "\u001b[1;31mOSError\u001b[0m                                   Traceback (most recent call last)",
      "\u001b[1;32m<ipython-input-28-a2347b087924>\u001b[0m in \u001b[0;36m<module>\u001b[1;34m\u001b[0m\n\u001b[0;32m      1\u001b[0m \u001b[1;31m# Plotting image model\u001b[0m\u001b[1;33m\u001b[0m\u001b[1;33m\u001b[0m\u001b[1;33m\u001b[0m\u001b[0m\n\u001b[1;32m----> 2\u001b[1;33m \u001b[0mplot_model\u001b[0m\u001b[1;33m(\u001b[0m\u001b[0mimg_model\u001b[0m\u001b[1;33m,\u001b[0m \u001b[0mto_file\u001b[0m\u001b[1;33m=\u001b[0m\u001b[1;34m'VGG16_img_model.png'\u001b[0m\u001b[1;33m,\u001b[0m \u001b[0mshow_shapes\u001b[0m\u001b[1;33m=\u001b[0m\u001b[1;32mTrue\u001b[0m\u001b[1;33m,\u001b[0m \u001b[0mshow_layer_names\u001b[0m\u001b[1;33m=\u001b[0m\u001b[1;32mTrue\u001b[0m\u001b[1;33m)\u001b[0m\u001b[1;33m\u001b[0m\u001b[1;33m\u001b[0m\u001b[0m\n\u001b[0m",
      "\u001b[1;32md:\\anaconda\\envs\\btechproject\\lib\\site-packages\\keras\\utils\\vis_utils.py\u001b[0m in \u001b[0;36mplot_model\u001b[1;34m(model, to_file, show_shapes, show_layer_names, rankdir)\u001b[0m\n\u001b[0;32m    130\u001b[0m             \u001b[1;34m'LR'\u001b[0m \u001b[0mcreates\u001b[0m \u001b[0ma\u001b[0m \u001b[0mhorizontal\u001b[0m \u001b[0mplot\u001b[0m\u001b[1;33m.\u001b[0m\u001b[1;33m\u001b[0m\u001b[1;33m\u001b[0m\u001b[0m\n\u001b[0;32m    131\u001b[0m     \"\"\"\n\u001b[1;32m--> 132\u001b[1;33m     \u001b[0mdot\u001b[0m \u001b[1;33m=\u001b[0m \u001b[0mmodel_to_dot\u001b[0m\u001b[1;33m(\u001b[0m\u001b[0mmodel\u001b[0m\u001b[1;33m,\u001b[0m \u001b[0mshow_shapes\u001b[0m\u001b[1;33m,\u001b[0m \u001b[0mshow_layer_names\u001b[0m\u001b[1;33m,\u001b[0m \u001b[0mrankdir\u001b[0m\u001b[1;33m)\u001b[0m\u001b[1;33m\u001b[0m\u001b[1;33m\u001b[0m\u001b[0m\n\u001b[0m\u001b[0;32m    133\u001b[0m     \u001b[0m_\u001b[0m\u001b[1;33m,\u001b[0m \u001b[0mextension\u001b[0m \u001b[1;33m=\u001b[0m \u001b[0mos\u001b[0m\u001b[1;33m.\u001b[0m\u001b[0mpath\u001b[0m\u001b[1;33m.\u001b[0m\u001b[0msplitext\u001b[0m\u001b[1;33m(\u001b[0m\u001b[0mto_file\u001b[0m\u001b[1;33m)\u001b[0m\u001b[1;33m\u001b[0m\u001b[1;33m\u001b[0m\u001b[0m\n\u001b[0;32m    134\u001b[0m     \u001b[1;32mif\u001b[0m \u001b[1;32mnot\u001b[0m \u001b[0mextension\u001b[0m\u001b[1;33m:\u001b[0m\u001b[1;33m\u001b[0m\u001b[1;33m\u001b[0m\u001b[0m\n",
      "\u001b[1;32md:\\anaconda\\envs\\btechproject\\lib\\site-packages\\keras\\utils\\vis_utils.py\u001b[0m in \u001b[0;36mmodel_to_dot\u001b[1;34m(model, show_shapes, show_layer_names, rankdir)\u001b[0m\n\u001b[0;32m     53\u001b[0m     \u001b[1;32mfrom\u001b[0m \u001b[1;33m.\u001b[0m\u001b[1;33m.\u001b[0m\u001b[0mmodels\u001b[0m \u001b[1;32mimport\u001b[0m \u001b[0mSequential\u001b[0m\u001b[1;33m\u001b[0m\u001b[1;33m\u001b[0m\u001b[0m\n\u001b[0;32m     54\u001b[0m \u001b[1;33m\u001b[0m\u001b[0m\n\u001b[1;32m---> 55\u001b[1;33m     \u001b[0m_check_pydot\u001b[0m\u001b[1;33m(\u001b[0m\u001b[1;33m)\u001b[0m\u001b[1;33m\u001b[0m\u001b[1;33m\u001b[0m\u001b[0m\n\u001b[0m\u001b[0;32m     56\u001b[0m     \u001b[0mdot\u001b[0m \u001b[1;33m=\u001b[0m \u001b[0mpydot\u001b[0m\u001b[1;33m.\u001b[0m\u001b[0mDot\u001b[0m\u001b[1;33m(\u001b[0m\u001b[1;33m)\u001b[0m\u001b[1;33m\u001b[0m\u001b[1;33m\u001b[0m\u001b[0m\n\u001b[0;32m     57\u001b[0m     \u001b[0mdot\u001b[0m\u001b[1;33m.\u001b[0m\u001b[0mset\u001b[0m\u001b[1;33m(\u001b[0m\u001b[1;34m'rankdir'\u001b[0m\u001b[1;33m,\u001b[0m \u001b[0mrankdir\u001b[0m\u001b[1;33m)\u001b[0m\u001b[1;33m\u001b[0m\u001b[1;33m\u001b[0m\u001b[0m\n",
      "\u001b[1;32md:\\anaconda\\envs\\btechproject\\lib\\site-packages\\keras\\utils\\vis_utils.py\u001b[0m in \u001b[0;36m_check_pydot\u001b[1;34m()\u001b[0m\n\u001b[0;32m     27\u001b[0m     \u001b[1;32mexcept\u001b[0m \u001b[0mOSError\u001b[0m\u001b[1;33m:\u001b[0m\u001b[1;33m\u001b[0m\u001b[1;33m\u001b[0m\u001b[0m\n\u001b[0;32m     28\u001b[0m         raise OSError(\n\u001b[1;32m---> 29\u001b[1;33m             \u001b[1;34m'`pydot` failed to call GraphViz.'\u001b[0m\u001b[1;33m\u001b[0m\u001b[1;33m\u001b[0m\u001b[0m\n\u001b[0m\u001b[0;32m     30\u001b[0m             \u001b[1;34m'Please install GraphViz (https://www.graphviz.org/) '\u001b[0m\u001b[1;33m\u001b[0m\u001b[1;33m\u001b[0m\u001b[0m\n\u001b[0;32m     31\u001b[0m             'and ensure that its executables are in the $PATH.')\n",
      "\u001b[1;31mOSError\u001b[0m: `pydot` failed to call GraphViz.Please install GraphViz (https://www.graphviz.org/) and ensure that its executables are in the $PATH."
     ]
    }
   ],
   "source": [
    "# Plotting image model\n",
    "plot_model(img_model, to_file='VGG16_img_model.png', show_shapes=True, show_layer_names=True)"
   ]
  },
  {
   "cell_type": "code",
   "execution_count": null,
   "metadata": {
    "scrolled": false
   },
   "outputs": [
    {
     "name": "stdout",
     "output_type": "stream",
     "text": [
      "Epoch 1/7\n",
      "2/2 [==============================] - 33s 16s/step - loss: 2.8248 - acc: 0.5156 - val_loss: 0.1308 - val_acc: 1.0000\n",
      "Epoch 2/7\n",
      "2/2 [==============================] - 27s 13s/step - loss: 2.4685 - acc: 0.4688 - val_loss: 0.7130 - val_acc: 0.0000e+00\n",
      "Epoch 3/7\n",
      "2/2 [==============================] - 26s 13s/step - loss: 2.1571 - acc: 0.4844 - val_loss: 1.9528 - val_acc: 0.0000e+00\n",
      "Epoch 4/7\n",
      "2/2 [==============================] - 27s 13s/step - loss: 1.9844 - acc: 0.5156 - val_loss: 2.7603 - val_acc: 0.0000e+00\n",
      "Epoch 5/7\n",
      "2/2 [==============================] - 26s 13s/step - loss: 1.8334 - acc: 0.5000 - val_loss: 2.7608 - val_acc: 0.0000e+00\n",
      "Epoch 6/7\n",
      "2/2 [==============================] - 26s 13s/step - loss: 1.6170 - acc: 0.5000 - val_loss: 2.1896 - val_acc: 0.0000e+00\n",
      "Epoch 7/7\n",
      "2/2 [==============================] - 26s 13s/step - loss: 1.3790 - acc: 0.6250 - val_loss: 1.4229 - val_acc: 0.0000e+00\n"
     ]
    },
    {
     "data": {
      "text/plain": [
       "<keras.callbacks.History at 0x1c280082608>"
      ]
     },
     "execution_count": 29,
     "metadata": {},
     "output_type": "execute_result"
    }
   ],
   "source": [
    "# Training image model\n",
    "img_model.fit_generator(img_gen_train, epochs=7, validation_steps = 149, steps_per_epoch=2, validation_data=img_gen_val, shuffle=False, class_weight=class_weight)"
   ]
  },
  {
   "cell_type": "code",
   "execution_count": 30,
   "metadata": {},
   "outputs": [],
   "source": [
    "# Saving image model\n",
    "img_model.save('VGG16_img_model.h5')"
   ]
  },
  {
   "cell_type": "code",
   "execution_count": 31,
   "metadata": {},
   "outputs": [],
   "source": [
    "# Predicting labels using image model\n",
    "y_pred_img = (img_model.predict_generator(img_gen_test,steps = 149))\n",
    "y_pred_img = np.round(list(itertools.chain(*y_pred_img)))\n",
    "y_true = y_test.values"
   ]
  },
  {
   "cell_type": "code",
   "execution_count": 32,
   "metadata": {},
   "outputs": [
    {
     "data": {
      "image/png": "[encoded data removed]",
      "text/plain": [
       "<Figure size 432x288 with 2 Axes>"
      ]
     },
     "metadata": {
      "needs_background": "light"
     },
     "output_type": "display_data"
    }
   ],
   "source": [
    "# Confusion matrix for image classifier\n",
    "labels = [1,0]\n",
    "cm = confusion_matrix(y_true, y_pred_img, labels)\n",
    "ax= plt.subplot()\n",
    "sns.heatmap(cm, annot=True, ax = ax); #annot=True to annotate cells\n",
    "\n",
    "# labels, title and ticks\n",
    "ax.set_xlabel('Predicted labels');ax.set_ylabel('True labels'); \n",
    "ax.set_title('Confusion Matrix'); \n",
    "ax.xaxis.set_ticklabels(['offensive', 'non-offensive']); ax.yaxis.set_ticklabels(['offensive', 'non-offensive']);"
   ]
  },
  {
   "cell_type": "code",
   "execution_count": 34,
   "metadata": {},
   "outputs": [],
   "source": [
    "txt_model.compile(loss='binary_crossentropy', optimizer=adam, metrics = [\"accuracy\"])\n",
    "img_model.compile(loss='binary_crossentropy', optimizer=adam, metrics = [\"accuracy\"])"
   ]
  },
  {
   "cell_type": "code",
   "execution_count": null,
   "metadata": {},
   "outputs": [],
   "source": [
    "# Concatenating output of both classifiers\n",
    "con_layer = keras.layers.concatenate([txt_model.output, img_model.output])\n",
    "out = Dense(1,activation='sigmoid')(con_layer)"
   ]
  },
  {
   "cell_type": "code",
   "execution_count": 36,
   "metadata": {},
   "outputs": [],
   "source": [
    "# Defining model input and output\n",
    "com_model = Model(inputs = [img_model.input, txt_model.input], outputs=out)"
   ]
  },
  {
   "cell_type": "code",
   "execution_count": 37,
   "metadata": {},
   "outputs": [],
   "source": [
    "# Using Stochastic gradient descent with optimizer\n",
    "sgd = optimizers.SGD(lr=0.001, decay=1e-6, momentum=0.9, nesterov=True)\n",
    "com_model.compile(loss='binary_crossentropy', optimizer=adam, metrics = [\"accuracy\"])"
   ]
  },
  {
   "cell_type": "code",
   "execution_count": 38,
   "metadata": {},
   "outputs": [
    {
     "ename": "OSError",
     "evalue": "`pydot` failed to call GraphViz.Please install GraphViz (https://www.graphviz.org/) and ensure that its executables are in the $PATH.",
     "output_type": "error",
     "traceback": [
      "\u001b[1;31m---------------------------------------------------------------------------\u001b[0m",
      "\u001b[1;31mFileNotFoundError\u001b[0m                         Traceback (most recent call last)",
      "\u001b[1;32md:\\anaconda\\envs\\btechproject\\lib\\site-packages\\pydot.py\u001b[0m in \u001b[0;36mcreate\u001b[1;34m(self, prog, format, encoding)\u001b[0m\n\u001b[0;32m   1914\u001b[0m                 \u001b[0marguments\u001b[0m\u001b[1;33m=\u001b[0m\u001b[0marguments\u001b[0m\u001b[1;33m,\u001b[0m\u001b[1;33m\u001b[0m\u001b[1;33m\u001b[0m\u001b[0m\n\u001b[1;32m-> 1915\u001b[1;33m                 \u001b[0mworking_dir\u001b[0m\u001b[1;33m=\u001b[0m\u001b[0mtmp_dir\u001b[0m\u001b[1;33m,\u001b[0m\u001b[1;33m\u001b[0m\u001b[1;33m\u001b[0m\u001b[0m\n\u001b[0m\u001b[0;32m   1916\u001b[0m             )\n",
      "\u001b[1;32md:\\anaconda\\envs\\btechproject\\lib\\site-packages\\pydot.py\u001b[0m in \u001b[0;36mcall_graphviz\u001b[1;34m(program, arguments, working_dir, **kwargs)\u001b[0m\n\u001b[0;32m    135\u001b[0m         \u001b[0mstdout\u001b[0m\u001b[1;33m=\u001b[0m\u001b[0msubprocess\u001b[0m\u001b[1;33m.\u001b[0m\u001b[0mPIPE\u001b[0m\u001b[1;33m,\u001b[0m\u001b[1;33m\u001b[0m\u001b[1;33m\u001b[0m\u001b[0m\n\u001b[1;32m--> 136\u001b[1;33m         \u001b[1;33m**\u001b[0m\u001b[0mkwargs\u001b[0m\u001b[1;33m\u001b[0m\u001b[1;33m\u001b[0m\u001b[0m\n\u001b[0m\u001b[0;32m    137\u001b[0m     )\n",
      "\u001b[1;32md:\\anaconda\\envs\\btechproject\\lib\\subprocess.py\u001b[0m in \u001b[0;36m__init__\u001b[1;34m(self, args, bufsize, executable, stdin, stdout, stderr, preexec_fn, close_fds, shell, cwd, env, universal_newlines, startupinfo, creationflags, restore_signals, start_new_session, pass_fds, encoding, errors, text)\u001b[0m\n\u001b[0;32m    799\u001b[0m                                 \u001b[0merrread\u001b[0m\u001b[1;33m,\u001b[0m \u001b[0merrwrite\u001b[0m\u001b[1;33m,\u001b[0m\u001b[1;33m\u001b[0m\u001b[1;33m\u001b[0m\u001b[0m\n\u001b[1;32m--> 800\u001b[1;33m                                 restore_signals, start_new_session)\n\u001b[0m\u001b[0;32m    801\u001b[0m         \u001b[1;32mexcept\u001b[0m\u001b[1;33m:\u001b[0m\u001b[1;33m\u001b[0m\u001b[1;33m\u001b[0m\u001b[0m\n",
      "\u001b[1;32md:\\anaconda\\envs\\btechproject\\lib\\subprocess.py\u001b[0m in \u001b[0;36m_execute_child\u001b[1;34m(self, args, executable, preexec_fn, close_fds, pass_fds, cwd, env, startupinfo, creationflags, shell, p2cread, p2cwrite, c2pread, c2pwrite, errread, errwrite, unused_restore_signals, unused_start_new_session)\u001b[0m\n\u001b[0;32m   1206\u001b[0m                                          \u001b[0mos\u001b[0m\u001b[1;33m.\u001b[0m\u001b[0mfspath\u001b[0m\u001b[1;33m(\u001b[0m\u001b[0mcwd\u001b[0m\u001b[1;33m)\u001b[0m \u001b[1;32mif\u001b[0m \u001b[0mcwd\u001b[0m \u001b[1;32mis\u001b[0m \u001b[1;32mnot\u001b[0m \u001b[1;32mNone\u001b[0m \u001b[1;32melse\u001b[0m \u001b[1;32mNone\u001b[0m\u001b[1;33m,\u001b[0m\u001b[1;33m\u001b[0m\u001b[1;33m\u001b[0m\u001b[0m\n\u001b[1;32m-> 1207\u001b[1;33m                                          startupinfo)\n\u001b[0m\u001b[0;32m   1208\u001b[0m             \u001b[1;32mfinally\u001b[0m\u001b[1;33m:\u001b[0m\u001b[1;33m\u001b[0m\u001b[1;33m\u001b[0m\u001b[0m\n",
      "\u001b[1;31mFileNotFoundError\u001b[0m: [WinError 2] The system cannot find the file specified",
      "\nDuring handling of the above exception, another exception occurred:\n",
      "\u001b[1;31mFileNotFoundError\u001b[0m                         Traceback (most recent call last)",
      "\u001b[1;32md:\\anaconda\\envs\\btechproject\\lib\\site-packages\\keras\\utils\\vis_utils.py\u001b[0m in \u001b[0;36m_check_pydot\u001b[1;34m()\u001b[0m\n\u001b[0;32m     25\u001b[0m         \u001b[1;31m# to check the pydot/graphviz installation.\u001b[0m\u001b[1;33m\u001b[0m\u001b[1;33m\u001b[0m\u001b[1;33m\u001b[0m\u001b[0m\n\u001b[1;32m---> 26\u001b[1;33m         \u001b[0mpydot\u001b[0m\u001b[1;33m.\u001b[0m\u001b[0mDot\u001b[0m\u001b[1;33m.\u001b[0m\u001b[0mcreate\u001b[0m\u001b[1;33m(\u001b[0m\u001b[0mpydot\u001b[0m\u001b[1;33m.\u001b[0m\u001b[0mDot\u001b[0m\u001b[1;33m(\u001b[0m\u001b[1;33m)\u001b[0m\u001b[1;33m)\u001b[0m\u001b[1;33m\u001b[0m\u001b[1;33m\u001b[0m\u001b[0m\n\u001b[0m\u001b[0;32m     27\u001b[0m     \u001b[1;32mexcept\u001b[0m \u001b[0mOSError\u001b[0m\u001b[1;33m:\u001b[0m\u001b[1;33m\u001b[0m\u001b[1;33m\u001b[0m\u001b[0m\n",
      "\u001b[1;32md:\\anaconda\\envs\\btechproject\\lib\\site-packages\\pydot.py\u001b[0m in \u001b[0;36mcreate\u001b[1;34m(self, prog, format, encoding)\u001b[0m\n\u001b[0;32m   1921\u001b[0m                     prog=prog)\n\u001b[1;32m-> 1922\u001b[1;33m                 \u001b[1;32mraise\u001b[0m \u001b[0mOSError\u001b[0m\u001b[1;33m(\u001b[0m\u001b[1;33m*\u001b[0m\u001b[0margs\u001b[0m\u001b[1;33m)\u001b[0m\u001b[1;33m\u001b[0m\u001b[1;33m\u001b[0m\u001b[0m\n\u001b[0m\u001b[0;32m   1923\u001b[0m             \u001b[1;32melse\u001b[0m\u001b[1;33m:\u001b[0m\u001b[1;33m\u001b[0m\u001b[1;33m\u001b[0m\u001b[0m\n",
      "\u001b[1;31mFileNotFoundError\u001b[0m: [WinError 2] \"dot\" not found in path.",
      "\nDuring handling of the above exception, another exception occurred:\n",
      "\u001b[1;31mOSError\u001b[0m                                   Traceback (most recent call last)",
      "\u001b[1;32m<ipython-input-38-47525adb9689>\u001b[0m in \u001b[0;36m<module>\u001b[1;34m\u001b[0m\n\u001b[0;32m      1\u001b[0m \u001b[1;31m# PlotTing combined model\u001b[0m\u001b[1;33m\u001b[0m\u001b[1;33m\u001b[0m\u001b[1;33m\u001b[0m\u001b[0m\n\u001b[1;32m----> 2\u001b[1;33m \u001b[0mplot_model\u001b[0m\u001b[1;33m(\u001b[0m\u001b[0mcom_model\u001b[0m\u001b[1;33m,\u001b[0m \u001b[0mto_file\u001b[0m\u001b[1;33m=\u001b[0m\u001b[1;34m'Stack_LSTM_VGG_mul_model.png'\u001b[0m\u001b[1;33m,\u001b[0m \u001b[0mshow_shapes\u001b[0m\u001b[1;33m=\u001b[0m\u001b[1;32mTrue\u001b[0m\u001b[1;33m,\u001b[0m \u001b[0mshow_layer_names\u001b[0m\u001b[1;33m=\u001b[0m\u001b[1;32mTrue\u001b[0m\u001b[1;33m)\u001b[0m\u001b[1;33m\u001b[0m\u001b[1;33m\u001b[0m\u001b[0m\n\u001b[0m",
      "\u001b[1;32md:\\anaconda\\envs\\btechproject\\lib\\site-packages\\keras\\utils\\vis_utils.py\u001b[0m in \u001b[0;36mplot_model\u001b[1;34m(model, to_file, show_shapes, show_layer_names, rankdir)\u001b[0m\n\u001b[0;32m    130\u001b[0m             \u001b[1;34m'LR'\u001b[0m \u001b[0mcreates\u001b[0m \u001b[0ma\u001b[0m \u001b[0mhorizontal\u001b[0m \u001b[0mplot\u001b[0m\u001b[1;33m.\u001b[0m\u001b[1;33m\u001b[0m\u001b[1;33m\u001b[0m\u001b[0m\n\u001b[0;32m    131\u001b[0m     \"\"\"\n\u001b[1;32m--> 132\u001b[1;33m     \u001b[0mdot\u001b[0m \u001b[1;33m=\u001b[0m \u001b[0mmodel_to_dot\u001b[0m\u001b[1;33m(\u001b[0m\u001b[0mmodel\u001b[0m\u001b[1;33m,\u001b[0m \u001b[0mshow_shapes\u001b[0m\u001b[1;33m,\u001b[0m \u001b[0mshow_layer_names\u001b[0m\u001b[1;33m,\u001b[0m \u001b[0mrankdir\u001b[0m\u001b[1;33m)\u001b[0m\u001b[1;33m\u001b[0m\u001b[1;33m\u001b[0m\u001b[0m\n\u001b[0m\u001b[0;32m    133\u001b[0m     \u001b[0m_\u001b[0m\u001b[1;33m,\u001b[0m \u001b[0mextension\u001b[0m \u001b[1;33m=\u001b[0m \u001b[0mos\u001b[0m\u001b[1;33m.\u001b[0m\u001b[0mpath\u001b[0m\u001b[1;33m.\u001b[0m\u001b[0msplitext\u001b[0m\u001b[1;33m(\u001b[0m\u001b[0mto_file\u001b[0m\u001b[1;33m)\u001b[0m\u001b[1;33m\u001b[0m\u001b[1;33m\u001b[0m\u001b[0m\n\u001b[0;32m    134\u001b[0m     \u001b[1;32mif\u001b[0m \u001b[1;32mnot\u001b[0m \u001b[0mextension\u001b[0m\u001b[1;33m:\u001b[0m\u001b[1;33m\u001b[0m\u001b[1;33m\u001b[0m\u001b[0m\n",
      "\u001b[1;32md:\\anaconda\\envs\\btechproject\\lib\\site-packages\\keras\\utils\\vis_utils.py\u001b[0m in \u001b[0;36mmodel_to_dot\u001b[1;34m(model, show_shapes, show_layer_names, rankdir)\u001b[0m\n\u001b[0;32m     53\u001b[0m     \u001b[1;32mfrom\u001b[0m \u001b[1;33m.\u001b[0m\u001b[1;33m.\u001b[0m\u001b[0mmodels\u001b[0m \u001b[1;32mimport\u001b[0m \u001b[0mSequential\u001b[0m\u001b[1;33m\u001b[0m\u001b[1;33m\u001b[0m\u001b[0m\n\u001b[0;32m     54\u001b[0m \u001b[1;33m\u001b[0m\u001b[0m\n\u001b[1;32m---> 55\u001b[1;33m     \u001b[0m_check_pydot\u001b[0m\u001b[1;33m(\u001b[0m\u001b[1;33m)\u001b[0m\u001b[1;33m\u001b[0m\u001b[1;33m\u001b[0m\u001b[0m\n\u001b[0m\u001b[0;32m     56\u001b[0m     \u001b[0mdot\u001b[0m \u001b[1;33m=\u001b[0m \u001b[0mpydot\u001b[0m\u001b[1;33m.\u001b[0m\u001b[0mDot\u001b[0m\u001b[1;33m(\u001b[0m\u001b[1;33m)\u001b[0m\u001b[1;33m\u001b[0m\u001b[1;33m\u001b[0m\u001b[0m\n\u001b[0;32m     57\u001b[0m     \u001b[0mdot\u001b[0m\u001b[1;33m.\u001b[0m\u001b[0mset\u001b[0m\u001b[1;33m(\u001b[0m\u001b[1;34m'rankdir'\u001b[0m\u001b[1;33m,\u001b[0m \u001b[0mrankdir\u001b[0m\u001b[1;33m)\u001b[0m\u001b[1;33m\u001b[0m\u001b[1;33m\u001b[0m\u001b[0m\n",
      "\u001b[1;32md:\\anaconda\\envs\\btechproject\\lib\\site-packages\\keras\\utils\\vis_utils.py\u001b[0m in \u001b[0;36m_check_pydot\u001b[1;34m()\u001b[0m\n\u001b[0;32m     27\u001b[0m     \u001b[1;32mexcept\u001b[0m \u001b[0mOSError\u001b[0m\u001b[1;33m:\u001b[0m\u001b[1;33m\u001b[0m\u001b[1;33m\u001b[0m\u001b[0m\n\u001b[0;32m     28\u001b[0m         raise OSError(\n\u001b[1;32m---> 29\u001b[1;33m             \u001b[1;34m'`pydot` failed to call GraphViz.'\u001b[0m\u001b[1;33m\u001b[0m\u001b[1;33m\u001b[0m\u001b[0m\n\u001b[0m\u001b[0;32m     30\u001b[0m             \u001b[1;34m'Please install GraphViz (https://www.graphviz.org/) '\u001b[0m\u001b[1;33m\u001b[0m\u001b[1;33m\u001b[0m\u001b[0m\n\u001b[0;32m     31\u001b[0m             'and ensure that its executables are in the $PATH.')\n",
      "\u001b[1;31mOSError\u001b[0m: `pydot` failed to call GraphViz.Please install GraphViz (https://www.graphviz.org/) and ensure that its executables are in the $PATH."
     ]
    }
   ],
   "source": [
    "# PlotTing combined model\n",
    "plot_model(com_model, to_file='Stack_LSTM_VGG_mul_model.png', show_shapes=True, show_layer_names=True)"
   ]
  },
  {
   "cell_type": "code",
   "execution_count": 39,
   "metadata": {
    "scrolled": true
   },
   "outputs": [
    {
     "name": "stdout",
     "output_type": "stream",
     "text": [
      "Epoch 1/7\n",
      "2/2 [==============================] - 39s 20s/step - loss: 0.8184 - acc: 0.4688 - val_loss: 0.7067 - val_acc: 0.3691\n",
      "Epoch 2/7\n",
      "2/2 [==============================] - 36s 18s/step - loss: 0.7994 - acc: 0.3594 - val_loss: 0.7007 - val_acc: 0.4228\n",
      "Epoch 3/7\n",
      "2/2 [==============================] - 35s 17s/step - loss: 0.7911 - acc: 0.3125 - val_loss: 0.7056 - val_acc: 0.3356\n",
      "Epoch 4/7\n",
      "2/2 [==============================] - 36s 18s/step - loss: 0.7923 - acc: 0.3281 - val_loss: 0.7002 - val_acc: 0.3557\n",
      "Epoch 5/7\n",
      "2/2 [==============================] - 35s 18s/step - loss: 0.8252 - acc: 0.4844 - val_loss: 0.6957 - val_acc: 0.4295\n",
      "Epoch 6/7\n",
      "2/2 [==============================] - 35s 18s/step - loss: 0.8325 - acc: 0.5469 - val_loss: 0.6962 - val_acc: 0.4295\n",
      "Epoch 7/7\n",
      "2/2 [==============================] - 36s 18s/step - loss: 0.8165 - acc: 0.4531 - val_loss: 0.7004 - val_acc: 0.3557\n"
     ]
    },
    {
     "data": {
      "text/plain": [
       "<keras.callbacks.History at 0x1c28169c788>"
      ]
     },
     "execution_count": 39,
     "metadata": {},
     "output_type": "execute_result"
    }
   ],
   "source": [
    "# Training model\n",
    "com_model.fit_generator(img_txt_gen_train, epochs=7, validation_steps = 149, steps_per_epoch=2, validation_data=img_txt_gen_val, shuffle=False, class_weight=class_weight)"
   ]
  },
  {
   "cell_type": "code",
   "execution_count": 40,
   "metadata": {},
   "outputs": [
    {
     "name": "stderr",
     "output_type": "stream",
     "text": [
      "d:\\anaconda\\envs\\btechproject\\lib\\site-packages\\keras\\engine\\network.py:877: UserWarning: Layer lstm_2 was passed non-serializable keyword arguments: {'initial_state': [<tf.Tensor 'lstm_1/while/Exit_3:0' shape=(?, 32) dtype=float32>, <tf.Tensor 'lstm_1/while/Exit_4:0' shape=(?, 32) dtype=float32>]}. They will not be included in the serialized model (and thus will be missing at deserialization time).\n",
      "  '. They will not be included '\n"
     ]
    }
   ],
   "source": [
    "# Saving combined model\n",
    "com_model.save('Stack_LSTM_VGG_mul_model.h5')"
   ]
  },
  {
   "cell_type": "code",
   "execution_count": 41,
   "metadata": {},
   "outputs": [],
   "source": [
    "y_pred_com = (com_model.predict_generator(img_txt_gen_test,steps = 149))\n",
    "y_pred_com = np.round(list(itertools.chain(*y_pred_com)))"
   ]
  },
  {
   "cell_type": "code",
   "execution_count": 42,
   "metadata": {},
   "outputs": [
    {
     "data": {
      "image/png": "[encoded data removed]",
      "text/plain": [
       "<Figure size 432x288 with 2 Axes>"
      ]
     },
     "metadata": {
      "needs_background": "light"
     },
     "output_type": "display_data"
    }
   ],
   "source": [
    "labels = [1,0]\n",
    "cm = confusion_matrix(y_true, y_pred_com, labels)\n",
    "ax= plt.subplot()\n",
    "sns.heatmap(cm, annot=True, ax = ax); #annot=True to annotate cells\n",
    "\n",
    "# labels, title and ticks\n",
    "ax.set_xlabel('Predicted labels');ax.set_ylabel('True labels'); \n",
    "ax.set_title('Confusion Matrix'); \n",
    "ax.xaxis.set_ticklabels(['offensive', 'non-offensive']); ax.yaxis.set_ticklabels(['offensive', 'non-offensive']);"
   ]
  },
  {
   "cell_type": "code",
   "execution_count": 43,
   "metadata": {
    "scrolled": true
   },
   "outputs": [
    {
     "data": {
      "image/png": "[encoded data removed]",
      "text/plain": [
       "<Figure size 432x288 with 1 Axes>"
      ]
     },
     "metadata": {
      "needs_background": "light"
     },
     "output_type": "display_data"
    }
   ],
   "source": [
    "# Plotting training accuaracy \n",
    "plt.plot(com_model.history.epoch, com_model.history.history['acc'])\n",
    "plt.plot(txt_model.history.epoch, txt_model.history.history['acc'])\n",
    "plt.gca().legend(('meme model acc', 'image model acc', 'text model acc'))\n",
    "plt.xlabel('epoch')\n",
    "plt.ylabel('training accuracy')\n",
    "plt.show()"
   ]
  },
  {
   "cell_type": "code",
   "execution_count": 44,
   "metadata": {
    "scrolled": false
   },
   "outputs": [
    {
     "data": {
      "image/png": "[encoded data removed]",
      "text/plain": [
       "<Figure size 432x288 with 1 Axes>"
      ]
     },
     "metadata": {
      "needs_background": "light"
     },
     "output_type": "display_data"
    }
   ],
   "source": [
    "\n",
    "# Plotting validation accuracy\n",
    "plt.plot(com_model.history.epoch, com_model.history.history['val_acc'])\n",
    "plt.plot(txt_model.history.epoch, txt_model.history.history['val_acc'])\n",
    "plt.gca().legend(('meme model validation acc', 'image model validation acc', 'text model validation acc'))\n",
    "plt.xlabel('epoch')\n",
    "plt.ylabel('validaion accuracy')\n",
    "plt.show()"
   ]
  },
  {
   "cell_type": "code",
   "execution_count": 46,
   "metadata": {},
   "outputs": [
    {
     "data": {
      "text/plain": [
       "[0.6794470191001892, 0.8]"
      ]
     },
     "execution_count": 46,
     "metadata": {},
     "output_type": "execute_result"
    }
   ],
   "source": [
    "# Evaluating model by calculating loss and accuracy respectively\n",
    "# for combined model\n",
    "com_model.evaluate_generator(img_txt_gen_test, steps=5)"
   ]
  },
  {
   "cell_type": "code",
   "execution_count": 47,
   "metadata": {},
   "outputs": [
    {
     "data": {
      "text/plain": [
       "[0.6761613667011261, 0.6]"
      ]
     },
     "execution_count": 47,
     "metadata": {},
     "output_type": "execute_result"
    }
   ],
   "source": [
    "# loss and accuracy for text model\n",
    "txt_model.evaluate_generator(txt_gen_test, steps=5)"
   ]
  },
  {
   "cell_type": "code",
   "execution_count": 48,
   "metadata": {},
   "outputs": [
    {
     "data": {
      "text/plain": [
       "[0.023184871301054955, 1.0]"
      ]
     },
     "execution_count": 48,
     "metadata": {},
     "output_type": "execute_result"
    }
   ],
   "source": [
    "# Loss and accuracy for image model\n",
    "img_model.evaluate_generator(img_gen_test, steps=5)"
   ]
  },
  {
   "cell_type": "code",
   "execution_count": 49,
   "metadata": {},
   "outputs": [],
   "source": [
    "from sklearn.metrics import precision_recall_fscore_support"
   ]
  },
  {
   "cell_type": "code",
   "execution_count": 50,
   "metadata": {},
   "outputs": [
    {
     "data": {
      "text/plain": [
       "(array([0.85185185, 0.44262295]),\n",
       " array([0.25274725, 0.93103448]),\n",
       " array([0.38983051, 0.6       ]),\n",
       " array([91, 58], dtype=int64))"
      ]
     },
     "execution_count": 50,
     "metadata": {},
     "output_type": "execute_result"
    }
   ],
   "source": [
    "# for txt\n",
    "precision_recall_fscore_support(y_true, y_pred_txt, beta=1.0, labels=None, pos_label=1, average=None)"
   ]
  },
  {
   "cell_type": "code",
   "execution_count": 51,
   "metadata": {},
   "outputs": [
    {
     "name": "stderr",
     "output_type": "stream",
     "text": [
      "d:\\anaconda\\envs\\btechproject\\lib\\site-packages\\sklearn\\metrics\\classification.py:1437: UndefinedMetricWarning: Precision and F-score are ill-defined and being set to 0.0 in labels with no predicted samples.\n",
      "  'precision', 'predicted', average, warn_for)\n"
     ]
    },
    {
     "data": {
      "text/plain": [
       "(array([0.        , 0.38926174]),\n",
       " array([0., 1.]),\n",
       " array([0.        , 0.56038647]),\n",
       " array([91, 58], dtype=int64))"
      ]
     },
     "execution_count": 51,
     "metadata": {},
     "output_type": "execute_result"
    }
   ],
   "source": [
    "# for image\n",
    "precision_recall_fscore_support(y_true, y_pred_img, beta=1.0, labels=None, pos_label=1, average=None)"
   ]
  },
  {
   "cell_type": "code",
   "execution_count": 52,
   "metadata": {},
   "outputs": [
    {
     "data": {
      "text/plain": [
       "(array([0.        , 0.38926174]),\n",
       " array([0., 1.]),\n",
       " array([0.        , 0.56038647]),\n",
       " array([91, 58], dtype=int64))"
      ]
     },
     "execution_count": 52,
     "metadata": {},
     "output_type": "execute_result"
    }
   ],
   "source": [
    "# com model\n",
    "precision_recall_fscore_support(y_true, y_pred_com, beta=1.0, labels=None, pos_label=1, average=None)"
   ]
  },
  {
   "cell_type": "code",
   "execution_count": null,
   "metadata": {},
   "outputs": [],
   "source": []
  },
  {
   "cell_type": "code",
   "execution_count": null,
   "metadata": {},
   "outputs": [],
   "source": []
  }
 ],
 "metadata": {
  "kernelspec": {
   "display_name": ".venv",
   "language": "python",
   "name": "python3"
  },
  "language_info": {
   "codemirror_mode": {
    "name": "ipython",
    "version": 3
   },
   "file_extension": ".py",
   "mimetype": "text/x-python",
   "name": "python",
   "nbconvert_exporter": "python",
   "pygments_lexer": "ipython3",
   "version": "3.7.0"
  }
 },
 "nbformat": 4,
 "nbformat_minor": 2
}
