{
 "cells": [
  {
   "cell_type": "code",
   "execution_count": 1,
   "metadata": {
    "scrolled": true
   },
   "outputs": [],
   "source": [
    "# Importing all the necessary libraries\n",
    "import keras\n",
    "import h5py\n",
    "from keras import optimizers\n",
    "from keras.models import load_model\n",
    "from keras.layers import Bidirectional\n",
    "from Multimodal_baseline_Functions import *\n",
    "from keras.layers.core import Reshape, Dropout\n",
    "from keras.utils.vis_utils import plot_model\n",
    "import os\n",
    "# import keras_metrics\n",
    "import matplotlib.pyplot as plt\n",
    "from keras.layers import Conv1D, MaxPooling1D, Flatten, GlobalAveragePooling3D\n",
    "from keras import regularizers\n",
    "# import seaborn as sns\n",
    "import matplotlib.pyplot as plt   \n",
    "from sklearn.metrics import confusion_matrix\n",
    "from keras import regularizers  \n",
    "from keras.applications.inception_v3 import InceptionV3"
   ]
  },
  {
   "cell_type": "code",
   "execution_count": 2,
   "metadata": {},
   "outputs": [],
   "source": [
    "# Storing directory of glove embeddings\n",
    "GLOVE_DIR = \"C:\\\\Users\\\\jasra\\\\OneDrive\\\\Desktop\\\\MAJOR PROJECT\\\\glove.6B\"\n",
    "EMBEDDING_DIM = 50"
   ]
  },
  {
   "cell_type": "code",
   "execution_count": 3,
   "metadata": {},
   "outputs": [],
   "source": [
    "# Assigning class weights\n",
    "class_weight = {1: 1.4,\n",
    "                0: 1.}"
   ]
  },
  {
   "cell_type": "code",
   "execution_count": 4,
   "metadata": {},
   "outputs": [
    {
     "name": "stderr",
     "output_type": "stream",
     "text": [
      "c:\\Users\\jasra\\OneDrive\\Desktop\\MAJOR PROJECT\\.venv\\lib\\site-packages\\keras\\optimizers\\optimizer_v2\\adam.py:117: UserWarning: The `lr` argument is deprecated, use `learning_rate` instead.\n",
      "  super().__init__(name, **kwargs)\n",
      "c:\\Users\\jasra\\OneDrive\\Desktop\\MAJOR PROJECT\\.venv\\lib\\site-packages\\keras\\optimizers\\optimizer_v2\\gradient_descent.py:114: UserWarning: The `lr` argument is deprecated, use `learning_rate` instead.\n",
      "  super().__init__(name, **kwargs)\n",
      "c:\\Users\\jasra\\OneDrive\\Desktop\\MAJOR PROJECT\\.venv\\lib\\site-packages\\keras\\optimizers\\optimizer_v2\\adadelta.py:82: UserWarning: The `lr` argument is deprecated, use `learning_rate` instead.\n",
      "  super().__init__(name, **kwargs)\n"
     ]
    }
   ],
   "source": [
    "# Defining model with Adam optimizer\n",
    "adam = keras.optimizers.Adam(lr=0.001, beta_1=0.9, beta_2=0.999, epsilon=None, decay=0.0, amsgrad=False)\n",
    "sgd = optimizers.SGD(lr=0.001, decay=1e-6, momentum=0.9, nesterov=True)\n",
    "adadelta = optimizers.Adadelta(lr=1.0, rho=0.95, epsilon=None, decay=0.0)"
   ]
  },
  {
   "cell_type": "code",
   "execution_count": 5,
   "metadata": {},
   "outputs": [],
   "source": [
    "def Image_model(base_model):\n",
    "    # Freezing all the trainable layers\n",
    "    for layer in base_model.layers:\n",
    "        layer.trainable = False\n",
    "\n",
    "    # Creating output layer\n",
    "    x = base_model.output\n",
    "    # Adding pooling layer before the output\n",
    "    x = GlobalAveragePooling2D()(x)\n",
    "    return x"
   ]
  },
  {
   "cell_type": "code",
   "execution_count": 6,
   "metadata": {},
   "outputs": [],
   "source": [
    "def read_data(file_name):\n",
    "  #Opening file\n",
    "    with open(file_name,'r', encoding=\"utf8\") as f:\n",
    "      #Creating empty set and dictonary for vocab and word respectively\n",
    "        word_vocab = set() \n",
    "        word2vector = {}\n",
    "        #Iterating over each line of file\n",
    "        for line in f:\n",
    "            #Spliting lines\n",
    "            line_ = line.strip() \n",
    "            #Splitting words\n",
    "            words_Vec = line_.split()            \n",
    "            word_vocab.add(words_Vec[0])\n",
    "            word2vector[words_Vec[0]] = np.array(words_Vec[1:],dtype=float)\n",
    "    print(\"Total Words in DataSet:\",len(word_vocab))\n",
    "    return word_vocab,word2vector"
   ]
  },
  {
   "cell_type": "code",
   "execution_count": 7,
   "metadata": {},
   "outputs": [],
   "source": [
    "# Dividing data in test, train, validation\n",
    "training_DF, testing_DF, validation_DF = preprocess_text(Training_path,Validation_path, Testing_path)"
   ]
  },
  {
   "cell_type": "code",
   "execution_count": 8,
   "metadata": {},
   "outputs": [],
   "source": [
    "# Processing image and text for each set\n",
    "# Creating train, test and validation image path\n",
    "train_img_path = create_img_path(training_DF,'image_name', img_dir)\n",
    "test_img_path = create_img_path(testing_DF,'image_name', img_dir)\n",
    "val_img_path = create_img_path(validation_DF,'image_name', img_dir)\n",
    "\n",
    "# Processing the text\n",
    "training_DF['sentence'] = training_DF['sentence'].apply(clean_text)\n",
    "testing_DF['sentence'] = testing_DF['sentence'].apply(clean_text)\n",
    "validation_DF['sentence'] = validation_DF['sentence'].apply(clean_text)"
   ]
  },
  {
   "cell_type": "code",
   "execution_count": 9,
   "metadata": {},
   "outputs": [],
   "source": [
    "from keras.utils import pad_sequences"
   ]
  },
  {
   "cell_type": "code",
   "execution_count": 36,
   "metadata": {},
   "outputs": [],
   "source": [
    "# Vectorising text\n",
    "# process the whole observation into single list\n",
    "train_text_list=list(training_DF['sentence'])\n",
    "test_text_list = list(testing_DF['sentence'])\n",
    "val_text_list = list(validation_DF['sentence'])\n",
    "\n",
    "# Creating vectors for train, test, validation\n",
    "tokenizer = Tokenizer(num_words=1000)\n",
    "tokenizer.fit_on_texts(train_text_list)\n",
    "sequences_train = tokenizer.texts_to_sequences(train_text_list)\n",
    "sequences_test = tokenizer.texts_to_sequences(test_text_list)\n",
    "sequences_val = tokenizer.texts_to_sequences(val_text_list)\n",
    "\n",
    "x_train = pad_sequences(sequences_train, maxlen=1000)\n",
    "x_test = pad_sequences(sequences_test, maxlen=1000)\n",
    "x_val = pad_sequences(sequences_val, maxlen=1000)\n",
    "\n",
    "# encoding all the labels \n",
    "y_test = testing_DF['label']\n",
    "y_train = training_DF['label']\n",
    "y_val = validation_DF['label']"
   ]
  },
  {
   "cell_type": "code",
   "execution_count": 37,
   "metadata": {},
   "outputs": [],
   "source": [
    "from transformers import BertTokenizer\n",
    "\n",
    "# Initialize the tokenizer\n",
    "tokenizer = BertTokenizer.from_pretrained('bert-base-uncased')\n",
    "\n",
    "# Tokenize your text data (x_train) and create attention masks\n",
    "def tokenize_text(text_data, maxlen=512):\n",
    "    inputs = tokenizer(text_data, padding=\"max_length\", truncation=True, max_length=maxlen, return_tensors='np')\n",
    "    return inputs['input_ids'], inputs['attention_mask']\n"
   ]
  },
  {
   "cell_type": "code",
   "execution_count": 38,
   "metadata": {},
   "outputs": [],
   "source": [
    "input_ids_train, attention_mask_train = tokenize_text(train_text_list, maxlen=512)\n",
    "input_ids_test, attention_mask_test = tokenize_text(test_text_list, maxlen=512)\n",
    "input_ids_val, attention_mask_val = tokenize_text(val_text_list, maxlen=512)"
   ]
  },
  {
   "cell_type": "code",
   "execution_count": 39,
   "metadata": {},
   "outputs": [],
   "source": [
    "img_txt_gen_train2 = img_text_generator2(train_img_path, input_ids_train, attention_mask_train, y_train, batch_size=32)\n",
    "img_txt_gen_test2 = img_text_generator2(test_img_path, input_ids_test, attention_mask_test, y_test, batch_size=1)\n",
    "img_txt_gen_val2 = img_text_generator2(val_img_path, input_ids_val, attention_mask_val, y_val, batch_size=1)"
   ]
  },
  {
   "cell_type": "code",
   "execution_count": 40,
   "metadata": {},
   "outputs": [
    {
     "name": "stdout",
     "output_type": "stream",
     "text": [
      "Image input shape: (32, 224, 224, 3)\n",
      "Text input shape: (32, 512)\n",
      "attension mask shae:  (32, 512)\n",
      "Labels shape: (32,)\n"
     ]
    }
   ],
   "source": [
    "batch_x, batch_y = next(img_txt_gen_train2)\n",
    "\n",
    "# Check the shape of the inputs (both image and text inputs)\n",
    "image_input_shape = batch_x[0].shape  # Shape of image input\n",
    "text_input_shape = batch_x[1].shape   # Shape of text input\n",
    "att = batch_x[2].shape \n",
    "\n",
    "# Check the shape of the labels\n",
    "labels_shape = batch_y.shape\n",
    "\n",
    "# Print the shapes\n",
    "print(\"Image input shape:\", image_input_shape)\n",
    "print(\"Text input shape:\", text_input_shape)\n",
    "print(\"attension mask shae: \", att)\n",
    "print(\"Labels shape:\", labels_shape)"
   ]
  },
  {
   "cell_type": "code",
   "execution_count": 14,
   "metadata": {},
   "outputs": [],
   "source": [
    "# Creating train, test, val, generator for meme (gives -> {image,text in image, O/NO} )\n",
    "img_txt_gen_train = img_text_generator(train_img_path, x_train, y_train, batch_size=32)\n",
    "img_txt_gen_test = img_text_generator(test_img_path, x_test, y_test, batch_size=1)\n",
    "img_txt_gen_val = img_text_generator(val_img_path, x_val, y_val, batch_size=1)\n",
    "\n",
    "# Creating train, test, val, generator for text (gives -> {text in image, O/NO})\n",
    "txt_gen_train = text_generator(x_train, y_train, batch_size=32)\n",
    "txt_gen_test = text_generator(x_test, y_test, batch_size=1)\n",
    "txt_gen_val = text_generator(x_val, y_val, batch_size=1)\n",
    "\n",
    "# Creating train, test, val, generator for image (gives -> {image, O/NO})\n",
    "img_gen_train = image_generator(train_img_path, training_DF, batch_size=32)\n",
    "img_gen_test = image_generator(test_img_path, testing_DF, batch_size=1)\n",
    "img_gen_val = image_generator(val_img_path, validation_DF, batch_size=1)"
   ]
  },
  {
   "cell_type": "code",
   "execution_count": 12,
   "metadata": {},
   "outputs": [],
   "source": [
    "import keras.utils as image"
   ]
  },
  {
   "cell_type": "code",
   "execution_count": null,
   "metadata": {},
   "outputs": [
    {
     "data": {
      "text/plain": [
       "<generator object image_generator at 0x000002528BAE2148>"
      ]
     },
     "execution_count": 19,
     "metadata": {},
     "output_type": "execute_result"
    }
   ],
   "source": []
  },
  {
   "cell_type": "code",
   "execution_count": 13,
   "metadata": {},
   "outputs": [
    {
     "name": "stdout",
     "output_type": "stream",
     "text": [
      "445\n"
     ]
    }
   ],
   "source": [
    "print(len(train_img_path))"
   ]
  },
  {
   "cell_type": "code",
   "execution_count": 22,
   "metadata": {},
   "outputs": [],
   "source": [
    "from tensorflow.keras.preprocessing.image import load_img\n",
    "from tensorflow.keras.preprocessing import image\n",
    "from tensorflow.keras.preprocessing.image import img_to_array"
   ]
  },
  {
   "cell_type": "code",
   "execution_count": 15,
   "metadata": {},
   "outputs": [
    {
     "name": "stdout",
     "output_type": "stream",
     "text": [
      "(32, 224, 224, 3) (32,)\n"
     ]
    }
   ],
   "source": [
    "# Test the generator manually\n",
    "img_gen_train = image_generator(train_img_path, training_DF, batch_size=32)\n",
    "batch_x, batch_y = next(img_gen_train)\n",
    "print(batch_x.shape, batch_y.shape)  # Check if it produces the expected shapes"
   ]
  },
  {
   "cell_type": "code",
   "execution_count": 17,
   "metadata": {},
   "outputs": [
    {
     "name": "stdout",
     "output_type": "stream",
     "text": [
      "['C:\\\\Users\\\\jasra\\\\OneDrive\\\\Desktop\\\\MAJOR PROJECT\\\\MultiOFF_Dataset\\\\Labelled Images\\\\LJ3r8Gy.jpg.png', 'C:\\\\Users\\\\jasra\\\\OneDrive\\\\Desktop\\\\MAJOR PROJECT\\\\MultiOFF_Dataset\\\\Labelled Images\\\\qDnIIHA.png', 'C:\\\\Users\\\\jasra\\\\OneDrive\\\\Desktop\\\\MAJOR PROJECT\\\\MultiOFF_Dataset\\\\Labelled Images\\\\1JQk5NF.png', 'C:\\\\Users\\\\jasra\\\\OneDrive\\\\Desktop\\\\MAJOR PROJECT\\\\MultiOFF_Dataset\\\\Labelled Images\\\\iMMNq.png', 'C:\\\\Users\\\\jasra\\\\OneDrive\\\\Desktop\\\\MAJOR PROJECT\\\\MultiOFF_Dataset\\\\Labelled Images\\\\jAi3iI1.png']\n",
      "        image_name                                           sentence  label\n",
      "0  LJ3r8Gy.jpg.png  official bernie sanders drinking game every ti...      0\n",
      "1      qDnIIHA.png  228 pm wall inside nazi gas chamber dwebs demo...      1\n",
      "2      1JQk5NF.png                     shit waddup bernie sanders com      1\n",
      "3        iMMNq.png  mitt romney worst republican country putup bar...      0\n",
      "4      jAi3iI1.png  anonymous id duqda1io 08 05 16 fri 163248 8423...      0\n"
     ]
    }
   ],
   "source": [
    "print(train_img_path[:5])  # Print first 5 image paths\n",
    "print(training_DF.head())   # Check the first few rows of the DataFrame"
   ]
  },
  {
   "cell_type": "code",
   "execution_count": 16,
   "metadata": {},
   "outputs": [
    {
     "name": "stdout",
     "output_type": "stream",
     "text": [
      "(32, 224, 224, 3) (32,)\n",
      "(32, 224, 224, 3) (32,)\n",
      "(32, 224, 224, 3) (32,)\n",
      "(32, 224, 224, 3) (32,)\n",
      "(32, 224, 224, 3) (32,)\n"
     ]
    }
   ],
   "source": [
    "for i in range(5):  # Fetch 5 batches manually\n",
    "    batch_x, batch_y = next(img_gen_train)\n",
    "    print(batch_x.shape, batch_y.shape)"
   ]
  },
  {
   "cell_type": "code",
   "execution_count": 13,
   "metadata": {},
   "outputs": [
    {
     "name": "stdout",
     "output_type": "stream",
     "text": [
      "Total Words in DataSet: 400000\n"
     ]
    }
   ],
   "source": [
    "# Creating vocabulary with glove embeddings\n",
    "vocab, w2v = read_data(os.path.join(GLOVE_DIR, \"glove.6B.50d.txt\"))"
   ]
  },
  {
   "cell_type": "code",
   "execution_count": 14,
   "metadata": {},
   "outputs": [],
   "source": [
    "# Creating word index\n",
    "word_index = tokenizer.word_index\n",
    "num_tokens = len(word_index)"
   ]
  },
  {
   "cell_type": "code",
   "execution_count": 15,
   "metadata": {},
   "outputs": [],
   "source": [
    "#Creating embeddding weight matrix\n",
    "embedding_matrix = np.zeros((num_tokens + 1, EMBEDDING_DIM))\n",
    "\n",
    "for word, i in word_index.items():\n",
    "    embedding_vector = w2v.get(word)\n",
    "    if embedding_vector is not None:\n",
    "        embedding_matrix[i] = embedding_vector"
   ]
  },
  {
   "cell_type": "code",
   "execution_count": 16,
   "metadata": {},
   "outputs": [],
   "source": [
    "#Creating embedded layer using embedded matrix as weight matrix\n",
    "embedding_layer = Embedding(num_tokens + 1, EMBEDDING_DIM, weights=[embedding_matrix], trainable = False)"
   ]
  },
  {
   "cell_type": "code",
   "execution_count": 18,
   "metadata": {},
   "outputs": [],
   "source": [
    "from keras.layers import Input"
   ]
  },
  {
   "cell_type": "code",
   "execution_count": 19,
   "metadata": {},
   "outputs": [],
   "source": [
    "# Defining input layer\n",
    "main_input = Input(shape=(maxlen,), dtype='int32', name='main_input')\n",
    "\n",
    "# Defining embedding layer which will encode the input sequence\n",
    "embedded_sequences = embedding_layer(main_input)"
   ]
  },
  {
   "cell_type": "code",
   "execution_count": null,
   "metadata": {},
   "outputs": [
    {
     "name": "stderr",
     "output_type": "stream",
     "text": [
      "W1109 01:05:03.298506  5476 deprecation_wrapper.py:119] From d:\\anaconda\\envs\\btechproject\\lib\\site-packages\\keras\\backend\\tensorflow_backend.py:517: The name tf.placeholder is deprecated. Please use tf.compat.v1.placeholder instead.\n",
      "\n",
      "W1109 01:05:03.305695  5476 deprecation_wrapper.py:119] From d:\\anaconda\\envs\\btechproject\\lib\\site-packages\\keras\\backend\\tensorflow_backend.py:4138: The name tf.random_uniform is deprecated. Please use tf.random.uniform instead.\n",
      "\n",
      "W1109 01:05:03.348326  5476 deprecation_wrapper.py:119] From d:\\anaconda\\envs\\btechproject\\lib\\site-packages\\keras\\backend\\tensorflow_backend.py:174: The name tf.get_default_session is deprecated. Please use tf.compat.v1.get_default_session instead.\n",
      "\n",
      "W1109 01:05:03.350874  5476 deprecation_wrapper.py:119] From d:\\anaconda\\envs\\btechproject\\lib\\site-packages\\keras\\backend\\tensorflow_backend.py:181: The name tf.ConfigProto is deprecated. Please use tf.compat.v1.ConfigProto instead.\n",
      "\n"
     ]
    }
   ],
   "source": [
    "\n",
    "\n",
    "# # A LSTM will transform the vector sequence into a single vector,\n",
    "# # containing information about the entire sequence\n",
    "# lstm1 = LSTM(32, return_state=True)\n",
    "# encoder_outputs,state_h,state_c = (lstm1)(embedded_sequences)\n",
    "# states= [state_h,state_c]"
   ]
  },
  {
   "cell_type": "code",
   "execution_count": null,
   "metadata": {},
   "outputs": [],
   "source": [
    "# # Defining second LSTM\n",
    "# lstm2=LSTM(32, return_sequences=True, return_state=True)\n",
    "# # Adding initial state as state of  previous LSTM\n",
    "# decoder_out,_,_=lstm2(embedded_sequences,initial_state=states)\n",
    "# # Adding dense layer with 500 neurons\n",
    "# decoder_dense = (Dense(500, activation='relu'))\n",
    "# # LSTM output\n",
    "# lstm_out=(decoder_out)\n",
    "# # Flattening \n",
    "# lstm_out = Flatten()(lstm_out)\n",
    "# # Output of text model\n",
    "# txt_out = Dense(1, activation='sigmoid')(lstm_out)"
   ]
  },
  {
   "cell_type": "code",
   "execution_count": 17,
   "metadata": {},
   "outputs": [
    {
     "ename": "NameError",
     "evalue": "name 'txt_out' is not defined",
     "output_type": "error",
     "traceback": [
      "\u001b[1;31m---------------------------------------------------------------------------\u001b[0m",
      "\u001b[1;31mNameError\u001b[0m                                 Traceback (most recent call last)",
      "\u001b[1;32m<ipython-input-17-4b09f60183b1>\u001b[0m in \u001b[0;36m<module>\u001b[1;34m\u001b[0m\n\u001b[0;32m      1\u001b[0m \u001b[1;31m# Defining text model\u001b[0m\u001b[1;33m\u001b[0m\u001b[1;33m\u001b[0m\u001b[0m\n\u001b[1;32m----> 2\u001b[1;33m \u001b[0mtxt_model\u001b[0m \u001b[1;33m=\u001b[0m \u001b[0mModel\u001b[0m\u001b[1;33m(\u001b[0m\u001b[0minputs\u001b[0m \u001b[1;33m=\u001b[0m \u001b[1;33m[\u001b[0m\u001b[0mmain_input\u001b[0m\u001b[1;33m]\u001b[0m\u001b[1;33m,\u001b[0m \u001b[0moutputs\u001b[0m\u001b[1;33m=\u001b[0m\u001b[0mtxt_out\u001b[0m\u001b[1;33m)\u001b[0m\u001b[1;33m\u001b[0m\u001b[0m\n\u001b[0m",
      "\u001b[1;31mNameError\u001b[0m: name 'txt_out' is not defined"
     ]
    }
   ],
   "source": [
    "# # Defining text model\n",
    "# txt_model = Model(inputs = [main_input], outputs=txt_out)"
   ]
  },
  {
   "cell_type": "code",
   "execution_count": 16,
   "metadata": {},
   "outputs": [],
   "source": [
    "from keras.models import Model\n",
    "from keras.layers import Input, Dense, LSTM, Dropout, GlobalAveragePooling2D, Embedding, concatenate\n",
    "from keras.applications import ResNet50\n",
    "from keras.layers import Embedding"
   ]
  },
  {
   "cell_type": "code",
   "execution_count": 17,
   "metadata": {},
   "outputs": [],
   "source": [
    "# Image Input and CNN\n",
    "image_input = Input(shape=(224, 224, 3), name='image_input')\n",
    "base_cnn = ResNet50(weights='imagenet', include_top=False, input_tensor=image_input)\n",
    "cnn_out = GlobalAveragePooling2D(name='globalavg_05')(base_cnn.output)\n",
    "cnn_out = Dense(128, activation='relu', name='dense_05')(cnn_out)\n",
    "img_prediction_layer = Dense(1, activation='sigmoid', name='dense_06')(cnn_out)\n",
    "# pre_trained_image_model = VGG16(weights='imagenet', include_top=False)\n",
    "img_model = Model(inputs = [base_cnn.input], outputs=img_prediction_layer)\n",
    "img_model.compile(loss='binary_crossentropy', optimizer=adam, metrics = [\"accuracy\"])\n"
   ]
  },
  {
   "cell_type": "code",
   "execution_count": 59,
   "metadata": {},
   "outputs": [
    {
     "ename": "AttributeError",
     "evalue": "'generator' object has no attribute 'input'",
     "output_type": "error",
     "traceback": [
      "\u001b[1;31m---------------------------------------------------------------------------\u001b[0m",
      "\u001b[1;31mAttributeError\u001b[0m                            Traceback (most recent call last)",
      "\u001b[1;32m~\\AppData\\Local\\Temp\\ipykernel_14268\\999815236.py\u001b[0m in \u001b[0;36m<module>\u001b[1;34m\u001b[0m\n\u001b[1;32m----> 1\u001b[1;33m \u001b[0mimg_gen_train\u001b[0m\u001b[1;33m.\u001b[0m\u001b[0minput\u001b[0m\u001b[1;33m\u001b[0m\u001b[1;33m\u001b[0m\u001b[0m\n\u001b[0m",
      "\u001b[1;31mAttributeError\u001b[0m: 'generator' object has no attribute 'input'"
     ]
    }
   ],
   "source": [
    "img_gen_train.input"
   ]
  },
  {
   "cell_type": "code",
   "execution_count": 57,
   "metadata": {},
   "outputs": [
    {
     "data": {
      "text/plain": [
       "()"
      ]
     },
     "execution_count": 57,
     "metadata": {},
     "output_type": "execute_result"
    }
   ],
   "source": [
    "np.array(img_gen_train).shape"
   ]
  },
  {
   "cell_type": "code",
   "execution_count": 77,
   "metadata": {},
   "outputs": [],
   "source": [
    "from tensorflow.keras.preprocessing import image\n",
    "from tensorflow.keras.preprocessing.image import ImageDataGenerator"
   ]
  },
  {
   "cell_type": "code",
   "execution_count": 15,
   "metadata": {},
   "outputs": [],
   "source": [
    "import keras.utils as image"
   ]
  },
  {
   "cell_type": "code",
   "execution_count": 78,
   "metadata": {},
   "outputs": [
    {
     "ename": "StopIteration",
     "evalue": "",
     "output_type": "error",
     "traceback": [
      "\u001b[1;31m---------------------------------------------------------------------------\u001b[0m",
      "\u001b[1;31mStopIteration\u001b[0m                             Traceback (most recent call last)",
      "\u001b[1;32m~\\AppData\\Local\\Temp\\ipykernel_14268\\1127385355.py\u001b[0m in \u001b[0;36m<module>\u001b[1;34m\u001b[0m\n\u001b[1;32m----> 1\u001b[1;33m \u001b[0mnext\u001b[0m\u001b[1;33m(\u001b[0m\u001b[0mimg_gen_train\u001b[0m\u001b[1;33m)\u001b[0m\u001b[1;33m\u001b[0m\u001b[1;33m\u001b[0m\u001b[0m\n\u001b[0m",
      "\u001b[1;31mStopIteration\u001b[0m: "
     ]
    }
   ],
   "source": [
    "next(img_gen_train)"
   ]
  },
  {
   "cell_type": "code",
   "execution_count": 18,
   "metadata": {},
   "outputs": [
    {
     "name": "stderr",
     "output_type": "stream",
     "text": [
      "c:\\Users\\jasra\\OneDrive\\Desktop\\MAJOR PROJECT\\.venv\\lib\\site-packages\\ipykernel_launcher.py:7: UserWarning: `Model.fit_generator` is deprecated and will be removed in a future version. Please use `Model.fit`, which supports generators.\n",
      "  import sys\n"
     ]
    },
    {
     "name": "stdout",
     "output_type": "stream",
     "text": [
      "Epoch 1/4\n",
      "13/13 [==============================] - 93s 7s/step - loss: 0.0814 - accuracy: 0.9591 - val_loss: 1.9853 - val_accuracy: 0.0000e+00\n",
      "Epoch 2/4\n",
      "13/13 [==============================] - 88s 7s/step - loss: 3.6094e-05 - accuracy: 1.0000 - val_loss: 51.1107 - val_accuracy: 0.0000e+00\n",
      "Epoch 3/4\n",
      "13/13 [==============================] - 88s 7s/step - loss: 9.1995e-06 - accuracy: 1.0000 - val_loss: 63.5904 - val_accuracy: 0.0000e+00\n",
      "Epoch 4/4\n",
      "13/13 [==============================] - 87s 7s/step - loss: 2.6104e-06 - accuracy: 1.0000 - val_loss: 57.3965 - val_accuracy: 0.0000e+00\n"
     ]
    },
    {
     "data": {
      "text/plain": [
       "<keras.callbacks.History at 0x28ea329c708>"
      ]
     },
     "execution_count": 18,
     "metadata": {},
     "output_type": "execute_result"
    }
   ],
   "source": [
    "img_model.fit_generator(img_gen_train,\n",
    "                        epochs=4,\n",
    "                        validation_steps = len(x_val)//32,\n",
    "                        steps_per_epoch=len(x_train)//32, \n",
    "                        validation_data=img_gen_val, \n",
    "                        shuffle=False, \n",
    "                        class_weight=class_weight)"
   ]
  },
  {
   "cell_type": "code",
   "execution_count": 19,
   "metadata": {},
   "outputs": [],
   "source": [
    "img_model.save('image_model_1.00ac.h5')"
   ]
  },
  {
   "cell_type": "code",
   "execution_count": 13,
   "metadata": {},
   "outputs": [
    {
     "name": "stderr",
     "output_type": "stream",
     "text": [
      "WARNING: Logging before flag parsing goes to stderr.\n",
      "W1127 23:11:38.967010  7512 deprecation_wrapper.py:119] From c:\\Users\\jasra\\OneDrive\\Desktop\\MAJOR PROJECT\\.venv\\lib\\site-packages\\keras\\backend\\tensorflow_backend.py:517: The name tf.placeholder is deprecated. Please use tf.compat.v1.placeholder instead.\n",
      "\n",
      "W1127 23:11:39.007158  7512 deprecation_wrapper.py:119] From c:\\Users\\jasra\\OneDrive\\Desktop\\MAJOR PROJECT\\.venv\\lib\\site-packages\\keras\\backend\\tensorflow_backend.py:4185: The name tf.truncated_normal is deprecated. Please use tf.random.truncated_normal instead.\n",
      "\n",
      "W1127 23:11:39.029636  7512 deprecation_wrapper.py:119] From c:\\Users\\jasra\\OneDrive\\Desktop\\MAJOR PROJECT\\.venv\\lib\\site-packages\\keras\\backend\\tensorflow_backend.py:245: The name tf.get_default_graph is deprecated. Please use tf.compat.v1.get_default_graph instead.\n",
      "\n",
      "W1127 23:11:39.030635  7512 deprecation_wrapper.py:119] From c:\\Users\\jasra\\OneDrive\\Desktop\\MAJOR PROJECT\\.venv\\lib\\site-packages\\keras\\backend\\tensorflow_backend.py:174: The name tf.get_default_session is deprecated. Please use tf.compat.v1.get_default_session instead.\n",
      "\n",
      "W1127 23:11:39.031637  7512 deprecation_wrapper.py:119] From c:\\Users\\jasra\\OneDrive\\Desktop\\MAJOR PROJECT\\.venv\\lib\\site-packages\\keras\\backend\\tensorflow_backend.py:181: The name tf.ConfigProto is deprecated. Please use tf.compat.v1.ConfigProto instead.\n",
      "\n",
      "W1127 23:11:39.088849  7512 deprecation_wrapper.py:119] From c:\\Users\\jasra\\OneDrive\\Desktop\\MAJOR PROJECT\\.venv\\lib\\site-packages\\keras\\backend\\tensorflow_backend.py:1834: The name tf.nn.fused_batch_norm is deprecated. Please use tf.compat.v1.nn.fused_batch_norm instead.\n",
      "\n",
      "W1127 23:11:39.149629  7512 deprecation_wrapper.py:119] From c:\\Users\\jasra\\OneDrive\\Desktop\\MAJOR PROJECT\\.venv\\lib\\site-packages\\keras\\backend\\tensorflow_backend.py:3976: The name tf.nn.max_pool is deprecated. Please use tf.nn.max_pool2d instead.\n",
      "\n",
      "W1127 23:11:50.268190  7512 deprecation_wrapper.py:119] From c:\\Users\\jasra\\OneDrive\\Desktop\\MAJOR PROJECT\\.venv\\lib\\site-packages\\keras\\optimizers.py:790: The name tf.train.Optimizer is deprecated. Please use tf.compat.v1.train.Optimizer instead.\n",
      "\n",
      "W1127 23:11:50.276723  7512 deprecation.py:323] From c:\\Users\\jasra\\OneDrive\\Desktop\\MAJOR PROJECT\\.venv\\lib\\site-packages\\tensorflow\\python\\ops\\nn_impl.py:180: add_dispatch_support.<locals>.wrapper (from tensorflow.python.ops.array_ops) is deprecated and will be removed in a future version.\n",
      "Instructions for updating:\n",
      "Use tf.where in 2.0, which has the same broadcast rule as np.where\n"
     ]
    }
   ],
   "source": [
    "from keras.models import load_model\n",
    "\n",
    "# Load the model into the img_model variable\n",
    "img_model = load_model('image_model_1.00ac.h5')"
   ]
  },
  {
   "cell_type": "code",
   "execution_count": 19,
   "metadata": {},
   "outputs": [],
   "source": [
    "maxlen = 512"
   ]
  },
  {
   "cell_type": "code",
   "execution_count": 32,
   "metadata": {},
   "outputs": [
    {
     "name": "stdout",
     "output_type": "stream",
     "text": [
      "['official bernie sanders drinking game every time bernster mentions free government program chug somebody else beer', '228 pm wall inside nazi gas chamber dwebs democrat mentions gun control remember picture', 'shit waddup bernie sanders com', 'mitt romney worst republican country putup barack obama endorse mitt romney', 'anonymous id duqda1io 08 05 16 fri 163248 84231555 84231620 84231654 84231659 84231689 84231698 2 84231735 84231790 84231867 84231910 84232021 84232120 84232180 84232228 84232342 84232377 84232671 84232765 84232970 file image jpg 92 kb 740547 repeating digits pass away getting witness trump vs hillary debate', 'kle watching dem debate hell yeah bernie hillary avoiding questions stahp hillary fucking stop swear fucking god hillary answer god damn question stop avoiding topic actually fucking debate ali', 'trump isanasshole hillary isaliar iiwishicould vote negroagain', 'nt cop problem america problem cops sure black america cop problem cops neighborhood neighborhood liberal democrat problem kevin jackson', 'bernie hillary informed compare issues matter issue come dat boi shit comes boy waddup obvi plant', 'run world2 vy park milk cow podcast like page yesterday 840am beyonc pays sweatshop workers make lvypark range 44 pence hour breath preaches empowerment', 'republican 1988 reform party 1999 democrat 2004 republican 2009 independent 2011 populist 2016 americans love hate traditional marriage 3 divorced 2 antiimmigration marries immigrant hates muslims helps rich muslims loves china stocks china buy books get rich net president china usa make trump rich', 'give man fish feed day teach man fish feed lifetime promise man someone else fish day create lifelong democrat voter facebo go rightalertscom breaking news without liberal bias', 'bert ernie bernie', 'bernie informed compare issues matter pepe love sad frog rares', 'vote green bernie angry', '800 pm et breaking news clintontrump debate begins momentarily cnn live cnn', 'mike pence always look like introduce legislation outlaw men', 'could please elect trump president great made inngur', 'campaign manager need millennial votes trump say fam', 'bernie howl appeal christians lmasocialistlew whowants money lenders held accountable fortheircrimesedl', 'news bernie sanders wins connecticut democratic primary huffington post 1 hour ago bernie sanders lvt connecticut democratic futur torelievein primary giving campaign hillary clinton defeats bernie sanders maryland primary huffington post 2 hours ago bernie sanders plays literal trump card huffington post 7 hours ago news huffington post bernie sanders connecticut hillary clinton wins connecticut democratic primary huffi wwwhuffingtonpostcom hillaryclintonconnecti huffington post 2 mins ago bernie sanders lvt hoping score upset nutmeg state something history backing liberal candidates', 'either hillary innocent ca nt trust republican head fbi gop supporters might want sit one inngur', 'le acid feel bern support sanders 2016 sir feel bern feel ahhhhhhhhhhhhh berns bern', 'please dont watch try converse w believe following antisjw anti feminism anti selfdiagnosis homophobic transphobic etc believe form reverse oppression tru scum transmedicalist anti kin fictionkin disagree nounself neopronouns im otherkin friends fight anyone harasses 0 ship anything incestous pedophilic large age gap abusive agree donald trump want president ya need bernie sanders', '1047 pm enmwikipediaorg ey playing united states may 2013 personal information clinton man mama dempsey march 9 1983 age 31 11 rth irth nacogdoches teas united states 185 6 ft 1 2 forward attacking midfielder osition club information seattle sounders fc youth career dallas teans', 'k notes october 31 2016 1240 pm dear huma psst wanted let know l think climate change fake also women punished abortions plus meicans rapists criminals muslims treated like terrorists oh get nt paid taes years like almost taes alright got ta run tim kaine wants chat conversion therapy good done gon na grab cock allowed famous 4 best hillary p day l court child rape thing', 'manny loko jimenez offends vegan transgender atheist german engineer vapes organic decaffeinated compressed soy breast milk regular person indian naked crossfit yoga five times per week l also male feminist identity rastafarian apache helicopter serves one master chihuahua helped cross border meico plus l hate donald trumpmy dog also walks find weird arrogant ignorant homophobic globaphobic seist sun 640 pm like 758 reply', 'tell megyn kelly ahelpless victim donald trumps mysogyny needs sympathy', 'monica loves clintondiy # fantasy footballteamnames conflrtcom', 'simple bernie hillary trump', 'ya boi bernie apr 30 648pm b oh noe come upon image scrolling visited dat boi bernie comment shit waddup 42069 seconds blessed student loan forgiveness else doomed suffer hands yuge corporashuns smoke mids forever shi wadd', 'bernie hilla informed compare em issues matter issue real nigga hours smash dat muthafuckin like button', 'alton sterling father 3 sentenced immediate death law enforcement selling cds outside gas station america hillary clinton carelessly allows int l access top secret government info consequence law enforcement', 'clever bot dank memes hi mc donald dank memes dank memes ok share dank memes think think thoughts far', 'sign republican email lists aso mark spam made imgur', 'gma safari army gma safari mus robach amazing j see moments depth etreme weather strikes deadly storms snow squalls trigge west massive 40car pile good morning america rewind analysis presidential candidate marco rubio reacts republican presiden', 'trump loses illegals pour country borders unsecured china put us debt isis destroyed thrive constitution longer eist economy never ever recover radical mslm take control destroy way life vets die shamelessly matter family go wo nt safe america longer eist vote donald trump', '4g 28 751 top tweet timeline heinhe cimbed leers 007 cnn cnn 12h gary johnson answer voters looking alternative # libtownhall airs 9p et cnnit 397 view tweet 466', 'department justice blocks investigation clinton administration goes around starts investigation anyway made imgur', 'trump says fuck bernie sanders 20 somethings dont get ass aout fucking work like stop asking free shit', 'give man fish eats day give man welfare check free cellphone food stamps section 8 housing sipack beer crack pipe air jordon vote democrat rest life', 'hunter pence francisc gather pence', 'bernie hillary informed compare issues matter issue meican food tried chicken compleity flavors spices biscuit taco taco bell great way reward regional diversity mole sauce puts meican crossfit cooking par world great cuisines', '73 101 pm k +1 5593767017 great thanks please bring friend two great day 1252 pm thank 1253 pm thanks 1257 pm feel bern 100 pm 0 160 add tet', 'bernie hillary informed compare issues matter issue paul blart love paul blart paul blart sucks third movie', 'bernie 2016 sherrod bro', 'bernie supporter wants vote trump four options dont vote 2 vote third party candidate 3 vote trump 4 stab eyeball happy hunting', 'wonder whatsup favorite firstilady hillary clinton favorite businessman andtv personality kurt cobain', 'nou help men permanently trump pence could 2016 stronges eason forthe people retain rightio keep beararmsis asalast resort protectthemselves tyrannyingovernment oct god trust 16 donald trump president 2016 news amillon cops streets todai', 'myth uneducated white males support donald trump high energy islimg 24 1310 n submitted 3 hours ago consolewars r donald 103 comments share save hide report trump', 'come johnson 2016 facebook reasonable people gary johnson', 'sorry government spy tool distraction greater public everything government trying hide prefer know events could possibly destroy world like us sent troops putin bernie teamed clinton happening lsrael leaders dictatorship oops political minds', 'native american bernie sanders supporters nt calling indian berns wrong tj wharry twharry', 'trumppence trumpets yes trump god 1corinthians 1551 1thessalonians 416 october 2nd sunset jerusalem time begins hebrew year 5777 hundreds signs first time ever unprecedented epic convergence eample muslim turks take jerusalem 1517 lose general allenby eactly predicted 8 jubilees later first day hanukkah 1917 net jubilee si day war 1967 eact wow already net jubilee rapture ready jesus warns us plainly remain tribulation worst time ever ever think itjust one emp lights food water transportation riots fires oh hundreds nuclear storage pools overheat nuclear fires everywhere like f ushima 9 see hundreds proofs facebook page u dod like reply 1 41 mins', 'bernie bernie sanders e berniesanders let say loud clear women control bodies government arizonagunguy let say loud clear gun owners control guns government diesel fumesniffer everyone say adults control healthcare government uncle dave let say loud clear wage earners control money government liberty bill let say loud clear market coordinates time interest government redbloodedamerica let say oud clear private companies consumers control market government', 'hillary clinton folgen hillaryclinton made delete account donald j trump realdonald trump obama endorsed crooked hillary wants four years obamabut nobody else 6 ubersetzung anzeigen retweets gefallt 5527 5363 0827 9 juni 2016 5 5 tisd 5 4 tsd', 'ifa vote anyone trump vote hillary vote anyone hillary vote trump', '1129 pm 3 29 853 pm 11 2824 pm 8 804 pm 20 1208 26 1119 pm 39 1040 pm 23 938 pm 719 pm 10m 628 pm 13m 615 pm 553 pm hate liberals republican oldmin', 'wow cold cold morning actually saw democrat hands pockets', 'shares c score one pence two pence three pence four four pence three rence trump pence', 'bernie hillary informed compare issues matter issue soccer emirate obvious plant', 'enough vote clinton vs trump', 'trump agrees breit thinks fantastic ca nt good thing', 'real donald trump know donald trump sheltered jennifer hudson rentfree family murdered donald trump sued city palm beach bought segregated club mar lago open jews blacks donald trump paid ensure meican american boy would graduate college saw news story terminally ill mom donald trump dispatched plane fly sick jewish boy special care heard airline would accommodate medical equipment donald trump sent t10 000 hero bus driver darnell barton seeing news story saved woman jumping bridge donald trump gave job constructing trump tower barbara res making 1st woman history build skyscraper', '82 154 pm posts 4 hrs last night house house robbed make worse victims children first amendment rights begged put trump sign front house l reluctant reasons sign stolen sad see country come state # thoushaltnotsteal # makeamericagreatagain # trump2016 trump makeamerica great like share comment co write comment', 'hillary clinton ben ghazi 2016', 'happens jill stein nt win elections plan b plan b', 'like page 21 hrs wouldanorgandation createdbydemocrats gop begins une behind presumptive nominee vote republican 29k reactions 85 comments 12k shares like comment share 29k others top comments write comment', 'donald trump talks like real men talk real men talk dirty women epect alaska anyway like men tough sweet talk weak wristed liberals sarah palin 10 11 16', 'feds arrested aveteran supporting donald trump veterans us', 'chelsea clinton steps college parents get job paying 900 00000 per year mom goes around country speaking white privilege think awhile', 'build wall around donald trump made imgur', 'gb tube search donald trump e like sharell ithis live broadcast golden st liv', 'republican democrat wasting time energy', 'one three trump supporters spell word burn bern', 'aw look cute oh voting democrat election cycle retarded', 'bernie sanders legendary creature human champion death touch double strike evolve ealted fear first strike flash flying haste heproof indestructible lifelink shadow trample unblockable undying vigilance soulbound b ernie sanders enters battlefield +1 +1 counters number hi campaign contributors 20 20 mtg cardsmith http mtgeardsmithcom', 'ituted anten deriving ect le te alter c ach princ vent donald trump sniffing montage presidential debate 2016', 'nfl memes narrowing 318 million people donald trump hillary clinton president like narrowing entire nfl pick ryan fitzpatrick blaine gabbert fantasy team', 'man threw tomatoes donald trump last night andrew alemao # iacaucus icpccom 2051bqi endy ramirez andrew officially meican eyes meicans act like want come thru cook outs come thru get popping beers carne asada girls dancing shit mom abuelas make tamales posole sir invited mi casa su casa longer andrew andres welcome family fucker', 'see image scrolling visited gary johnson liberty blessed entrepreneurship legal weed come comment nt tread', '1 hr f donald trump becomes president l leaving america moving hawaiis like comment share', 'term communistto describe bernie sanders ourliedetectortest determined need free collece', 'bernie hilla informed compare issues matter tupac issue prefer know funny rains pours superpac got money wars ca nt feed poor', 'teas presidential poll public policy polling election today would vote 44 donald trump r 38 hillary clinton harambe gorilla 2 jill stein g fo4 554 76', 'bernieitdown 489 points 18 hrs meat without taste fear suffering wo nt gadafgadaf 116 points 15 hrs ca nt forget cramped unsanitary conditions raised bernieitdown 54 points 15 hrs etra flavor also missed natty light murica 34 points 14 hrs sweet sweet marinade vile conditions impending doom eamantite 3 points 6 hrs dip mine honey mustard', 'ere saur etitusinvictus feel bern hillary wins primaries garbage never better representation feel current democratic nomination process', 'hahahahha trum sent 46 minutes ago typical lying democrat proving lie ca nt help enjoy cancer enjoy net beer much knowing dead sooner permalink report b user mark unread reply', '3 wives 4 bankruptcies 5 time oraft dodger creates fake universitloutsources jobs meico china hires 200 undocumented polish workers rips wants tousecourustosilence media thinks ted cruts father killed jfk republican presumptive candidate', '37 1208 search pablo reyes december 26 2015 b call crazy 2016 hillary clinton first female president world go crazy death gorilla prince die muhammad ali die kimbo slice die donald trump die usa eperience worst mass shooting trying scare anyone remember name', 'commonweealth virginia official ballot county fairfa mocratic party presidential primary tuesday march 1 2016 estado de virginia papeleta oficial condado de fairfa presidencial del partido democrat martes 1 de marzo 2016 president vote one presidente votar por solamente uno hillary clinton martin j omalley bernie sanders', 'gary johnson icannotafford therapistiknowineed andoverall feelasifi future iam another poor person beingsoueeledoutandlefuuodry ultrarich hopecan give methatthecountrybeingfiscally conservative going help family reach american dream upward mobility best chance youhave reach american dream entrepreneurship individual freedom liberty betterallowyouto dothat create job nt victim take controlofyour future h net', 'tim tebow denies report 20 speaking donald trump republican convention bleacherreportcom 17 comments politics republican national convention speakers list revealed trumps barely famous friends set take stage cleveland delegates treated array riveting speakers like soap opera star antonio sabato jr heisman trophy winner tim tebow saloncom welcome', 'prince musical genius vision intellect far beyond anyones imagination one day brothers sisters realize democrats made us weak giving us things would normally work vote republican realize anything worth worth working prince', 'barnie stalin feel bern', 'bernie hillary informed compare issues matter issue losing bets pays never shook front hands bro', 'libya clinton pushed war killed 30 000 people rebels killery backed turned al qaeda types gaddafy knife raped street said came saw died laughed bern felt', 'feel bern starter pack score credit ecellent oba l ch wr uncertain poor la funny news movies book r politics anti hillary ntroversial top', 'donald trump pros hillary cons donald trump hillary clinton pros trump cons hillary', 'obamacare citizens forced buy healthcare coverage drs hospitals accept stupidity brought democrat party', 'cnn cnn cn cnn cn nn cnn tunintelligible yellin cnn republican presidential debate live cnn 909 pm et', 'future belie bern ies anders com crowd mistakes small bird 800 delegates', 'gorillavid watch trump hugs american fla week stupid 0 gnhumans reading order g marvel infinity reading l aaron c fi https page 2 e apps f facebook youtube e mail ochrome pins reddit drive imgur school london music hall il league life rbc royal bank sign otwitch c bookmarks sister ate red velvet pop tarts stoned wanted replace thought ordered one 12 pack 128 617 reddituploadscom submitted 11 hours ago 11 n trees 77 comments share save hide report l+cl', 'tmobile lte 65 820 4g heart touching bitter truth old man took phone repair shop repairer told nothing wrong phone old man tears eyes said nt children ever call quote fountain 2 others bernie tobin 28k others 220 comments like share comment', 'bernie hillary informed compare issues matter selena issue loss selena unsurmountable loved j lo would superstar lifetime crossed spanishlanguage market mainstream movie english markets fashion sense stage presence dance moves charisma like none l seen fuck yolanda saldivar', 'got politics months ago nt pay attention economics history high school starter pack 2016 bernin ernie sanders com 2016 r feel bern', 'voting hillary want trump get bad news wil cause lot people suffer causing libya fail robbing haitians relief funds n destabilizing syria iraq selling billions dollars arms saudis haha american nt count p', 'wun advent donald trump hillary clinton join oligarchy american political structure donald demagogue true ultracrepidarian mental scotoma gnostic perspective life autodidact offer solemn adjuration everyone way better learn 3 hours ago like reply', 'ya bol bernie apr 30 648pm b oh noe come upon image scrolling visited dat bol bernie comment shit waddup 42069 seconds blessed student loan forgiveness else doomed suffer hands yuge corporashuns smoke mids forever shi wadd', 'trump make great aga nato green 9 california republican party state convention april 29 337pm burlingame ca america great trump supporter lifetime point history know say america great trump guy ca nt think one slogan really make america great first time yes specific ways would like america greater big question ca nt answer dude slogan well unity prosperity like kid able get job would trump help things think would scene', 'diffuser like page 1 hr latest batch wikileaks emails show tom delonge blink182 contacted government ufo research former blink182 frontman tom delonge ufo emails clinton campaign manager revealed wikileaks dump diffuser fm galpaladins stopped trying comprehend going anymore', '24 take stinking paws damn dirty democrat', 'cant stop bern country', 'enter wi n dinner donald trump', 'david burge following iowahawkblog 1963 martin luther king gun owner fbi watch list united states democrats holding sitln house floor demand vote rep john lewis group fellow democrats took house floor late wednesday morning stage sitin goal pressure republican l slatecom', 'hillary clinton unfit president 4 weeks ago must support hillary clinton today', 'live philadelphia r bernie supporters dnc dow 18 54264 +2541 change +014', 'nt believe women rights think gays hanged actually l muslim religious beliefs wow complete 4 primitive asshole must republican oh sorry apologize hope nt think islamophobic c 2016 dion diaz', 'majority going really disappointed trump gone inngur', 'evansville indiana utur indiana primary e coverage begins 5 41 48 sec afuture believe bell 2016 race b sanders l strongest candidate trump cnni sen bernie sanders presidential candidate p 2204 newsroom', 'hillary clinton retweeted constance zimmer constancezimmer jun 8 8 year old said see mom true anything possible # imwith hillaryclinton hillary', 'donald j trump areal donaldtrump 2 7 13 obama kill americans drones waterboarding allowedonly america 1 258 829 russell steinberg russ steinberg 2 7 13 real donald trump hate america much run president fi things 918 1 424 donald j trump arealdonald trump 2 7 13 russ steinberg careful 1 769 1 539', 's20 says guy votes democrat', 'true wacky every nite picture bernie', 'democrat salsovotedagainstgun control today andthe person responsible forthenationtsbiggest massshootingisaregistereddemocrat thats none business', 'make america great hillary', 'iftrump loses illegals pour country borders unsecured china put us debt isis destroyed thrive constitution longer eist economy never ever recover radical mslm take control destroy way life vets die shamelessly matter family go wo nt safe america longer eist vote donald trump', 'tfw endorse hillary chill rest summer', 'jommen starting feel bern', '1943 hiroshimna detroit zo 1 cd hiroshima detroit lesson easier come back frorn nuclear strike five decades democrat control government thehayridecom', 'imundoubtedly liberal means min almost total agreement eisenhowerera republican party platform rachel maddow americans republican party bitly stopthegop', 'brace republican condemnations trump coming made imgur', 'search hillary better going take freedom bring refugees destroy country neither may good want save country one take us muslim right bring laws say take god schools ten commendments away screw people right save america illegals refugees free ta non americans every body pays taes ta credits non americans muse come citizen work walking trail tears worse 2 hours ago like reply', 'nt vote republican democrat choosing sin always write lord name republican count', 'clinton probe cnn sufferiing premature eoneration indictment still pending vnsro bulls truth', 'v f silent ds donald trump broadened appeal', 'giris get done wooningonera pornou icmuld usea little elpi mother bernie', 'libnutz dion diaz hillary leaked emails prove sold weapons isis told wall street bankers cares trump said public positions different pussy private ones dion diaz 10 19 2016', 'home us election 2016 world us elections 2016 mike pence plane slides runway laguardia airport new york mike pence republican vicepresidential nominee emerged unscathed', 'e anonymous id pkvmkday sun 200407 no78832917 06 26 16 honest would dop trump tower png 945 kb png well anonymous id htrynkw 06 26 16 sun 200436 no78832980 tell make liveleak great', 'bernie sandersisout move allyourkarmato tornadoes', 'iam voting trump republican party', 'oz pence', 'president sanders moto ddas free shit ace hoteltheater los angeles calforna february ffth 2016 bern elthe', 'come meet sakura able 4 ouseketch dnbever ikenododn true bern min falleland master rainer greadelictrk miase breaker master charizarlos hrst type erace wdurself gary noiming ay', 'bernie hillar informed compare issues matter issue selling acid lsd nh 25inbom', 'bernie communist turn country communist state climate change god allow planet long needs destroys fire talk climate change oh wait l heaven wo nt care 5 hours ago like 147 reply view 74 previous replies replied', 'u know trump bout president u got ta tell ur friends goodbye worldpolice', 'trump foreign policy masterclass donald eplains lran iraq war trump pen ce virginia beach vinginla iran iraq similar militarily fight fight fight rest fight fight fight saddam hussein would gas somebody else would something else rest actual donald trump quote foreign policy town hall meeting virginia beach va 9 6 16 democraticunderground com', 'lte 55 455 qo economist briefing labour party salvaging jerusalem britain left got crisisand get united states trump altright pepe stormtroopers donald trump ushered hateful fringe movement mainstream', 'leaked photo mike pence grabbing pussy', '# forkhillary howto watch hillary clinton tv enjoyably _', 'billionaires ca nt buy bernie bern ies anderscom awkward', 'bernie sanders', 'chronic hoosier chronic hoosier everyone around country googling mike pence sincerest apologies signed indiana 7 14 16 956 456 retweets 502 likes', 'subtogetiridofthe spam instead decide complain aboutitbecause dontlike trump thatsnone business imgflipcom', 'unnar eempted draft american college student future senator presidential candidate bernie sanders protests war vietnam university chicago 1963', 'dad feel bern son responsibilities contribute society', 'proof trump gave speech opposing nafta passed get top live reddit submitted 6 hours ago gullo11 i1 187 comments source share save unhide give gold report hide child comments rule break spamming trolling racism releasing personal information vote manipulation brigading', 'bernie sanders sat bus rosa parks hillary clinton', 'hillary clinton policies black americans home summedupin one picture', '6 hrs atheist satanist christian jew muslim democrat republican libertarian homoseual heteroseual walk bar drinks talk become friends happens douchebag others 13 1 comment like comment share', '201 ru make america great www donald trump com', 'lizard people new york 20 hrs one russian hackers leaked democrat emails planning hacking us politicians yes plan log onto hillary clinton facebook page make status say im gay lol comment hacked', 'remember isis killed76 people including 24 children wacoteas oh wait nevermind last clinton administration', 'james saintfrancia sirjamesa12 get liberal brianna wu violence place politics spacekatgal violence place politics violence place politics white people list violence n 1 recognize privilege 2 educate self structul 3 amplify black voices 4 shut mouth listen protesters attack trump supporters outside san jose rally 1 058 1 122 tnump supportars attackat one officer assaultad durin9the pr test 209 pm 18 jun 2015 89', '17 hrs clinton kaine 2016 suck america like comment share', 'postsaboutchelsea clinton getting good jobstraightloutof college parents help andthen complaining white privilegel makes nephew ceo company straight outof collegel', 'side joseph stalin 2016 presidential election issues candidates side joseph stalin communist 1000 ca domestic policy healthcare social immigration criminal foreign policy education science issues compare answers bernie sanders democratic 89 domestic policy social healthcare immigration foreign policy criminal science issues compare answers', 'felt bern time feel johnson feel johnson', 'pinguists support hillary clinton president best possible option comrade pingu', 'ut 14 hrs way assassination berta caceres singled hillary clinton backing honduran coup former secretary state hillary clinton facing new round questions handling 2009 coup honduras ousted democratically elected democracy org like comment share first definitely last person terminated killary regime clintons modern day global mafia like reply 1 hr', 'gary johnson super pac spent 30 000 internet web memes', 'distress like us facebook vowed never vote democrat matter nt care god becomes democrat democrats communists gangsterism crazy', 'says bernie sanders supporters lazy unemployed stays redditposting shittymemesand biased articlesall dayeveryday', 'ifwougrewtiredofthe feel bern postsclogging uptheredditfrontpagethispastyearhaveno fear thenetfourmonthsredditis going feelthejohnsonriguarantee com', 'die office screw vp weekend bernie rest term made imgur', 'truu mp www donald trump com make america great', 'isaac issac follow fliestplane donald trump becomes president walking street hear aye boy ya freedom papers retweets likes 23 868 21 289 558 pm 15 mar 2016', 'donald j trump arealdonald trump happy # cincodemayo best taco bowls made trump tower grill love hispanics facebookcom donaldtrumppo', 'bernie hillary informed compare issues matter sleep issue support since early 90 6 hours night also partial high fire om', 'angry bernie sanders like', 'q bring back american dream look bring american dream back tell bringing back okay understand saying get many people american dream dead asking question american dream dead american dream trouble tell okay trouble going get back real jobs man beautiful red hat stand stand hat donald trump rochester nhtown hall september 17 2018', 'bernie hillary informed compare issues matter fight club issue heard fight club', 'happy mother day best tampons dispensed trump lower lavoratory love women kote', 'wish political debates run like american idol hear ryan seacrest say show support bernie sanders tet feel bern 367567 show support donald trump tet nword 367567 lul seanhyatt sucks', 'boombo americans poor democrat dion diaz americans rich vote republican apologies aaron mcgruder eplains democratic party strategies poverty', 'submitted 5 hours ago letthemotherbern r documentaries 80 comments share save hide report snails use two brain cells make 50 1745 comple decisions team scientists found researchers university susse said one cell told snail hungry cell told food present animal science bbccom submitted 5 hours ago libertatea r science 76 comments share save hide report view prev net try random subreddit', 'clinton dropout sanders nominee wuzuse', 'donald trump strongest meicans allowed stay survive annual hunger games hillary clinton hey teens check new arthur meme instragram really checks notes woke gary johnson know debate man l craving doritos right jill stein gmos cause autism', 'march tyranny uni net time ill vote republican garrison bergarrisoncom ugn net time ill vote democrat', 'virginia embarrassed trump state even republican primary fourth best public school system country blowing like comment share 5 others theres fairly good chance bernie supporter shoot gets elected secret service nt eactly greatest track record like reply 30 mins edited write comment', 'rosita shop assistant look amazement elmo masturbates newspapers front page story donald trump winning presidential election', 'stop trying make president bernie happen going happen img com gflip', 'score hidden 2 minutes ago epect nation sky worshipers crazy people judge believing bernie problem building temples imaginary saviours chance unleash force good country like story jesus bernie rise contest need church believe something permalink embed save report give gold reply score hidden minute ago goodness see permalink embed save parent report give gold reply', 'oo sprint lte 910 44 tweet liked 2 others v anyone trump gary johnson outlaw schools jill stein crystals technology need ok hillary guess 8 13 16 1111 5 556 retweets 105k likes reply drewtoothpaste home notifications moments messages', 'girls schools still offering g something special head laura weers may alarasitee__erts mivee elm witler emewal eat eaarntae g kle sed knara ra ers boa lasses cobrgetse dekrted tteeir winning 9mrea derty _rke fupttwa mr rets nikcer icane eke pop bat e alal uhat dw yo_ l tte dca damas aaaacs aathi amer ran ofthe wiriang aginral albau iat caange u eone bfnsasl anesvars gea ear ele aringngwm _e thbwet dletautalng ar eaeak hana hul fr tsrmethlery keroner eur keis freleey biseasaaljotal aewsrae weal work asa erenawe_smet f er eny _kale herve star ere twm e arts dvf ane irtps enrse de ade haie bern previrupry dv b l terer whe ethy wer treeal hn many aberts chehehas tatin gl ihe ir le flo aat soyal ee pre pigs ittheleserter79 learns lvaadins md b manis vert mentu pantinafirlthie k lad eatia bres var', 'fee describe individuals attacke yes officer vibrant youths troubled backgrounds seeking outlet epress bottled rage collected system eploits due inherent white racial supremacy bern', 'still abetterteamowner el memes donald sterling', 'democratic candidate best suited handle terrorism none hillary clinton bernie sanders martin omalley 5 0 10 15 20 25 30 35 40 45 50 source reuters ipsos pol december 13 2015 l weekly mean l sample size 2 068 people polled online', 'shit redd sats comments related brigaded ah bef eft submit brigaded donald fart supporters 234 comments source share save hide report h', 'facts dont lieaz reagan 11 mass shootings bush sr 12 mass shootings clinton 23 mass shootings bush jr 16 mass shootings obama 162 mass shootings', '2012 cao bernie 2016 greenpeace endless war net wat bernie sanders com obama', 'wifi wifi networking available wifi networks clinton email server secured linksys02865 secured 9zq33 secured bobsiphone secured century link4013 secured century link9748 secured 356', '1202017 first thing want donald 1 arrest obama hillary 2 start wall 3 reverse eecutive orders 4 restore relations allies 5 stop flow immigrants 6 start deporting illegal immigrants 7 restore jobs taken away obama 8 start va reform veterans need 9 stop funding blm epa tsa 10 make concealed carry legal without permits pass background check carry 11 get government schools let parents teachers govern school curriculum lunch 12 rebuild military run america like profitable business', 'feel bern', '5 recent worst mass murders america firearm 1 ft hood registered democrat muslim 2 2 columbine young vote families registered democrats progressive iiberals 3 virginia tech wrote hate mail president bush staff 4 colorado theater registered democrati staff worker obama campaign occupy wall street participant progressive liberal 5 connecticut school shooter registered democrat hated christian shooters progressive liberal democrats stephen ehughe', 'school m8 23 april 1655 order correct l sometimes politically incorrect thats wh intelligent people like say know speaking truth receive lot hate thats jesus christ donald trump martin luther king considered controversial 2 killed speaking truth like comment share view 7 comments guy take chill pill like reply 1 yesterday 0012', 'say republican convention white people wrong guy orange made tmgu', 'homey running prez hoping secretary cologne 22h vahab1269 rentstation alejandroruizo6 briangerz medomasr matthew 2lit like idiotcinema ae body spray baby # scottbaio frnc 2016 # trump # democrat frepublican', 'epect give handout candy roof lucky might trickle oh crap republican', 'real racist vote democrat', 'sure trump part conspiracy elect hillary hillary part conspiracy flect trump', 'bishop earl walker jackson sr issued plea christians leave democrat party democrats boo god 3 times 2012 convention democrats support abortion place planned parenthood clinics minority neighborhoods democrats reject bibical family structure democrats openly hostile epress christian value hillary says must give principles democrats hostile toward display cross public prayer democrats turned backs god', 'latest twitter follow lindsey graham sc think millions americans soon find find vp candidates governor mike going limb nt see case well pence senator tim kaine tedcruz trump cabinet https tco 2mo2c1lo2k palatable presidential nominees posted july 29 2016 posted july 30 2016 posted july 30 2016', 'hate liberals republican oldmin', 'ariel edwardslevy aedwardslevy 2m stand bayh gnus hillary getty imm hillary clinton com', 'dumping order united governor vote johnson president gary johnson 2016com ock9', 'people ask democrat republican', 'ya boi bernie apr 30 648pm oh noe come upon image scrolling visited dat bol bernie comment shit waddup 42069 seconds blessed student loan forgiveness else doomed suffer hands yuge corporashuns smoke mids forever shi waddu dat boi rollin primaries', 'ooo tmobile lte 622 pm 46 hillary clinton home posts photos videos events abc anything want even president tonight 413 comments 2k shares 173k like comment share marketplace notifications news feed', 'bernie wa large margin e cant fudge numbers physical caucus made imgur', 'give man fish eats day give man welfare check free cellphone food stamps section 8 housing sipack beer crack pipe air jordon vote democrat rest life', 'nt believe women rights think gays hanged actually l muslim religious beliefs wow complete 4 primitive asshole must republican oh sorry apologize hope nt think islamophobic c 2016 dion diaz', 'hey bernie difference progressivism fascism liberalism marism communism socialism nazism democrat party mu spelling', 'fuck media ignore gary johnson starts talking tiny misunderstanding made imgur', 'anonymous id fanlvgay 09 30 16 fri 002322 90944787 hillary former secretary state wife former potus current potus obango shilling living former potus side msm shilling day night supervillain billionaire spending fortune get oval office party sorts crooked shit get nomination army idiots waging war internet even fbi setting asses fire save still ca nt maintain lead orange faced idiot apprentice hillary probably worst candidate history people even considering', 'dont allways go work uk ofcourseldo im freeloading bernie sanders supporter', 'bernie collapse voting anything change', 'pence willbe flying aroundthe country campaigning trump donaldfigured wouldbe good penceflyin planethat saidsomething trump pence received aircraft trump trumppence written ithad completely different color scheme vaguely resembles ar force one aircraft painted white blue like president flies around time sure annoy living daylights president barack obama hillary clinton new plane pictured sidebyside picture ofalr force one easy comparison p e n c e american eceptionalism', 'hillary clinton donald trump trebuchet said dumb bullshit launch 95 kilogram stone projectile 300 meters', 'bernie hillary informed compare issues matter issue selena loss selena unsurmountable loved j lo would superstar lifetime crossed spanishlanguage market mainstream movie english markets fashion sense stage presence dance moves charisma like none seen fuck yolanda saldivar', 'tagged photo mom son 2 hrs hey get sticker football game someone mom putting everybody hey school paper endorse hillary oh yeah nt even say totally obvious went talk voting stuff like comment share', 'like dank memes dangerously low selfesteem kinda fat pretty much looking hookups get famous r meirl give nice firm handshake 2 interests bernie sanders us senator bernie sanders', 'russian government chart vladimir putin dmitry medvedev sergey shogyu sergey lavrov vladimir korolev custodian igor korobov asst custodian donald trump melania trump', 'file bernie sanders gif 168 mb 290246 anonymous 10 08 16 sat 195046 no31957540 31958450 31958524 high school sweat lot due aniety armpit sweat becomes visible shirt feeding vicious cycle aniety idea armpit tampons tape toilet paper armpits go school go bathroom lunch replace fell point either class walking halls armpit tampons fell nt know saw anonymous 10 08 16 sat 195338 no31957586 file 1474650621218 jpg 204 kb 900973 mfw thing ecept used tampons swamp ass', 'e talifrnia find polling place check registered vote g republican primary 6 mins ago donald trump nj nm sd g democratic primary 6 mins ago hillary clinton new jersey primary results los angeles angels anaheim', 'republican vs democrat election proffessional wrestling eclipsing writhing last gasp sanity # trailerparkusa # suicideispainless r u p douche land uber alles 2016', 'deserttson methlehem never ask british person price freddo abithehugslut answered whats price freddo deserttsong okay right basically freddo originally cost 5 pence good days happy days full joy sunshine cheap delicious chocolaty treats economy went helland cadbury chocolate company literally make good chocolate england like hey lets raise price 8 pence everyone like understand times hard cadbury raised 10 pence like okay dudes woh stop thats double original price raised 20 pence per freddo fucklng bullshit could buy 20 freddos one pound buy 4 fuck asked british person freddo', 'women support equal ight berne sanders lapor equal pay equal work omen bernie', 'unite party time ted cruz drop hillary nov lse', 'oligarchy rigging 101 direct animosity hillary vote nt vote fear setup called controlled opposition aka manipulating people emotions make think meaningful choice', 'hillary clinton donald trump dum dumal debate', 'cassidy 25 mins literally clinton getting polls spoke dozens people yet find clinton supporters # trump 2016 comment like share', 'know candidates outside republican democramc parties', 'bernie wo nt able get anything done without congress trump turn country nazi germany hisown', 'republican facebook page askedif jesus gun kind would iposted banned', 'donald trump jr donald jtrumpjr 1h ha 5 students asked protesting could nt even answer participation medal micro aggression generation pretty sad r 2 079 3 169 top tweet john legend ajohnlegend donald jtrumpjr think protesting racist father nt complicated', 'melania trump gives one speech aboutiethicsand standards', 'bernie bernie sanders bernie sanders north korea one biggest threats face economic social policies created monstrous dictator stop 599 705 north korea evil socialism worst evil economic policies created dictators many countries nt forget vote socialist sanders 2016 # feelthebern baby', 'state driver license dl b12340 ln america fn s20 chestnut st philadelphia pa19106 doe o7io4ld 1776 sem hair eyes coopvoterid ramireztoons john smith chicago rip democrat voter michaelpramirez com', 'hillary clinton birthday news shopping images videos hillary clinton date birth october 26 1947 age 69 years place birth edgewater hospital chicago spouse bill clinton 1975', 'may 11 941 pm see lot hispanic families walk swamp rabbit trail around lake furman noticed something usually 2 3 kids tow moms either pregnant pushing stroller hispanic people seem prolife genuinely devoted marriage family another thing often dad right family admirable also points fact conservatism ought natural political home hispanic people due shared values mr trump says love hispanics', 'donald j trump arealdonald trump 2 hours ago wondered hillary avoided prosecution email scheme wikileaks may found answer obama nationalreviewcom article 4411 15 reply 43 seconds ago ankit sharma ankit 5566 real donald trump hindu love trump via twitter android', 'differences republican democrat donald trump hillary clinton walking street came homeless person donald trump gave homeless person business card told come office job took 20 pocket gave homeless person hillary saw came another homeless person walked home less person gave directions welfare office reached donald pocket got 20 kept 15 administrative fees gave homeless person 5 understand difference', 'feel bern', 'r donald donald r donald donald donald r donald donald donald r donald r donald donald r donald', 'dncwantsmeto vote democrat generalelection whydid change toindependentintheprimaries', 'trump pence vp debate 1108 18 rs min sec live cnn tonight 2016 race live ence vs kaine vp debate 9pm et cnn cnn nas 212 rolls republicans number key metric c newsroom', 'ws voice note ebate republican presidential debate abc news com', 'bernard bernie sanders win states america definitely win washington dcbernard b sanders 2016 president bernard bernie sanders 2017 2025 america white house oval office bernie sanders way higher delicates votes states way ahead hillary clinton sanders 2016 ary clinton like reply 73 hrs', 'cirque du lame paul ryan donald trump mike pence reince priebus act known aristocrats arrives today cleveland performances july 1821 parental advisory thematic content coarse crude language disturbing images', '675 rural neighbor hippie bernie supporter dog got loose guess migrants btfo self donald submitted 2 hours ago 3 put maga hat coaed car drove 1 3rd mile place saw neighbor told caught dog illegally entering country deporting neighbor laughed offered beer understand people different political viewpoints still good neighbors 20 comments source share save hide give gold report hide child comments', 'jill stein gary johnson power', 'n dallas teas 1031 ct dallas trump vs media live campaign spokesperson questions coverage cnn katrina pierson trump campaign spokesperson investors statement says malik could recene uptd 20 year reliable sounces degree nuclear engineering mba read 1000 books quite well voting trump sure cnn call illiterate may 22', 'michelle obama says donald trump private remarks women 11 years ago shocking demeaning never mind obamas repeatedly invited rap hip hop musicians honored white house musicians sing lyrics objectify men body parts glorify seual assault also cop killing enough phony moralizing mrs obama', 'wants kill babies weehs born 60 3n donald trump protect guns babies aheamericalareatagain', 'trump seen hillary supporters trump supporters al asseln heuser republican party rest world dgrrrgraphicscom special thanks daneldauschat pareoncomp alabama conatist con artist con artist conartisy cop', 'made hugelmistake mike pence edition made', 'clinton 22 prosperity 6 sni ith r dai iaia', 'dumbass liberals promise move another country trump wins say hillary wins moving anywhere buying ammo taking back country youmay want movel', 'creators cam lies ramireztoons look trump sad something daoan wwwmichaelpramirez com', 'lori hendry lrihendry difference progressivism fascism liberalism marism communism socialism nazism democrat party spelling 451 pm 07 oct 16 119 retweets 155 likes patrick grunaugenwolf lrihendry got nothing 1h', 'soooo confused trump ls hatemongering candidate nt supporters murdering cops innocent people', 'conservative labour liberal democrat spokes wheel one top one top spins crushing ground going stop wheel going break wheel', '23 bae come bernie ca nt l running president bae student loans bernie 46k', 'bernie', 'kaine', 'sandersforpresident comments discussions 4 view images 2 endorsing hillary clinton bernie sanders may positioned win presidency medium com submitted 4 hours ago musicmagi 24 comments source share save hide give gold report hide child comments 24 comments subscribe', 'bernie sanders believes everyteam deserves super bowl eventhe lions nflmemez', 'riday 15 january 2016 david bowie 69 alan rickman 69 fingers crossed guys donald trump age 69 june 14 1946 like comment share 23 people like write comment', 'project murphy net bernie sanders socialist # project murphv', '196 n bernie sanders ersman builds dog train take rescued stray dogs adventures memeland', 'brace formike pence memes big ego big', 'faces pot 90 susan saran dun tim robbins darlings hollywood successful acting careers supported bernie mad commie sanders rally north dakota support oil hating indians pot slammed two burlington bindles slammer veins dead like every pot', 'oh youve clocked fugkang pussy donald c trump lloyds vote conds run e', 'anonymous 05 21 16 sat 183704 no338437809 338438117 file 1459704054948gif 263 kb 600304 liberal muslim homoseual aclu lawyer professor abortion doctor teaching class karl mar known atheist class begins must get knees worship mar accept highlyevolved world ever known even greater jesus christ moment brave patriotic prolife navy seal champion served 1500 tours duty understood necessity war fully supported military decision made united states stood held rock old rock arrogant professor smirked quite jewishly smugly replied 46 billion years stupid christian wrong 5 000 years since god created 46 billion years old evolution say real animal professor visibly shaken dropped chalk copy origin species stormed room crying liberal crocodile tears students applauded registered republican day accepted jesus lord savior eagle named small government flew room perched atop american flag shed tear chalk pledge allegiance read several times god showed enacted flat ta rate across country professor lost tenure fired net day died gay plague aids tossed lake fire eternity', 'c oho dead have_ oh dead risen god voting republican', '38 3456 39 2826 nailed imagurcom submitted 19 hours ago worff c+1 r whitepeoplegifs 184 comments share save hide report +cl bernie real og imagurcom submitted 18 hours ago pwnrmasta_01 +2 r blackpeoplegifs 89 comments share save hide report l+ cl', 'ballot e dreamer suppression climate change consumer financial protection bureau nt know f nt like vote hillary sorensen', 'bernie hillary informed compare issues matter issue favorite star wars character wedge antilles man fought battle yavin survived trench run first death star jar jar steps saving luke took atat hoth helped lead poopie fight battle endor man hero eyes celebrated obvious plaat', 'would kill bourgeoisie end world hunger vou gon na et millions people starve one stupid bourgeoisie vote democrat nt like abuse eople vote democrat', 'immigration splendid youleave bitly stopthegop americans republican party', 'non debateable inbo may 28 2 days ago r hi u ezzeloharr sent email aunties sewermouth trump brought dormant evils un us racism bigotry supremacy wierdos liberterians blame people might agree comparable crumbling roman empire pray sanity prevail looking goodvive canada lovell grandpapa', 'well lesser two evils yeah hes abrd party candidate gary johnson 2016 still evil evilat', 'google republican zodiac cuban canadain images news videos maps showing results republican zodiac cuban canadian doggo bork bork kind search instead republican zodiac cuban canadain doggo bork bork komd', 'bernie', 'recall months ago seemingly entire republican party gravely concerned wives daughters walking bathroom groped molested transwoman seem think perfectly fine nominee president woman happens lust 3 hours ago unlike 524', 'rigsentire election process tells bernie sanders hesbeing disruptive democracy', 'nt believe women rights think gays hanged actually muslim religious beliefs wow complete primitive asshole must republican oh sorry apologize l hope nt think islamophobic c 2016 dion diaz', 'oh feel feel bern kronk', 'yesterday 307pm republican candidates agree would indeed kill baby hitler given chance far interesting question opinion would whether support aborting fetal hitler mua ha ha', 'bernie hillary infonned compare issues matter issue selling weed', 'keldorr92 popcorn score hidden 2 hours ago seriously stop hiding tapes mark american people deserve know small handed buddy gi malpractice ta score hidden 34 minutes ago big piece shit trump mealticket money matters rape victims mind puts # 1 list people whose eistence makes question opposing death penalty dude beaten reeds nothing puddle memory', 'time machine picof week august 2066 bernie bust made imgur', 'dad feel bern son responsibilities contribute society', 'bern', 'future believe bernie sanders com california republ', 'usa today democrat chr', 'republican party cas busken 2016 presidential cookie poll democratic party cookie party en dy vote voted', 'photos republican national convention melania trump kisses husband donald spoke monday first day republican national convention want someone fight country assure guy said husband gop presumptive nominee never ever give importantly never ever let 1 24 hide caption', 'republicans democrats alike nt want bernie sanders net president multiple reasons one main ones socialist well maybe people stop using facebook twitter social media outlet considering anyone find information kids job vacation rest 24 hours day fan socialism would part social media account like share comment', 'bernie hillar informed compare issues matter immagotostarbucksinthe issue morning somecoffee aint sound sukea girlsthere plan young man iwontbuy damn coffee img flip com', 'democrat supportsgun control brandishes ak47 thumb trigger', 'hate trump clinton consider voting gary johnson', 'really want live country purell spares top 001 germs bottom 999 suffer world report win mcnamee getty images thomas casey bernie sanders', 'cincinnaj cincinnati cincinnati cinci lincinnati incinn state cinci cincinnati cinci state ti ballot bowl 08 ate cnn sen hillary clinton 1104a pt ncin presidential candidate ays nuclear program energy weapons', 'everyone concerned trump getting nomination itmjustsitting voting gary johnson', 'us facebook vote democrat matter nt care god becomes democrat democrats gangsterism crazy agree comment yes', 'msk hillary clintoncom', 'jared pierce 18 turns hourglass lived russia 199395 right soviet union fell l know lived real effects socialism stood bread lines potato lines meat lines egg lines lines lines sucked hope prosperity souls men bernie millennial minions comprehension damage lasting effect policies may gop americans find real true blue american capitalist support prayer younger kids 1830 understanding difficult times forefathers fought like scrawl yer thoughts 21', 'donald trump could right hillary could wrong see fooled american throng', 'real life hillary clinton real life # project murph', 'say darlin going jill stein making independent run white house hush bill thinking smear job hit job would best effect', '98 1255 pm lte k daddy 02 26 2016 fri fyi caught car full boys stealing bernie sign yard chased fussed made give sign back respect right endorse candidate 1249 pm holy crap thank back ground ask gon na curious wanted 1252 pm support course back ground 1252 pm', 'allihear bern', 'idiont protect republican cities told police tostand domin iama progressive st beral democrat providea sanctuary cityror illegals may jose', '921 pm ooo k messages bernie sanders details u watchin debate yes whatcha think yes doingggggg 222 right tet message send q w e r u p f g h j k l 123 return space', 'clinton sbad mkaaay bern ies good mkaaay', 'nathan zed nathan ed clintontrump debate begins monentarl 706 pm 26 sep 2016 7 397 retweets 9735 likes', 'rise together rail tr bernie sanders president people', '11 year old niece vaidehi kinda great analogy watching debate tonight said know hillary like organic sandwich made organic bread avocados things taken years proper nurturing grow donald trump hand like mcdonalds bad everyone knows still lot people buy eat happy know himwithher', 'wvtm 13 13 3 hrs malala yousafzai pakistani teenager nobel peace prize winner condemned donald trump controversial plan ban muslims tuesday trump would temporarily ban muslims entering us proposal rocked republican fie malala trump plan full hatred www wvtm 13com theodore schleifer cnn like comment share top comments 18 people like 1 share oo bad bullet nt work lmao like reply 2 35 mins', 'cop voting democrat like chicken voting colonel sanders police officers fb', 'sorr say e christians matter faith religion terrosist stupid one especially involve religion religions ignorant people dont back bone say terorists involving religion sad books trump white supremist trying throgh people people beleive stupid ke renlv 6 hrs', 'november 2016 president united states mr donald trump', 'daredevilseual women need feminists previous wave feminism gave rights black people republicans since republicans freed slavery gave rights response well republican party changed consider feminism source daredevil seual 110 notes', 'tweet bernie sanders cool old man tryna make weed legal college affordable wages higher end w trump clinton 10 9 16 846 pm', 'chickens cross road avoid debating bernie sanders inglipcom', 'hillary prison 2016 www hillarysatan2016com', 'bernie 2016 ok fine hillary guess bernie sanderscom', 'never thou protesting kasich 2016 side byside democrat bernie 2016 bernie 2016 friend kasich 2016 aye occupy dnc', 'rope chains 24 september 2016 dougm sondrakistancom hillary got cute trump saw play ww question raised inviting mark cuban bubba jennifer flowers gon na sit sit front row troll trump', 'us senator bernie sanders 8 hrs koch brothers want let tell want give americans freedom live poverty working 3 4 hour without healthcare without childcare without pension without ability send kids college without hope children higher standard living words koch brothers billionaire class want oh really bernie come bro pay ourworkersanaverage salary 64 000 donate millions hospitals colleges various charitiesp imgflipcom', 'matt rapper following matt klein24 felt bern hillary brought aloe # imwithher retweets likes 944 pm7 jun 2016', '___ bunghole trump pence', 'fervent hillary clinton supporter bernie sanders drop race nt going net president inngur', 'april 27 2016 cruz hopes tap immense popularity carly fiorina andy borowitz political insiders called choice wildly adored fiorina gamechanger cruz campaign april 25 2016 koch brothers consider purchasing first democrat andy borowitz two considered acquiring democrat determining none republicans worth adding collection april 22 2016 trump reassures supporters still opposes women born women andy borowitz epressing tolerance toward transgender people candidate clarified position women general', 'actual scale simplified bernie hillar trump commutists revisionist socdems liberals conserwtives fascists anarchists socialists american scale bernie hillary trump nazs godless commies', 'donald made inngur', 'fucked move canada still feel bernie still feel p', 'cnn politics like page 2 hrs maybe could like task force go area 51 hillary clinton says hillary clinton gokingly pledges ufo probe www cnncom eli watkins cnn 454 likes 317 comments 217 shares like comment share', 'seemingly everyone town proudly arrived final protrump rally however kermit ca nt help feel sad knowing eplosives set detonate moment taking surrounding lump throat whispers final words allahu akbar', 'bernie sanders cleaning upamerica shit since youwere born', 'dvc tsuy bernie feel bern', 'democrat party started registrationidrive', 'hillary prison 22016 sooner like would vote', 'grover found present scavenging mission three months ago saved vaguely remembered birthday special day opened contained copy trump latest book grover gave little chuckle chucked entire bo away', 'go see presidential candidate best republican democrat nt like either nt stand vote vote pussy ass system', 'bern', 'thought way hillary win run trump realize way trump win run hillary', 'anonymous id zh9bedf 5 hours ago no75211812 75211983 75212094 75212522 75213781 j 75214462 75214877 75216815 75218241 75218666 75219541 75219654 75221452 75221775 75221786 75222880 75222895 bernie nt debate staring contest floor takes good rough fuck candidate give clumsily whines things walks stage posts something irrelevant twitter like nt ask ketchup packets mcdonnalds trump break bernie half like bane knightfall softballs goes kiddie gloves enough put show blow commie hard enough alienate bernies rabid fanbase shows trump women thanks charity donation trump ever dividing democratic party gust take social media see spurging net decent chunk bernouts come november get chance actually see speak also gives trump much needed eperience 1v1 debate sanders glass joe tutorial', 'yoko ono attempts devour donald trump tiny soul', 'hillary backsarming muslims hillary wants todisarmamericans', 'id like see gary johnson clibretarian candidate national debates fuck right made imgur', 'bernie hill informed compare issues matter aliens issue ayyy lmao deported', 'donald trump idiot made', 'sound like idiots nt realize democrat republican illusion making people think choose leaders keeping people separated 1 elections real illusion 11 hours ago', 'bernie hillan informed compare issues matter issue love nt hurt got nt hurt', 'black lives matter trump fbi dallas police hillary pokemon 2015', 'ir donald memestormactually works hillary implodes bernie democrat nominee nstructc youre gon na bad time', 'pence needs kimosabe sick hillary needs chemotherapy memes conservative curmudgeon', 'nt like looks trump pence', 'bargaa n 3 4 oh hia penisstore u cooked pastries 4 2nites partee yes snotragl hev cocked iek vew asciened many pe pro r cumming 2 da party e u dumn hora nurdieonid sem ite aimlez bernie winters ragingpoo sefun people comming da kwantity pie ls 22 punchline jajajaja eyes watering', 'illegal intimidate voters polling place even black person wanted vote republican today kind illegal antoniocomedy', '7 hrs obama law making bison national mammal eagle represented america people obama republicans made bison national mammal like moslems obama needs destroy nation symbols destroy nation symbols history longer remember nation invaders make history want like comment ca nt wait til sob gone like reply 1 6 hrs need public debate like reply 1 6hrs guess ask republican reps like reply 6 hrs aa write reply know eagle bird mammal right like reply', 'ernie checks mentioned hillary clinton obama family second publishing panama papers', 'cl score hidden 3 hours ago ast edited 1 hour ago governor candidate vice president paid 8 income ta meanwhile work walmart make 1050 hr paid 16 rate last paycheck permalink source embed save saveres report give gold reply hide child comments score hidden 44 minutes ago ast edited 8 minutes ago 1050 hour 40 hours week 21 840 year 21 840 standard deduction single person 6 300 15 540 personal eemption 4 050 taable income 11 490 pay 10 first 9 27500 15 pay 125975 57 either get ta return check improperly filled paperwork lies deductions everyone ta bracket gets one child would nt pay taes edit pro hillary nt like bad discussions taes pointless permalink source embed save saveres parent report give gold reply', 'playas ai nt kaine guns vaate', 'differences republican democrat donald trump hillary clinton walking street came homeless person donald trump gave homeless person business card told come office job took 20 pocket gave homeless person hillary saw came another homeless person walked home less person gave directions welfare office reached donald pocket got 20 kept 15 administrative fees gave homeless person 5 understand difference', 'oh bernie g captured b hillary isis clinton submit karma reserves save bernie certain death', 'didnt like republican incumbent elected adead democrat senate', 'trump gop become worker party nick gass l 05 26 16 o744 edt', 'whipped meican thing mike pence gop candidate vp united states', 'media wont post positive outlook trump actually good man democrat said nt get votes shook hand felt real care keep mind voting might show lot trump soft side louisiana flood victims praise donald trump visiting damaged areas terry phinney always fan donald trump republican presidential candidate arrived baptist church meet flood victims friday latimes com los angeles time', '13 hrs done social media says good bye remember therapy telling psychologist crazy think things one else wants talk hear people say tbs tomg justin gotanew haircut chtprojectcom wan na respond say omg report topjournalist world justrevealed theinfamous chemical weaponsattackin syriain 2013 wasa false flag operation authorized hillary clinton frameassad startanother war based onaliet', 'quick history lesson 18th amendment abolished slavery 100 republican support 23 democrat support 14th amendment gave citizenship freed slaves 94 republican support 0 democrat support 18th amendment right vote 100 republican support 0 democrat support obama care 0 republican support 86 democrat support wwwunclesamsamisguidedchildrencom', 'breaking news ald trump', 'breaking news trump calls obama isis founder scottie nell hughes trump supporter 508 st says plans would caeate 10 million jobs clinton says ac36', '016 grann reserved bernie sanders e mande', 'lige 33 726 pm fusion fusion aug 18 615am fusion marijuana entrepreneur meet gary johnson potloving ta hating libertarian wants could see 13k likes 2k comments 77k shares 48m views h like share comment election', 'says move canada trump nominee canada burns', 'r full communism hot new rising controversial top gilded promoted view images 21 agree hillary clinton lying clinton foundation sign petition paid donald j trump president inc promoted comrade therealdonaldtrump save hide report citizen promoted post', 'police says upset donald trump stated getting thugs criminals meico burns cop car know prove trump wrong mematicnet', 'run bernie bernie running third party way win', 'president 1 tear christian churches replace multicultural education centers 2 make racism hate speech life prison sentence 3 nationalize isps automobile oil gas electric industries 4 open borders zero restrictions immigration 5 arrest anyone earning 2 million dollars year wealth evenly distributed 6 make healthcare education completely free 7 arrest anyone known republican libertarian affiliations reeducated progress society program three years 8 gun ownership death penalty', 'free think mean stolen tapayers thing free breadsticks fucking socialist learn economics sir olive garden fuck bernie free archyse', 'lot money knows bernie wins pay taes help less fortunate still supports bernie', 'winne reppan bernie sand winner actually bernie sanders 66 ral doral democrat', 'ummm think somehow computer autocrrecting cruz like santa cruz lil baby pee pee hahahaha yeah evidence show later paul bonerstink omg noticed today whyyyyy plugin changes names republican presidential candidates dirty words hahahahaha oh god seriously', 'fstrick bernie anni hes longer amable candidate wwwshutterstockcom 160941326 ifyoudontshut mouth second im gon na riptournipples stupid cunt wwwshutterstockcom 160940849', 'hate republican fuckers much omg racist pricks literal subhumans l wish obama would take away privilege freedom speech omg waiting day go destroy churches smash apart shops businesses seriously need deport round send work reeducation camps sterilize better yet could eterminate every last one secure istence multiculturalism immigrants children honestly fuck intolerant bigots literal nazis 2016', 'bernie bernie sanders 2016 bernie sanders refunds reply retweet favorite 827 pm 7 jun 16 embed tweet follow', 'mike pence politics place name calling nbonewscom nbc submitted 50 minutes ago mizzourah22 news 15 comments share save hide report trump goes little michael bloomberg twitter nypostcom submitted 51 minutes ago restore democracy 16 comments share save hide report', 'bernie hillary informed compare issues matter issue wrestling recent rise popularity roman reigns independent wrestling federations combined int fellow fan base via internet even surge popularity called mainstream something else indies like nt safe say huh midst within sport', 'washington post debate democrata debate democrat', 'black lives matter westboro baptist church kkk reportedly throwing urine republican national convention day im sitting go work like normal person made', 'democrat supports free speech fuck right memegeneratornet', 'borrel cnn ocbs clinton broadcasting clinton news network network aoc nbc behind clinton nobody clinton', 'white female christian republican progun prolife feminist else canioffend today oh im also voting trump', 'april 25th 2016 hillary clinton supporters posted child pomography numerous bernie sanders facebook pages reported pages facebook sanders supporters thing retaliate never million years child pomography would never post vote someone would condone anything win difference us fighting sanders', 'trump pence eill 01 2', 'accounting firm responsible auditing clinton foundation 2015 dla piper james comey brother peter senior director dla piper also hillary clinton 5th highest contributor time james comey also board hsbc bank etensive dealings clinton foundation http wwwbreitbartcom 2016presidentialrace 2016 09 10 ysclintonfoundationconnection comey refusal indict hillary clinton dc cronyism finest', 'clear pine men may stripped still get ge ize pussy theseare folks pretend offendedby donald trump language', 'choose hillary clinton donald trump like guess ill', 'donald trump isthe first person ive ever seen nobody likes yet may elected president p 1374 big bang theory darrell dawson youtubecom dawsoncomedy', 'dded post july 18 timeline 2 hrs quote day random fb comment response trumps comments mccains service donald trump poop stain americas underwear 3 likes like comment share', 'beauty rich donald trump bitly stopthegop americans republican party', 'bernie sanders never owned business never invented anything never 95 job never proposed single bill passed 25 years office lived welfare elected office 74 years old net worth 300 000 says fi healthcare econom like hero karl mar succeeded nothing', 'bernie sanders 74 wears old still looking job hat could american ted alehandro', 'mistake really lost election bernie sanders marrying bill clinton chance ben longcomedy', 'bern king', '33 000 emails hillary clinton deleted 2 000 contained papa john promo codes including one free order tuscan 6cheese breadsticks purchase large 1topping pizza thumbs think hillary release promo codes cafe', 'youre ready vote hillary', 'ross perot 8 support butgot debate gary johnson 9 thatis none business irngflipcom', 'journalists hate politician discovery revealed secret creating political revolution one vote watch shocking video discover topple establishment one simple democratic act one single vote radical ideas required absolutely guaranteed feel bern click watch video', 'guy hussein 2 hrs 13 attention communist scum 136 pinochet ancap militia infiltrated paul krugman office kidnapped favorite little pony plushy one sleeps night eecute dashy eactly 1200 midnight est unless demands met demands 1 make nap part us constitution 2 end federal reserve 3 make official currency gold backed version bitcoin pinocoin 4 revoke educational awards diplomas communist scum nt deserve 5 deport bernie sanders 6 segregate leftists jim crowe themed laws 7 publicly admit israel totally gay', 'hbo ernie proudly proclaims r donald last bastion free speech reddit banning another cuck disagreeing', '80 652 pm replies obama terrorist muslim sympathizer democrat socialism 8 hours ago like reply ithink jennifer strung together words afraid 7 hours ago like 1 reply nt think better eplanation sentence like reply write reply', 'bernie hillary informed compare issues matter issue weed man 15 g mids got straight cali got tet dank 2g 20 swing feel bern hours free', 'perfect gop candidate 2016 men believe lead america strength ehibit conservative beliefs stand world bullies bring america together within national moral view sadly none eperience potential candidate eperience strong leadership best reflects republican values thinking uote putin america heart know right work constitutional stuff later', 'drive fast food restaurant usa bad behavior bizarre politics ca customer pulls window looks etremely similar bill clinton anyone ever told look like bill clinton customer seual relations woman customer proceeded full clinton style light joint drivethrough window', 'score hidden 7 hours ago registered democrat 15 days ripped protesting iraq war permalink source save saveres parent report give gold reply score hidden 6 hours ago ha know republicans got one permalink source save saveres parent report give gold reply c score hidden 6 hours ago student history poised remember democratic role war peliso clinton guilty cheny permalink source save saveres parent report give gold reply score hidden 5 hours ago think flunked course congrats ludicrous post reddit today permalink source save saveres parent report give gold reply', 'subjectpolitics jun 17 534pm obama spent entire presidency going comedy shows nerve say say donald j trump nt serious obama nerve say trump nt serious subjectpoliticscom spent entire presidency going comedy shows 385 411 views 13 comments', 'evidence hillary clinton yeahi better file', 'sure hear hillary clinton say s10 000 vou dont s10 000 ohgeel bad guess youll hear speechn', 'hope bernie sanders becomes president soi wont get job college n imgur', 'samsung _ trump', 'sammy hagar 68 years old bill clinton 69 sammy 40 years se alcohol rock roll drugs bill lives hillary', 'cod hates hunter pence', 'hope trump foundation nt broken laws personally signs check', '31 626 pm geez 5 minutes ago know bernie father family killed holocaust grew poor hillary always lived rich white household got richer okay ignore white middle class housewife lives great without working understand bernie seist needs check male privilege support hillary # imwithher # killallmen # feminism 1 hour ago earlier replies # feminism kind gave away', 'voting bernie sanders feel bern', 'saiothatavoteforgary johnsonwasavotefor hillary fact halfofmystaunch democrat friendsarevoting johnson proved thatwasaue imngfip com', 'weratedogs follow dog rates bernie touched boob first time 10 10 retweets ukes 2 626 6 421']\n"
     ]
    }
   ],
   "source": [
    "print(train_text_list)"
   ]
  },
  {
   "cell_type": "code",
   "execution_count": 36,
   "metadata": {},
   "outputs": [],
   "source": [
    "training_DF[\"sentence\"] = training_DF[\"sentence\"].apply(clean_text)"
   ]
  },
  {
   "cell_type": "code",
   "execution_count": 41,
   "metadata": {},
   "outputs": [
    {
     "data": {
      "text/plain": [
       "1066"
      ]
     },
     "execution_count": 41,
     "metadata": {},
     "output_type": "execute_result"
    }
   ],
   "source": [
    "max(training_DF[\"sentence\"].apply(len))"
   ]
  },
  {
   "cell_type": "code",
   "execution_count": null,
   "metadata": {},
   "outputs": [],
   "source": [
    "train_text_list = train_text_list."
   ]
  },
  {
   "cell_type": "code",
   "execution_count": 42,
   "metadata": {},
   "outputs": [
    {
     "name": "stdout",
     "output_type": "stream",
     "text": [
      "1066\n"
     ]
    }
   ],
   "source": [
    "lent = 0\n",
    "for i in train_text_list:\n",
    "    l = len(i)\n",
    "    lent = max(lent,l)\n",
    "print(lent)"
   ]
  },
  {
   "cell_type": "code",
   "execution_count": 22,
   "metadata": {},
   "outputs": [
    {
     "name": "stderr",
     "output_type": "stream",
     "text": [
      "c:\\Users\\jasra\\OneDrive\\Desktop\\MAJOR PROJECT\\.venv\\lib\\site-packages\\tqdm\\auto.py:21: TqdmWarning: IProgress not found. Please update jupyter and ipywidgets. See https://ipywidgets.readthedocs.io/en/stable/user_install.html\n",
      "  from .autonotebook import tqdm as notebook_tqdm\n"
     ]
    }
   ],
   "source": [
    "from transformers import TFBertModel\n",
    "from keras.layers import GlobalAveragePooling1D\n",
    "import tensorflow as tf"
   ]
  },
  {
   "cell_type": "code",
   "execution_count": 23,
   "metadata": {},
   "outputs": [],
   "source": [
    "from keras.layers import Dense, Dropout, GlobalAveragePooling1D\n",
    "from keras.models import Model\n"
   ]
  },
  {
   "cell_type": "code",
   "execution_count": 43,
   "metadata": {},
   "outputs": [
    {
     "name": "stderr",
     "output_type": "stream",
     "text": [
      "Downloading model.safetensors: 100%|██████████| 440M/440M [00:38<00:00, 11.5MB/s] \n",
      "c:\\Users\\jasra\\OneDrive\\Desktop\\MAJOR PROJECT\\.venv\\lib\\site-packages\\huggingface_hub\\file_download.py:133: UserWarning: `huggingface_hub` cache-system uses symlinks by default to efficiently store duplicated files but your machine does not support them in C:\\Users\\jasra\\.cache\\huggingface\\hub. Caching files will still work but in a degraded version that might require more space on your disk. This warning can be disabled by setting the `HF_HUB_DISABLE_SYMLINKS_WARNING` environment variable. For more details, see https://huggingface.co/docs/huggingface_hub/how-to-cache#limitations.\n",
      "To support symlinks on Windows, you either need to activate Developer Mode or to run Python as an administrator. In order to see activate developer mode, see this article: https://docs.microsoft.com/en-us/windows/apps/get-started/enable-your-device-for-development\n",
      "  warnings.warn(message)\n",
      "Some weights of the PyTorch model were not used when initializing the TF 2.0 model TFBertModel: ['cls.predictions.transform.dense.weight', 'cls.predictions.transform.LayerNorm.weight', 'cls.predictions.bias', 'cls.predictions.transform.dense.bias', 'cls.predictions.transform.LayerNorm.bias', 'cls.seq_relationship.weight', 'cls.seq_relationship.bias']\n",
      "- This IS expected if you are initializing TFBertModel from a PyTorch model trained on another task or with another architecture (e.g. initializing a TFBertForSequenceClassification model from a BertForPreTraining model).\n",
      "- This IS NOT expected if you are initializing TFBertModel from a PyTorch model that you expect to be exactly identical (e.g. initializing a TFBertForSequenceClassification model from a BertForSequenceClassification model).\n",
      "All the weights of TFBertModel were initialized from the PyTorch model.\n",
      "If your task is similar to the task the model of the checkpoint was trained on, you can already use TFBertModel for predictions without further training.\n"
     ]
    }
   ],
   "source": [
    "bert_model = TFBertModel.from_pretrained('bert-base-uncased')\n",
    "input_ids = Input(shape=(maxlen,), dtype=tf.int32, name=\"input_ids\")\n",
    "attention_mask = Input(shape=(maxlen,), dtype=tf.int32, name=\"attention_mask\")\n",
    "\n",
    "bert_output = bert_model(input_ids, attention_mask=attention_mask)[0]\n",
    "pooled_output = GlobalAveragePooling1D()(bert_output)\n",
    "dense_out = Dense(128, activation='relu')(pooled_output)\n",
    "dropout_out = Dropout(0.3)(dense_out)\n",
    "output = Dense(1, activation='sigmoid')(dropout_out)\n",
    "\n",
    "model = Model(inputs=[input_ids, attention_mask], outputs=output)\n",
    "model.compile(optimizer='adam', loss='binary_crossentropy', metrics=['accuracy'])"
   ]
  },
  {
   "cell_type": "code",
   "execution_count": 44,
   "metadata": {},
   "outputs": [],
   "source": [
    "model.compile(\n",
    "    optimizer='adam',\n",
    "    loss='binary_crossentropy',\n",
    "    metrics=['accuracy']\n",
    ")"
   ]
  },
  {
   "cell_type": "code",
   "execution_count": 45,
   "metadata": {},
   "outputs": [
    {
     "name": "stdout",
     "output_type": "stream",
     "text": [
      "Model call method: <bound method Functional.call of <keras.engine.functional.Functional object at 0x000002B1A04EF908>>\n"
     ]
    }
   ],
   "source": [
    "print(f\"Model call method: {model.call}\")"
   ]
  },
  {
   "cell_type": "code",
   "execution_count": 46,
   "metadata": {},
   "outputs": [],
   "source": [
    "from transformers import BertTokenizer\n",
    "import numpy as np\n",
    "\n",
    "# Load the BERT tokenizer\n",
    "tokenizer = BertTokenizer.from_pretrained('bert-base-uncased')\n",
    "\n",
    "# Function to tokenize and encode text\n",
    "def encode_texts(texts, tokenizer, maxlen):\n",
    "    input_ids = []\n",
    "    attention_masks = []\n",
    "    for text in texts:\n",
    "        encoding = tokenizer.encode_plus(\n",
    "            text,\n",
    "            add_special_tokens=True,\n",
    "            max_length=maxlen,\n",
    "            pad_to_max_length=True,\n",
    "            return_attention_mask=True,\n",
    "            truncation=True\n",
    "        )\n",
    "        input_ids.append(encoding['input_ids'])\n",
    "        attention_masks.append(encoding['attention_mask'])\n",
    "    return np.array(input_ids), np.array(attention_masks)"
   ]
  },
  {
   "cell_type": "code",
   "execution_count": 47,
   "metadata": {},
   "outputs": [
    {
     "name": "stdout",
     "output_type": "stream",
     "text": [
      "[0 1 1 0 0 1 1 1 0 1 1 1 0 1 0 0 1 1 1 0 0 0 1 0 1 0 0 0 0 0 1 1 0 0 0 1 1\n",
      " 0 0 1 1 0 1 0 0 0 1 0 0 1 0 0 1 1 1 1 0 1 0 0 0 1 0 0 0 0 0 1 0 0 0 1 1 0\n",
      " 1 0 0 0 0 0 1 1 1 0 0 0 0 0 1 0 0 1 1 0 0 0 0 0 0 0 1 0 0 0 0 0 1 0 1 1 0\n",
      " 1 1 0 1 0 1 1 0 0 0 1 0 0 1 1 0 1 0 0 1 1 0 0 0 0 0 0 0 1 0 1 0 1 1 0 0 1\n",
      " 1 1 1 0 0 0 1 0 0 0 0 0 1 0 0 0 1 0 0 0 0 0 0 1 0 1 1 0 0 1 0 0 0 0 0 0 0\n",
      " 0 1 1 0 0 1 0 0 0 1 0 0 1 0 0 1 1 1 0 1 1 0 1 0 1 0 1 1 1 0 1 1 0 0 1 0 0\n",
      " 1 0 0 1 0 1 1 0 0 0 0 0 1 1 0 1 0 0 0 0 1 0 1 1 1 0 0 1 0 0 1 0 0 0 0 1 0\n",
      " 1 0 1 0 0 0 1 0 1 1 1 1 0 0 0 0 0 0 0 0 0 1 1 0 1 1 0 1 0 0 1 0 0 0 0 1 0\n",
      " 0 1 1 1 0 1 0 0 0 0 1 0 0 1 1 0 0 1 1 0 1 0 1 1 0 0 1 0 0 0 1 0 1 0 0 0 1\n",
      " 1 1 0 1 0 0 1 0 0 0 0 0 1 0 1 0 0 1 1 0 0 0 1 1 0 1 0 0 0 1 0 0 1 1 0 0 1\n",
      " 0 1 1 0 0 1 0 0 0 1 1 0 0 1 0 1 0 1 0 1 0 0 1 1 0 1 1 0 0 1 1 1 0 0 1 0 1\n",
      " 1 1 1 1 0 0 1 0 0 1 1 1 1 0 0 1 1 0 0 1 0 1 1 1 1 0 0 1 1 1 1 1 0 0 0 0 1\n",
      " 1]\n"
     ]
    }
   ],
   "source": [
    "print(np.array(y_train))"
   ]
  },
  {
   "cell_type": "code",
   "execution_count": 48,
   "metadata": {},
   "outputs": [
    {
     "name": "stderr",
     "output_type": "stream",
     "text": [
      "c:\\Users\\jasra\\OneDrive\\Desktop\\MAJOR PROJECT\\.venv\\lib\\site-packages\\transformers\\tokenization_utils_base.py:2383: FutureWarning: The `pad_to_max_length` argument is deprecated and will be removed in a future version, use `padding=True` or `padding='longest'` to pad to the longest sequence in the batch, or use `padding='max_length'` to pad to a max length. In this case, you can give a specific length with `max_length` (e.g. `max_length=45`) or leave max_length to None to pad to the maximal input size of the model (e.g. 512 for Bert).\n",
      "  FutureWarning,\n"
     ]
    }
   ],
   "source": [
    "input_ids_train, attention_masks_train = encode_texts(train_text_list, tokenizer, maxlen)\n",
    "input_ids_val, attention_masks_val = encode_texts(val_text_list, tokenizer, maxlen)\n",
    "\n",
    "# Convert labels to numpy arrays\n",
    "labels_train = np.array(y_train)\n",
    "labels_val = np.array(y_val)"
   ]
  },
  {
   "cell_type": "code",
   "execution_count": 49,
   "metadata": {},
   "outputs": [
    {
     "name": "stdout",
     "output_type": "stream",
     "text": [
      "[[1 1 1 ... 0 0 0]\n",
      " [1 1 1 ... 0 0 0]\n",
      " [1 1 1 ... 0 0 0]\n",
      " ...\n",
      " [1 1 1 ... 0 0 0]\n",
      " [1 1 1 ... 0 0 0]\n",
      " [1 1 1 ... 0 0 0]]\n"
     ]
    }
   ],
   "source": [
    "print(attention_masks_train)"
   ]
  },
  {
   "cell_type": "code",
   "execution_count": 50,
   "metadata": {},
   "outputs": [
    {
     "name": "stdout",
     "output_type": "stream",
     "text": [
      "input_ids_train shape: (445, 512)\n",
      "input_ids_val shape: (149, 512)\n",
      "labels_train shape: (445,)\n",
      "labels_val shape: (149,)\n"
     ]
    }
   ],
   "source": [
    "print(f\"input_ids_train shape: {np.array(input_ids_train).shape}\")\n",
    "print(f\"input_ids_val shape: {np.array(input_ids_val).shape}\")\n",
    "print(f\"labels_train shape: {np.array(labels_train).shape}\")\n",
    "print(f\"labels_val shape: {np.array(labels_val).shape}\")"
   ]
  },
  {
   "cell_type": "code",
   "execution_count": 51,
   "metadata": {},
   "outputs": [
    {
     "name": "stdout",
     "output_type": "stream",
     "text": [
      "Model input names: ['input_ids', 'attention_mask']\n",
      "Model output names: ['dense_1']\n"
     ]
    }
   ],
   "source": [
    "print(f\"Model input names: {model.input_names}\")\n",
    "print(f\"Model output names: {model.output_names}\")"
   ]
  },
  {
   "cell_type": "code",
   "execution_count": 52,
   "metadata": {},
   "outputs": [],
   "source": [
    "bert_model.trainable = True"
   ]
  },
  {
   "cell_type": "code",
   "execution_count": 53,
   "metadata": {},
   "outputs": [
    {
     "name": "stdout",
     "output_type": "stream",
     "text": [
      "Epoch 1/4\n",
      "WARNING:tensorflow:Gradients do not exist for variables ['tf_bert_model/bert/pooler/dense/kernel:0', 'tf_bert_model/bert/pooler/dense/bias:0'] when minimizing the loss. If you're using `model.compile()`, did you forget to provide a `loss` argument?\n",
      "WARNING:tensorflow:Gradients do not exist for variables ['tf_bert_model/bert/pooler/dense/kernel:0', 'tf_bert_model/bert/pooler/dense/bias:0'] when minimizing the loss. If you're using `model.compile()`, did you forget to provide a `loss` argument?\n",
      "WARNING:tensorflow:Gradients do not exist for variables ['tf_bert_model/bert/pooler/dense/kernel:0', 'tf_bert_model/bert/pooler/dense/bias:0'] when minimizing the loss. If you're using `model.compile()`, did you forget to provide a `loss` argument?\n",
      "WARNING:tensorflow:Gradients do not exist for variables ['tf_bert_model/bert/pooler/dense/kernel:0', 'tf_bert_model/bert/pooler/dense/bias:0'] when minimizing the loss. If you're using `model.compile()`, did you forget to provide a `loss` argument?\n",
      "55/55 [==============================] - 1103s 20s/step - loss: 0.8888 - accuracy: 0.5409 - val_loss: 0.6837 - val_accuracy: 0.6181\n",
      "Epoch 2/4\n",
      "55/55 [==============================] - 1028s 19s/step - loss: 0.7132 - accuracy: 0.5332 - val_loss: 0.6652 - val_accuracy: 0.6181\n",
      "Epoch 3/4\n",
      "55/55 [==============================] - 1009s 18s/step - loss: 0.6774 - accuracy: 0.5789 - val_loss: 0.6852 - val_accuracy: 0.6181\n",
      "Epoch 4/4\n",
      "55/55 [==============================] - 1011s 18s/step - loss: 0.6920 - accuracy: 0.5744 - val_loss: 0.6817 - val_accuracy: 0.6181\n"
     ]
    }
   ],
   "source": [
    "history = model.fit(\n",
    "    x=[input_ids_train, attention_masks_train],  # Training data\n",
    "    y=labels_train,                              # Training labels\n",
    "    validation_data=([input_ids_val, attention_masks_val], labels_val),  # Validation data\n",
    "    batch_size=8,  # Reduce from 32 to 8 or even 4\n",
    "    epochs=4,\n",
    "    steps_per_epoch=len(input_ids_train) // 8,\n",
    "    validation_steps=len(input_ids_val) // 8\n",
    ")"
   ]
  },
  {
   "cell_type": "code",
   "execution_count": 54,
   "metadata": {},
   "outputs": [],
   "source": [
    "model.save('bertText_model_57%ac.h5')"
   ]
  },
  {
   "cell_type": "code",
   "execution_count": 24,
   "metadata": {},
   "outputs": [],
   "source": [
    "from tensorflow.keras.models import load_model"
   ]
  },
  {
   "cell_type": "code",
   "execution_count": 21,
   "metadata": {},
   "outputs": [],
   "source": [
    "import tensorflow as tf"
   ]
  },
  {
   "cell_type": "code",
   "execution_count": 22,
   "metadata": {},
   "outputs": [],
   "source": [
    "from tensorflow.keras.models import load_model\n",
    "from transformers import TFBertModel\n",
    "\n",
    "# Load the model with the custom object scope for TFBertModel\n",
    "with tf.keras.utils.custom_object_scope({'TFBertModel': TFBertModel}):\n",
    "    txt_model = load_model('bertText_model_57%ac.h5')"
   ]
  },
  {
   "cell_type": "code",
   "execution_count": 23,
   "metadata": {},
   "outputs": [
    {
     "name": "stdout",
     "output_type": "stream",
     "text": [
      "Model: \"model\"\n",
      "__________________________________________________________________________________________________\n",
      " Layer (type)                   Output Shape         Param #     Connected to                     \n",
      "==================================================================================================\n",
      " image_input (InputLayer)       [(None, 224, 224, 3  0           []                               \n",
      "                                )]                                                                \n",
      "                                                                                                  \n",
      " conv1_pad (ZeroPadding2D)      (None, 230, 230, 3)  0           ['image_input[0][0]']            \n",
      "                                                                                                  \n",
      " conv1_conv (Conv2D)            (None, 112, 112, 64  9472        ['conv1_pad[0][0]']              \n",
      "                                )                                                                 \n",
      "                                                                                                  \n",
      " conv1_bn (BatchNormalization)  (None, 112, 112, 64  256         ['conv1_conv[0][0]']             \n",
      "                                )                                                                 \n",
      "                                                                                                  \n",
      " conv1_relu (Activation)        (None, 112, 112, 64  0           ['conv1_bn[0][0]']               \n",
      "                                )                                                                 \n",
      "                                                                                                  \n",
      " pool1_pad (ZeroPadding2D)      (None, 114, 114, 64  0           ['conv1_relu[0][0]']             \n",
      "                                )                                                                 \n",
      "                                                                                                  \n",
      " pool1_pool (MaxPooling2D)      (None, 56, 56, 64)   0           ['pool1_pad[0][0]']              \n",
      "                                                                                                  \n",
      " conv2_block1_1_conv (Conv2D)   (None, 56, 56, 64)   4160        ['pool1_pool[0][0]']             \n",
      "                                                                                                  \n",
      " conv2_block1_1_bn (BatchNormal  (None, 56, 56, 64)  256         ['conv2_block1_1_conv[0][0]']    \n",
      " ization)                                                                                         \n",
      "                                                                                                  \n",
      " conv2_block1_1_relu (Activatio  (None, 56, 56, 64)  0           ['conv2_block1_1_bn[0][0]']      \n",
      " n)                                                                                               \n",
      "                                                                                                  \n",
      " conv2_block1_2_conv (Conv2D)   (None, 56, 56, 64)   36928       ['conv2_block1_1_relu[0][0]']    \n",
      "                                                                                                  \n",
      " conv2_block1_2_bn (BatchNormal  (None, 56, 56, 64)  256         ['conv2_block1_2_conv[0][0]']    \n",
      " ization)                                                                                         \n",
      "                                                                                                  \n",
      " conv2_block1_2_relu (Activatio  (None, 56, 56, 64)  0           ['conv2_block1_2_bn[0][0]']      \n",
      " n)                                                                                               \n",
      "                                                                                                  \n",
      " conv2_block1_0_conv (Conv2D)   (None, 56, 56, 256)  16640       ['pool1_pool[0][0]']             \n",
      "                                                                                                  \n",
      " conv2_block1_3_conv (Conv2D)   (None, 56, 56, 256)  16640       ['conv2_block1_2_relu[0][0]']    \n",
      "                                                                                                  \n",
      " conv2_block1_0_bn (BatchNormal  (None, 56, 56, 256)  1024       ['conv2_block1_0_conv[0][0]']    \n",
      " ization)                                                                                         \n",
      "                                                                                                  \n",
      " conv2_block1_3_bn (BatchNormal  (None, 56, 56, 256)  1024       ['conv2_block1_3_conv[0][0]']    \n",
      " ization)                                                                                         \n",
      "                                                                                                  \n",
      " conv2_block1_add (Add)         (None, 56, 56, 256)  0           ['conv2_block1_0_bn[0][0]',      \n",
      "                                                                  'conv2_block1_3_bn[0][0]']      \n",
      "                                                                                                  \n",
      " conv2_block1_out (Activation)  (None, 56, 56, 256)  0           ['conv2_block1_add[0][0]']       \n",
      "                                                                                                  \n",
      " conv2_block2_1_conv (Conv2D)   (None, 56, 56, 64)   16448       ['conv2_block1_out[0][0]']       \n",
      "                                                                                                  \n",
      " conv2_block2_1_bn (BatchNormal  (None, 56, 56, 64)  256         ['conv2_block2_1_conv[0][0]']    \n",
      " ization)                                                                                         \n",
      "                                                                                                  \n",
      " conv2_block2_1_relu (Activatio  (None, 56, 56, 64)  0           ['conv2_block2_1_bn[0][0]']      \n",
      " n)                                                                                               \n",
      "                                                                                                  \n",
      " conv2_block2_2_conv (Conv2D)   (None, 56, 56, 64)   36928       ['conv2_block2_1_relu[0][0]']    \n",
      "                                                                                                  \n",
      " conv2_block2_2_bn (BatchNormal  (None, 56, 56, 64)  256         ['conv2_block2_2_conv[0][0]']    \n",
      " ization)                                                                                         \n",
      "                                                                                                  \n",
      " conv2_block2_2_relu (Activatio  (None, 56, 56, 64)  0           ['conv2_block2_2_bn[0][0]']      \n",
      " n)                                                                                               \n",
      "                                                                                                  \n",
      " conv2_block2_3_conv (Conv2D)   (None, 56, 56, 256)  16640       ['conv2_block2_2_relu[0][0]']    \n",
      "                                                                                                  \n",
      " conv2_block2_3_bn (BatchNormal  (None, 56, 56, 256)  1024       ['conv2_block2_3_conv[0][0]']    \n",
      " ization)                                                                                         \n",
      "                                                                                                  \n",
      " conv2_block2_add (Add)         (None, 56, 56, 256)  0           ['conv2_block1_out[0][0]',       \n",
      "                                                                  'conv2_block2_3_bn[0][0]']      \n",
      "                                                                                                  \n",
      " conv2_block2_out (Activation)  (None, 56, 56, 256)  0           ['conv2_block2_add[0][0]']       \n",
      "                                                                                                  \n",
      " conv2_block3_1_conv (Conv2D)   (None, 56, 56, 64)   16448       ['conv2_block2_out[0][0]']       \n",
      "                                                                                                  \n",
      " conv2_block3_1_bn (BatchNormal  (None, 56, 56, 64)  256         ['conv2_block3_1_conv[0][0]']    \n",
      " ization)                                                                                         \n",
      "                                                                                                  \n",
      " conv2_block3_1_relu (Activatio  (None, 56, 56, 64)  0           ['conv2_block3_1_bn[0][0]']      \n",
      " n)                                                                                               \n",
      "                                                                                                  \n",
      " conv2_block3_2_conv (Conv2D)   (None, 56, 56, 64)   36928       ['conv2_block3_1_relu[0][0]']    \n",
      "                                                                                                  \n",
      " conv2_block3_2_bn (BatchNormal  (None, 56, 56, 64)  256         ['conv2_block3_2_conv[0][0]']    \n",
      " ization)                                                                                         \n",
      "                                                                                                  \n",
      " conv2_block3_2_relu (Activatio  (None, 56, 56, 64)  0           ['conv2_block3_2_bn[0][0]']      \n",
      " n)                                                                                               \n",
      "                                                                                                  \n",
      " conv2_block3_3_conv (Conv2D)   (None, 56, 56, 256)  16640       ['conv2_block3_2_relu[0][0]']    \n",
      "                                                                                                  \n",
      " conv2_block3_3_bn (BatchNormal  (None, 56, 56, 256)  1024       ['conv2_block3_3_conv[0][0]']    \n",
      " ization)                                                                                         \n",
      "                                                                                                  \n",
      " conv2_block3_add (Add)         (None, 56, 56, 256)  0           ['conv2_block2_out[0][0]',       \n",
      "                                                                  'conv2_block3_3_bn[0][0]']      \n",
      "                                                                                                  \n",
      " conv2_block3_out (Activation)  (None, 56, 56, 256)  0           ['conv2_block3_add[0][0]']       \n",
      "                                                                                                  \n",
      " conv3_block1_1_conv (Conv2D)   (None, 28, 28, 128)  32896       ['conv2_block3_out[0][0]']       \n",
      "                                                                                                  \n",
      " conv3_block1_1_bn (BatchNormal  (None, 28, 28, 128)  512        ['conv3_block1_1_conv[0][0]']    \n",
      " ization)                                                                                         \n",
      "                                                                                                  \n",
      " conv3_block1_1_relu (Activatio  (None, 28, 28, 128)  0          ['conv3_block1_1_bn[0][0]']      \n",
      " n)                                                                                               \n",
      "                                                                                                  \n",
      " conv3_block1_2_conv (Conv2D)   (None, 28, 28, 128)  147584      ['conv3_block1_1_relu[0][0]']    \n",
      "                                                                                                  \n",
      " conv3_block1_2_bn (BatchNormal  (None, 28, 28, 128)  512        ['conv3_block1_2_conv[0][0]']    \n",
      " ization)                                                                                         \n",
      "                                                                                                  \n",
      " conv3_block1_2_relu (Activatio  (None, 28, 28, 128)  0          ['conv3_block1_2_bn[0][0]']      \n",
      " n)                                                                                               \n",
      "                                                                                                  \n",
      " conv3_block1_0_conv (Conv2D)   (None, 28, 28, 512)  131584      ['conv2_block3_out[0][0]']       \n",
      "                                                                                                  \n",
      " conv3_block1_3_conv (Conv2D)   (None, 28, 28, 512)  66048       ['conv3_block1_2_relu[0][0]']    \n",
      "                                                                                                  \n",
      " conv3_block1_0_bn (BatchNormal  (None, 28, 28, 512)  2048       ['conv3_block1_0_conv[0][0]']    \n",
      " ization)                                                                                         \n",
      "                                                                                                  \n",
      " conv3_block1_3_bn (BatchNormal  (None, 28, 28, 512)  2048       ['conv3_block1_3_conv[0][0]']    \n",
      " ization)                                                                                         \n",
      "                                                                                                  \n",
      " conv3_block1_add (Add)         (None, 28, 28, 512)  0           ['conv3_block1_0_bn[0][0]',      \n",
      "                                                                  'conv3_block1_3_bn[0][0]']      \n",
      "                                                                                                  \n",
      " conv3_block1_out (Activation)  (None, 28, 28, 512)  0           ['conv3_block1_add[0][0]']       \n",
      "                                                                                                  \n",
      " conv3_block2_1_conv (Conv2D)   (None, 28, 28, 128)  65664       ['conv3_block1_out[0][0]']       \n",
      "                                                                                                  \n",
      " conv3_block2_1_bn (BatchNormal  (None, 28, 28, 128)  512        ['conv3_block2_1_conv[0][0]']    \n",
      " ization)                                                                                         \n",
      "                                                                                                  \n",
      " conv3_block2_1_relu (Activatio  (None, 28, 28, 128)  0          ['conv3_block2_1_bn[0][0]']      \n",
      " n)                                                                                               \n",
      "                                                                                                  \n",
      " conv3_block2_2_conv (Conv2D)   (None, 28, 28, 128)  147584      ['conv3_block2_1_relu[0][0]']    \n",
      "                                                                                                  \n",
      " conv3_block2_2_bn (BatchNormal  (None, 28, 28, 128)  512        ['conv3_block2_2_conv[0][0]']    \n",
      " ization)                                                                                         \n",
      "                                                                                                  \n",
      " conv3_block2_2_relu (Activatio  (None, 28, 28, 128)  0          ['conv3_block2_2_bn[0][0]']      \n",
      " n)                                                                                               \n",
      "                                                                                                  \n",
      " conv3_block2_3_conv (Conv2D)   (None, 28, 28, 512)  66048       ['conv3_block2_2_relu[0][0]']    \n",
      "                                                                                                  \n",
      " conv3_block2_3_bn (BatchNormal  (None, 28, 28, 512)  2048       ['conv3_block2_3_conv[0][0]']    \n",
      " ization)                                                                                         \n",
      "                                                                                                  \n",
      " conv3_block2_add (Add)         (None, 28, 28, 512)  0           ['conv3_block1_out[0][0]',       \n",
      "                                                                  'conv3_block2_3_bn[0][0]']      \n",
      "                                                                                                  \n",
      " conv3_block2_out (Activation)  (None, 28, 28, 512)  0           ['conv3_block2_add[0][0]']       \n",
      "                                                                                                  \n",
      " conv3_block3_1_conv (Conv2D)   (None, 28, 28, 128)  65664       ['conv3_block2_out[0][0]']       \n",
      "                                                                                                  \n",
      " conv3_block3_1_bn (BatchNormal  (None, 28, 28, 128)  512        ['conv3_block3_1_conv[0][0]']    \n",
      " ization)                                                                                         \n",
      "                                                                                                  \n",
      " conv3_block3_1_relu (Activatio  (None, 28, 28, 128)  0          ['conv3_block3_1_bn[0][0]']      \n",
      " n)                                                                                               \n",
      "                                                                                                  \n",
      " conv3_block3_2_conv (Conv2D)   (None, 28, 28, 128)  147584      ['conv3_block3_1_relu[0][0]']    \n",
      "                                                                                                  \n",
      " conv3_block3_2_bn (BatchNormal  (None, 28, 28, 128)  512        ['conv3_block3_2_conv[0][0]']    \n",
      " ization)                                                                                         \n",
      "                                                                                                  \n",
      " conv3_block3_2_relu (Activatio  (None, 28, 28, 128)  0          ['conv3_block3_2_bn[0][0]']      \n",
      " n)                                                                                               \n",
      "                                                                                                  \n",
      " conv3_block3_3_conv (Conv2D)   (None, 28, 28, 512)  66048       ['conv3_block3_2_relu[0][0]']    \n",
      "                                                                                                  \n",
      " conv3_block3_3_bn (BatchNormal  (None, 28, 28, 512)  2048       ['conv3_block3_3_conv[0][0]']    \n",
      " ization)                                                                                         \n",
      "                                                                                                  \n",
      " conv3_block3_add (Add)         (None, 28, 28, 512)  0           ['conv3_block2_out[0][0]',       \n",
      "                                                                  'conv3_block3_3_bn[0][0]']      \n",
      "                                                                                                  \n",
      " conv3_block3_out (Activation)  (None, 28, 28, 512)  0           ['conv3_block3_add[0][0]']       \n",
      "                                                                                                  \n",
      " conv3_block4_1_conv (Conv2D)   (None, 28, 28, 128)  65664       ['conv3_block3_out[0][0]']       \n",
      "                                                                                                  \n",
      " conv3_block4_1_bn (BatchNormal  (None, 28, 28, 128)  512        ['conv3_block4_1_conv[0][0]']    \n",
      " ization)                                                                                         \n",
      "                                                                                                  \n",
      " conv3_block4_1_relu (Activatio  (None, 28, 28, 128)  0          ['conv3_block4_1_bn[0][0]']      \n",
      " n)                                                                                               \n",
      "                                                                                                  \n",
      " conv3_block4_2_conv (Conv2D)   (None, 28, 28, 128)  147584      ['conv3_block4_1_relu[0][0]']    \n",
      "                                                                                                  \n",
      " conv3_block4_2_bn (BatchNormal  (None, 28, 28, 128)  512        ['conv3_block4_2_conv[0][0]']    \n",
      " ization)                                                                                         \n",
      "                                                                                                  \n",
      " conv3_block4_2_relu (Activatio  (None, 28, 28, 128)  0          ['conv3_block4_2_bn[0][0]']      \n",
      " n)                                                                                               \n",
      "                                                                                                  \n",
      " conv3_block4_3_conv (Conv2D)   (None, 28, 28, 512)  66048       ['conv3_block4_2_relu[0][0]']    \n",
      "                                                                                                  \n",
      " conv3_block4_3_bn (BatchNormal  (None, 28, 28, 512)  2048       ['conv3_block4_3_conv[0][0]']    \n",
      " ization)                                                                                         \n",
      "                                                                                                  \n",
      " conv3_block4_add (Add)         (None, 28, 28, 512)  0           ['conv3_block3_out[0][0]',       \n",
      "                                                                  'conv3_block4_3_bn[0][0]']      \n",
      "                                                                                                  \n",
      " conv3_block4_out (Activation)  (None, 28, 28, 512)  0           ['conv3_block4_add[0][0]']       \n",
      "                                                                                                  \n",
      " conv4_block1_1_conv (Conv2D)   (None, 14, 14, 256)  131328      ['conv3_block4_out[0][0]']       \n",
      "                                                                                                  \n",
      " conv4_block1_1_bn (BatchNormal  (None, 14, 14, 256)  1024       ['conv4_block1_1_conv[0][0]']    \n",
      " ization)                                                                                         \n",
      "                                                                                                  \n",
      " conv4_block1_1_relu (Activatio  (None, 14, 14, 256)  0          ['conv4_block1_1_bn[0][0]']      \n",
      " n)                                                                                               \n",
      "                                                                                                  \n",
      " conv4_block1_2_conv (Conv2D)   (None, 14, 14, 256)  590080      ['conv4_block1_1_relu[0][0]']    \n",
      "                                                                                                  \n",
      " conv4_block1_2_bn (BatchNormal  (None, 14, 14, 256)  1024       ['conv4_block1_2_conv[0][0]']    \n",
      " ization)                                                                                         \n",
      "                                                                                                  \n",
      " conv4_block1_2_relu (Activatio  (None, 14, 14, 256)  0          ['conv4_block1_2_bn[0][0]']      \n",
      " n)                                                                                               \n",
      "                                                                                                  \n",
      " conv4_block1_0_conv (Conv2D)   (None, 14, 14, 1024  525312      ['conv3_block4_out[0][0]']       \n",
      "                                )                                                                 \n",
      "                                                                                                  \n",
      " conv4_block1_3_conv (Conv2D)   (None, 14, 14, 1024  263168      ['conv4_block1_2_relu[0][0]']    \n",
      "                                )                                                                 \n",
      "                                                                                                  \n",
      " conv4_block1_0_bn (BatchNormal  (None, 14, 14, 1024  4096       ['conv4_block1_0_conv[0][0]']    \n",
      " ization)                       )                                                                 \n",
      "                                                                                                  \n",
      " conv4_block1_3_bn (BatchNormal  (None, 14, 14, 1024  4096       ['conv4_block1_3_conv[0][0]']    \n",
      " ization)                       )                                                                 \n",
      "                                                                                                  \n",
      " conv4_block1_add (Add)         (None, 14, 14, 1024  0           ['conv4_block1_0_bn[0][0]',      \n",
      "                                )                                 'conv4_block1_3_bn[0][0]']      \n",
      "                                                                                                  \n",
      " conv4_block1_out (Activation)  (None, 14, 14, 1024  0           ['conv4_block1_add[0][0]']       \n",
      "                                )                                                                 \n",
      "                                                                                                  \n",
      " conv4_block2_1_conv (Conv2D)   (None, 14, 14, 256)  262400      ['conv4_block1_out[0][0]']       \n",
      "                                                                                                  \n",
      " conv4_block2_1_bn (BatchNormal  (None, 14, 14, 256)  1024       ['conv4_block2_1_conv[0][0]']    \n",
      " ization)                                                                                         \n",
      "                                                                                                  \n",
      " conv4_block2_1_relu (Activatio  (None, 14, 14, 256)  0          ['conv4_block2_1_bn[0][0]']      \n",
      " n)                                                                                               \n",
      "                                                                                                  \n",
      " conv4_block2_2_conv (Conv2D)   (None, 14, 14, 256)  590080      ['conv4_block2_1_relu[0][0]']    \n",
      "                                                                                                  \n",
      " conv4_block2_2_bn (BatchNormal  (None, 14, 14, 256)  1024       ['conv4_block2_2_conv[0][0]']    \n",
      " ization)                                                                                         \n",
      "                                                                                                  \n",
      " conv4_block2_2_relu (Activatio  (None, 14, 14, 256)  0          ['conv4_block2_2_bn[0][0]']      \n",
      " n)                                                                                               \n",
      "                                                                                                  \n",
      " conv4_block2_3_conv (Conv2D)   (None, 14, 14, 1024  263168      ['conv4_block2_2_relu[0][0]']    \n",
      "                                )                                                                 \n",
      "                                                                                                  \n",
      " conv4_block2_3_bn (BatchNormal  (None, 14, 14, 1024  4096       ['conv4_block2_3_conv[0][0]']    \n",
      " ization)                       )                                                                 \n",
      "                                                                                                  \n",
      " conv4_block2_add (Add)         (None, 14, 14, 1024  0           ['conv4_block1_out[0][0]',       \n",
      "                                )                                 'conv4_block2_3_bn[0][0]']      \n",
      "                                                                                                  \n",
      " conv4_block2_out (Activation)  (None, 14, 14, 1024  0           ['conv4_block2_add[0][0]']       \n",
      "                                )                                                                 \n",
      "                                                                                                  \n",
      " conv4_block3_1_conv (Conv2D)   (None, 14, 14, 256)  262400      ['conv4_block2_out[0][0]']       \n",
      "                                                                                                  \n",
      " conv4_block3_1_bn (BatchNormal  (None, 14, 14, 256)  1024       ['conv4_block3_1_conv[0][0]']    \n",
      " ization)                                                                                         \n",
      "                                                                                                  \n",
      " conv4_block3_1_relu (Activatio  (None, 14, 14, 256)  0          ['conv4_block3_1_bn[0][0]']      \n",
      " n)                                                                                               \n",
      "                                                                                                  \n",
      " conv4_block3_2_conv (Conv2D)   (None, 14, 14, 256)  590080      ['conv4_block3_1_relu[0][0]']    \n",
      "                                                                                                  \n",
      " conv4_block3_2_bn (BatchNormal  (None, 14, 14, 256)  1024       ['conv4_block3_2_conv[0][0]']    \n",
      " ization)                                                                                         \n",
      "                                                                                                  \n",
      " conv4_block3_2_relu (Activatio  (None, 14, 14, 256)  0          ['conv4_block3_2_bn[0][0]']      \n",
      " n)                                                                                               \n",
      "                                                                                                  \n",
      " conv4_block3_3_conv (Conv2D)   (None, 14, 14, 1024  263168      ['conv4_block3_2_relu[0][0]']    \n",
      "                                )                                                                 \n",
      "                                                                                                  \n",
      " conv4_block3_3_bn (BatchNormal  (None, 14, 14, 1024  4096       ['conv4_block3_3_conv[0][0]']    \n",
      " ization)                       )                                                                 \n",
      "                                                                                                  \n",
      " conv4_block3_add (Add)         (None, 14, 14, 1024  0           ['conv4_block2_out[0][0]',       \n",
      "                                )                                 'conv4_block3_3_bn[0][0]']      \n",
      "                                                                                                  \n",
      " conv4_block3_out (Activation)  (None, 14, 14, 1024  0           ['conv4_block3_add[0][0]']       \n",
      "                                )                                                                 \n",
      "                                                                                                  \n",
      " conv4_block4_1_conv (Conv2D)   (None, 14, 14, 256)  262400      ['conv4_block3_out[0][0]']       \n",
      "                                                                                                  \n",
      " conv4_block4_1_bn (BatchNormal  (None, 14, 14, 256)  1024       ['conv4_block4_1_conv[0][0]']    \n",
      " ization)                                                                                         \n",
      "                                                                                                  \n",
      " conv4_block4_1_relu (Activatio  (None, 14, 14, 256)  0          ['conv4_block4_1_bn[0][0]']      \n",
      " n)                                                                                               \n",
      "                                                                                                  \n",
      " conv4_block4_2_conv (Conv2D)   (None, 14, 14, 256)  590080      ['conv4_block4_1_relu[0][0]']    \n",
      "                                                                                                  \n",
      " conv4_block4_2_bn (BatchNormal  (None, 14, 14, 256)  1024       ['conv4_block4_2_conv[0][0]']    \n",
      " ization)                                                                                         \n",
      "                                                                                                  \n",
      " conv4_block4_2_relu (Activatio  (None, 14, 14, 256)  0          ['conv4_block4_2_bn[0][0]']      \n",
      " n)                                                                                               \n",
      "                                                                                                  \n",
      " conv4_block4_3_conv (Conv2D)   (None, 14, 14, 1024  263168      ['conv4_block4_2_relu[0][0]']    \n",
      "                                )                                                                 \n",
      "                                                                                                  \n",
      " conv4_block4_3_bn (BatchNormal  (None, 14, 14, 1024  4096       ['conv4_block4_3_conv[0][0]']    \n",
      " ization)                       )                                                                 \n",
      "                                                                                                  \n",
      " conv4_block4_add (Add)         (None, 14, 14, 1024  0           ['conv4_block3_out[0][0]',       \n",
      "                                )                                 'conv4_block4_3_bn[0][0]']      \n",
      "                                                                                                  \n",
      " conv4_block4_out (Activation)  (None, 14, 14, 1024  0           ['conv4_block4_add[0][0]']       \n",
      "                                )                                                                 \n",
      "                                                                                                  \n",
      " conv4_block5_1_conv (Conv2D)   (None, 14, 14, 256)  262400      ['conv4_block4_out[0][0]']       \n",
      "                                                                                                  \n",
      " conv4_block5_1_bn (BatchNormal  (None, 14, 14, 256)  1024       ['conv4_block5_1_conv[0][0]']    \n",
      " ization)                                                                                         \n",
      "                                                                                                  \n",
      " conv4_block5_1_relu (Activatio  (None, 14, 14, 256)  0          ['conv4_block5_1_bn[0][0]']      \n",
      " n)                                                                                               \n",
      "                                                                                                  \n",
      " conv4_block5_2_conv (Conv2D)   (None, 14, 14, 256)  590080      ['conv4_block5_1_relu[0][0]']    \n",
      "                                                                                                  \n",
      " conv4_block5_2_bn (BatchNormal  (None, 14, 14, 256)  1024       ['conv4_block5_2_conv[0][0]']    \n",
      " ization)                                                                                         \n",
      "                                                                                                  \n",
      " conv4_block5_2_relu (Activatio  (None, 14, 14, 256)  0          ['conv4_block5_2_bn[0][0]']      \n",
      " n)                                                                                               \n",
      "                                                                                                  \n",
      " conv4_block5_3_conv (Conv2D)   (None, 14, 14, 1024  263168      ['conv4_block5_2_relu[0][0]']    \n",
      "                                )                                                                 \n",
      "                                                                                                  \n",
      " conv4_block5_3_bn (BatchNormal  (None, 14, 14, 1024  4096       ['conv4_block5_3_conv[0][0]']    \n",
      " ization)                       )                                                                 \n",
      "                                                                                                  \n",
      " conv4_block5_add (Add)         (None, 14, 14, 1024  0           ['conv4_block4_out[0][0]',       \n",
      "                                )                                 'conv4_block5_3_bn[0][0]']      \n",
      "                                                                                                  \n",
      " conv4_block5_out (Activation)  (None, 14, 14, 1024  0           ['conv4_block5_add[0][0]']       \n",
      "                                )                                                                 \n",
      "                                                                                                  \n",
      " conv4_block6_1_conv (Conv2D)   (None, 14, 14, 256)  262400      ['conv4_block5_out[0][0]']       \n",
      "                                                                                                  \n",
      " conv4_block6_1_bn (BatchNormal  (None, 14, 14, 256)  1024       ['conv4_block6_1_conv[0][0]']    \n",
      " ization)                                                                                         \n",
      "                                                                                                  \n",
      " conv4_block6_1_relu (Activatio  (None, 14, 14, 256)  0          ['conv4_block6_1_bn[0][0]']      \n",
      " n)                                                                                               \n",
      "                                                                                                  \n",
      " conv4_block6_2_conv (Conv2D)   (None, 14, 14, 256)  590080      ['conv4_block6_1_relu[0][0]']    \n",
      "                                                                                                  \n",
      " conv4_block6_2_bn (BatchNormal  (None, 14, 14, 256)  1024       ['conv4_block6_2_conv[0][0]']    \n",
      " ization)                                                                                         \n",
      "                                                                                                  \n",
      " conv4_block6_2_relu (Activatio  (None, 14, 14, 256)  0          ['conv4_block6_2_bn[0][0]']      \n",
      " n)                                                                                               \n",
      "                                                                                                  \n",
      " conv4_block6_3_conv (Conv2D)   (None, 14, 14, 1024  263168      ['conv4_block6_2_relu[0][0]']    \n",
      "                                )                                                                 \n",
      "                                                                                                  \n",
      " conv4_block6_3_bn (BatchNormal  (None, 14, 14, 1024  4096       ['conv4_block6_3_conv[0][0]']    \n",
      " ization)                       )                                                                 \n",
      "                                                                                                  \n",
      " conv4_block6_add (Add)         (None, 14, 14, 1024  0           ['conv4_block5_out[0][0]',       \n",
      "                                )                                 'conv4_block6_3_bn[0][0]']      \n",
      "                                                                                                  \n",
      " conv4_block6_out (Activation)  (None, 14, 14, 1024  0           ['conv4_block6_add[0][0]']       \n",
      "                                )                                                                 \n",
      "                                                                                                  \n",
      " conv5_block1_1_conv (Conv2D)   (None, 7, 7, 512)    524800      ['conv4_block6_out[0][0]']       \n",
      "                                                                                                  \n",
      " conv5_block1_1_bn (BatchNormal  (None, 7, 7, 512)   2048        ['conv5_block1_1_conv[0][0]']    \n",
      " ization)                                                                                         \n",
      "                                                                                                  \n",
      " conv5_block1_1_relu (Activatio  (None, 7, 7, 512)   0           ['conv5_block1_1_bn[0][0]']      \n",
      " n)                                                                                               \n",
      "                                                                                                  \n",
      " conv5_block1_2_conv (Conv2D)   (None, 7, 7, 512)    2359808     ['conv5_block1_1_relu[0][0]']    \n",
      "                                                                                                  \n",
      " conv5_block1_2_bn (BatchNormal  (None, 7, 7, 512)   2048        ['conv5_block1_2_conv[0][0]']    \n",
      " ization)                                                                                         \n",
      "                                                                                                  \n",
      " conv5_block1_2_relu (Activatio  (None, 7, 7, 512)   0           ['conv5_block1_2_bn[0][0]']      \n",
      " n)                                                                                               \n",
      "                                                                                                  \n",
      " conv5_block1_0_conv (Conv2D)   (None, 7, 7, 2048)   2099200     ['conv4_block6_out[0][0]']       \n",
      "                                                                                                  \n",
      " conv5_block1_3_conv (Conv2D)   (None, 7, 7, 2048)   1050624     ['conv5_block1_2_relu[0][0]']    \n",
      "                                                                                                  \n",
      " conv5_block1_0_bn (BatchNormal  (None, 7, 7, 2048)  8192        ['conv5_block1_0_conv[0][0]']    \n",
      " ization)                                                                                         \n",
      "                                                                                                  \n",
      " conv5_block1_3_bn (BatchNormal  (None, 7, 7, 2048)  8192        ['conv5_block1_3_conv[0][0]']    \n",
      " ization)                                                                                         \n",
      "                                                                                                  \n",
      " conv5_block1_add (Add)         (None, 7, 7, 2048)   0           ['conv5_block1_0_bn[0][0]',      \n",
      "                                                                  'conv5_block1_3_bn[0][0]']      \n",
      "                                                                                                  \n",
      " conv5_block1_out (Activation)  (None, 7, 7, 2048)   0           ['conv5_block1_add[0][0]']       \n",
      "                                                                                                  \n",
      " conv5_block2_1_conv (Conv2D)   (None, 7, 7, 512)    1049088     ['conv5_block1_out[0][0]']       \n",
      "                                                                                                  \n",
      " conv5_block2_1_bn (BatchNormal  (None, 7, 7, 512)   2048        ['conv5_block2_1_conv[0][0]']    \n",
      " ization)                                                                                         \n",
      "                                                                                                  \n",
      " conv5_block2_1_relu (Activatio  (None, 7, 7, 512)   0           ['conv5_block2_1_bn[0][0]']      \n",
      " n)                                                                                               \n",
      "                                                                                                  \n",
      " conv5_block2_2_conv (Conv2D)   (None, 7, 7, 512)    2359808     ['conv5_block2_1_relu[0][0]']    \n",
      "                                                                                                  \n",
      " conv5_block2_2_bn (BatchNormal  (None, 7, 7, 512)   2048        ['conv5_block2_2_conv[0][0]']    \n",
      " ization)                                                                                         \n",
      "                                                                                                  \n",
      " conv5_block2_2_relu (Activatio  (None, 7, 7, 512)   0           ['conv5_block2_2_bn[0][0]']      \n",
      " n)                                                                                               \n",
      "                                                                                                  \n",
      " conv5_block2_3_conv (Conv2D)   (None, 7, 7, 2048)   1050624     ['conv5_block2_2_relu[0][0]']    \n",
      "                                                                                                  \n",
      " conv5_block2_3_bn (BatchNormal  (None, 7, 7, 2048)  8192        ['conv5_block2_3_conv[0][0]']    \n",
      " ization)                                                                                         \n",
      "                                                                                                  \n",
      " conv5_block2_add (Add)         (None, 7, 7, 2048)   0           ['conv5_block1_out[0][0]',       \n",
      "                                                                  'conv5_block2_3_bn[0][0]']      \n",
      "                                                                                                  \n",
      " conv5_block2_out (Activation)  (None, 7, 7, 2048)   0           ['conv5_block2_add[0][0]']       \n",
      "                                                                                                  \n",
      " conv5_block3_1_conv (Conv2D)   (None, 7, 7, 512)    1049088     ['conv5_block2_out[0][0]']       \n",
      "                                                                                                  \n",
      " conv5_block3_1_bn (BatchNormal  (None, 7, 7, 512)   2048        ['conv5_block3_1_conv[0][0]']    \n",
      " ization)                                                                                         \n",
      "                                                                                                  \n",
      " conv5_block3_1_relu (Activatio  (None, 7, 7, 512)   0           ['conv5_block3_1_bn[0][0]']      \n",
      " n)                                                                                               \n",
      "                                                                                                  \n",
      " conv5_block3_2_conv (Conv2D)   (None, 7, 7, 512)    2359808     ['conv5_block3_1_relu[0][0]']    \n",
      "                                                                                                  \n",
      " conv5_block3_2_bn (BatchNormal  (None, 7, 7, 512)   2048        ['conv5_block3_2_conv[0][0]']    \n",
      " ization)                                                                                         \n",
      "                                                                                                  \n",
      " conv5_block3_2_relu (Activatio  (None, 7, 7, 512)   0           ['conv5_block3_2_bn[0][0]']      \n",
      " n)                                                                                               \n",
      "                                                                                                  \n",
      " conv5_block3_3_conv (Conv2D)   (None, 7, 7, 2048)   1050624     ['conv5_block3_2_relu[0][0]']    \n",
      "                                                                                                  \n",
      " conv5_block3_3_bn (BatchNormal  (None, 7, 7, 2048)  8192        ['conv5_block3_3_conv[0][0]']    \n",
      " ization)                                                                                         \n",
      "                                                                                                  \n",
      " conv5_block3_add (Add)         (None, 7, 7, 2048)   0           ['conv5_block2_out[0][0]',       \n",
      "                                                                  'conv5_block3_3_bn[0][0]']      \n",
      "                                                                                                  \n",
      " conv5_block3_out (Activation)  (None, 7, 7, 2048)   0           ['conv5_block3_add[0][0]']       \n",
      "                                                                                                  \n",
      " globalavg_05 (GlobalAveragePoo  (None, 2048)        0           ['conv5_block3_out[0][0]']       \n",
      " ling2D)                                                                                          \n",
      "                                                                                                  \n",
      " dense_05 (Dense)               (None, 128)          262272      ['globalavg_05[0][0]']           \n",
      "                                                                                                  \n",
      " dense_06 (Dense)               (None, 1)            129         ['dense_05[0][0]']               \n",
      "                                                                                                  \n",
      "==================================================================================================\n",
      "Total params: 23,850,113\n",
      "Trainable params: 23,796,993\n",
      "Non-trainable params: 53,120\n",
      "__________________________________________________________________________________________________\n"
     ]
    }
   ],
   "source": [
    "img_model.summary()"
   ]
  },
  {
   "cell_type": "code",
   "execution_count": 32,
   "metadata": {},
   "outputs": [
    {
     "name": "stderr",
     "output_type": "stream",
     "text": [
      "/home/jsehmbey/Desktop/btech_final_year_project/.venv/lib/python3.7/site-packages/ipykernel_launcher.py:8: UserWarning: `Model.fit_generator` is deprecated and will be removed in a future version. Please use `Model.fit`, which supports generators.\n",
      "  \n"
     ]
    },
    {
     "ename": "ValueError",
     "evalue": "The truth value of an array with more than one element is ambiguous. Use a.any() or a.all()",
     "output_type": "error",
     "traceback": [
      "\u001b[0;31m---------------------------------------------------------------------------\u001b[0m",
      "\u001b[0;31mValueError\u001b[0m                                Traceback (most recent call last)",
      "\u001b[0;32m<ipython-input-32-666b06796fdd>\u001b[0m in \u001b[0;36m<module>\u001b[0;34m\u001b[0m\n\u001b[1;32m      6\u001b[0m                          \u001b[0mvalidation_steps\u001b[0m \u001b[0;34m=\u001b[0m \u001b[0mlen\u001b[0m\u001b[0;34m(\u001b[0m\u001b[0mx_val\u001b[0m\u001b[0;34m)\u001b[0m\u001b[0;34m//\u001b[0m\u001b[0;36m32\u001b[0m\u001b[0;34m,\u001b[0m\u001b[0;34m\u001b[0m\u001b[0;34m\u001b[0m\u001b[0m\n\u001b[1;32m      7\u001b[0m                          \u001b[0mshuffle\u001b[0m \u001b[0;34m=\u001b[0m \u001b[0;32mFalse\u001b[0m\u001b[0;34m,\u001b[0m\u001b[0;34m\u001b[0m\u001b[0;34m\u001b[0m\u001b[0m\n\u001b[0;32m----> 8\u001b[0;31m                          class_weight=class_weight)\n\u001b[0m",
      "\u001b[0;32m~/Desktop/btech_final_year_project/.venv/lib/python3.7/site-packages/keras/engine/training.py\u001b[0m in \u001b[0;36mfit_generator\u001b[0;34m(self, generator, steps_per_epoch, epochs, verbose, callbacks, validation_data, validation_steps, validation_freq, class_weight, max_queue_size, workers, use_multiprocessing, shuffle, initial_epoch)\u001b[0m\n\u001b[1;32m   2616\u001b[0m             \u001b[0muse_multiprocessing\u001b[0m\u001b[0;34m=\u001b[0m\u001b[0muse_multiprocessing\u001b[0m\u001b[0;34m,\u001b[0m\u001b[0;34m\u001b[0m\u001b[0;34m\u001b[0m\u001b[0m\n\u001b[1;32m   2617\u001b[0m             \u001b[0mshuffle\u001b[0m\u001b[0;34m=\u001b[0m\u001b[0mshuffle\u001b[0m\u001b[0;34m,\u001b[0m\u001b[0;34m\u001b[0m\u001b[0;34m\u001b[0m\u001b[0m\n\u001b[0;32m-> 2618\u001b[0;31m             \u001b[0minitial_epoch\u001b[0m\u001b[0;34m=\u001b[0m\u001b[0minitial_epoch\u001b[0m\u001b[0;34m,\u001b[0m\u001b[0;34m\u001b[0m\u001b[0;34m\u001b[0m\u001b[0m\n\u001b[0m\u001b[1;32m   2619\u001b[0m         )\n\u001b[1;32m   2620\u001b[0m \u001b[0;34m\u001b[0m\u001b[0m\n",
      "\u001b[0;32m~/Desktop/btech_final_year_project/.venv/lib/python3.7/site-packages/keras/utils/traceback_utils.py\u001b[0m in \u001b[0;36merror_handler\u001b[0;34m(*args, **kwargs)\u001b[0m\n\u001b[1;32m     68\u001b[0m             \u001b[0;31m# To get the full stack trace, call:\u001b[0m\u001b[0;34m\u001b[0m\u001b[0;34m\u001b[0m\u001b[0;34m\u001b[0m\u001b[0m\n\u001b[1;32m     69\u001b[0m             \u001b[0;31m# `tf.debugging.disable_traceback_filtering()`\u001b[0m\u001b[0;34m\u001b[0m\u001b[0;34m\u001b[0m\u001b[0;34m\u001b[0m\u001b[0m\n\u001b[0;32m---> 70\u001b[0;31m             \u001b[0;32mraise\u001b[0m \u001b[0me\u001b[0m\u001b[0;34m.\u001b[0m\u001b[0mwith_traceback\u001b[0m\u001b[0;34m(\u001b[0m\u001b[0mfiltered_tb\u001b[0m\u001b[0;34m)\u001b[0m \u001b[0;32mfrom\u001b[0m \u001b[0;32mNone\u001b[0m\u001b[0;34m\u001b[0m\u001b[0;34m\u001b[0m\u001b[0m\n\u001b[0m\u001b[1;32m     71\u001b[0m         \u001b[0;32mfinally\u001b[0m\u001b[0;34m:\u001b[0m\u001b[0;34m\u001b[0m\u001b[0;34m\u001b[0m\u001b[0m\n\u001b[1;32m     72\u001b[0m             \u001b[0;32mdel\u001b[0m \u001b[0mfiltered_tb\u001b[0m\u001b[0;34m\u001b[0m\u001b[0;34m\u001b[0m\u001b[0m\n",
      "\u001b[0;32m~/Desktop/btech_final_year_project/.venv/lib/python3.7/site-packages/keras/engine/data_adapter.py\u001b[0m in \u001b[0;36m__init__\u001b[0;34m(self, x, y, sample_weights, sample_weight_modes, batch_size, epochs, steps, shuffle, **kwargs)\u001b[0m\n\u001b[1;32m    263\u001b[0m         \u001b[0;31m# data.  Default to 32 for backwards compat.\u001b[0m\u001b[0;34m\u001b[0m\u001b[0;34m\u001b[0m\u001b[0;34m\u001b[0m\u001b[0m\n\u001b[1;32m    264\u001b[0m         \u001b[0;32mif\u001b[0m \u001b[0;32mnot\u001b[0m \u001b[0mbatch_size\u001b[0m\u001b[0;34m:\u001b[0m\u001b[0;34m\u001b[0m\u001b[0;34m\u001b[0m\u001b[0m\n\u001b[0;32m--> 265\u001b[0;31m             \u001b[0mbatch_size\u001b[0m \u001b[0;34m=\u001b[0m \u001b[0mint\u001b[0m\u001b[0;34m(\u001b[0m\u001b[0mmath\u001b[0m\u001b[0;34m.\u001b[0m\u001b[0mceil\u001b[0m\u001b[0;34m(\u001b[0m\u001b[0mnum_samples\u001b[0m \u001b[0;34m/\u001b[0m \u001b[0msteps\u001b[0m\u001b[0;34m)\u001b[0m\u001b[0;34m)\u001b[0m \u001b[0;32mif\u001b[0m \u001b[0msteps\u001b[0m \u001b[0;32melse\u001b[0m \u001b[0;36m32\u001b[0m\u001b[0;34m\u001b[0m\u001b[0;34m\u001b[0m\u001b[0m\n\u001b[0m\u001b[1;32m    266\u001b[0m \u001b[0;34m\u001b[0m\u001b[0m\n\u001b[1;32m    267\u001b[0m         \u001b[0mself\u001b[0m\u001b[0;34m.\u001b[0m\u001b[0m_size\u001b[0m \u001b[0;34m=\u001b[0m \u001b[0mint\u001b[0m\u001b[0;34m(\u001b[0m\u001b[0mmath\u001b[0m\u001b[0;34m.\u001b[0m\u001b[0mceil\u001b[0m\u001b[0;34m(\u001b[0m\u001b[0mnum_samples\u001b[0m \u001b[0;34m/\u001b[0m \u001b[0mbatch_size\u001b[0m\u001b[0;34m)\u001b[0m\u001b[0;34m)\u001b[0m\u001b[0;34m\u001b[0m\u001b[0;34m\u001b[0m\u001b[0m\n",
      "\u001b[0;31mValueError\u001b[0m: The truth value of an array with more than one element is ambiguous. Use a.any() or a.all()"
     ]
    }
   ],
   "source": [
    "model.fit_generator(\n",
    "    [input_ids_train, attention_masks_train],  # Inputs\n",
    "    labels_train,                              # Labels\n",
    "    validation_data=([input_ids_val, attention_masks_val], labels_val),\n",
    "                         epochs=7, \n",
    "                         validation_steps = len(x_val)//32, \n",
    "                         steps_per_epoch=len(x_train)//32, \n",
    "                         shuffle = False, \n",
    "                         class_weight=class_weight)"
   ]
  },
  {
   "cell_type": "code",
   "execution_count": 34,
   "metadata": {},
   "outputs": [
    {
     "name": "stderr",
     "output_type": "stream",
     "text": [
      "W1127 19:23:33.542382 12592 deprecation.py:506] From c:\\Users\\jasra\\OneDrive\\Desktop\\MAJOR PROJECT\\.venv\\lib\\site-packages\\keras\\backend\\tensorflow_backend.py:3445: calling dropout (from tensorflow.python.ops.nn_ops) with keep_prob is deprecated and will be removed in a future version.\n",
      "Instructions for updating:\n",
      "Please use `rate` instead of `keep_prob`. Rate should be set to `rate = 1 - keep_prob`.\n"
     ]
    },
    {
     "name": "stdout",
     "output_type": "stream",
     "text": [
      "__________________________________________________________________________________________________\n",
      "Layer (type)                    Output Shape         Param #     Connected to                     \n",
      "==================================================================================================\n",
      "text_input (InputLayer)         (None, 1000)         0                                            \n",
      "__________________________________________________________________________________________________\n",
      "embedding_1 (Embedding)         (None, 1000, 50)     219000      text_input[0][0]                 \n",
      "__________________________________________________________________________________________________\n",
      "bidirectional_1 (Bidirectional) (None, 1000, 128)    58880       embedding_1[0][0]                \n",
      "__________________________________________________________________________________________________\n",
      "dense_3 (Dense)                 (None, 1000, 1)      129         bidirectional_1[0][0]            \n",
      "__________________________________________________________________________________________________\n",
      "flatten_1 (Flatten)             (None, 1000)         0           dense_3[0][0]                    \n",
      "__________________________________________________________________________________________________\n",
      "activation_50 (Activation)      (None, 1000)         0           flatten_1[0][0]                  \n",
      "__________________________________________________________________________________________________\n",
      "dot_1 (Dot)                     (None, 128)          0           bidirectional_1[0][0]            \n",
      "                                                                 activation_50[0][0]              \n",
      "__________________________________________________________________________________________________\n",
      "dense_4 (Dense)                 (None, 128)          16512       dot_1[0][0]                      \n",
      "__________________________________________________________________________________________________\n",
      "dropout_1 (Dropout)             (None, 128)          0           dense_4[0][0]                    \n",
      "__________________________________________________________________________________________________\n",
      "dense_5 (Dense)                 (None, 1)            129         dropout_1[0][0]                  \n",
      "==================================================================================================\n",
      "Total params: 294,650\n",
      "Trainable params: 75,650\n",
      "Non-trainable params: 219,000\n",
      "__________________________________________________________________________________________________\n"
     ]
    }
   ],
   "source": [
    "# # Text Input and LSTM\n",
    "# text_input = Input(shape=(maxlen,), dtype='int32', name='text_input')\n",
    "# embedded_text = embedding_layer(text_input)\n",
    "# lstm_out = LSTM(32)(embedded_text)/\n",
    "\n",
    "from keras.layers import Input, LSTM, Bidirectional, Dropout, Dense, Embedding\n",
    "from keras.layers import Activation, Dot\n",
    "from keras.models import Model\n",
    "\n",
    "# Text Input\n",
    "text_input = Input(shape=(maxlen,), dtype='int32', name='text_input')\n",
    "\n",
    "# Embedding Layer (using pre-trained GloVe embeddings)\n",
    "embedded_text = embedding_layer(text_input)\n",
    "\n",
    "# Bidirectional LSTM Layer\n",
    "lstm_out = Bidirectional(LSTM(64, return_sequences=True, dropout=0.2, recurrent_dropout=0.2))(embedded_text)\n",
    "\n",
    "# Attention Mechanism\n",
    "attention = Dense(1, activation='tanh')(lstm_out)\n",
    "attention = Flatten()(attention)\n",
    "attention_weights = Activation('softmax')(attention)\n",
    "context_vector = Dot(axes=1)([lstm_out, attention_weights])\n",
    "\n",
    "# Fully Connected Layer with Batch Normalization\n",
    "dense_out = Dense(128, activation='relu', kernel_regularizer=regularizers.l2(0.01))(context_vector)\n",
    "dense_out = Dropout(0.3)(dense_out)\n",
    "\n",
    "# Final Output Layer\n",
    "output = Dense(1, activation='sigmoid')(dense_out)\n",
    "\n",
    "# Define the Model\n",
    "text_model = Model(inputs=text_input, outputs=output)\n",
    "\n",
    "# Compile the Model\n",
    "text_model.compile(optimizer='adam', loss='binary_crossentropy', metrics=['accuracy'])\n",
    "text_model.summary()\n"
   ]
  },
  {
   "cell_type": "code",
   "execution_count": 35,
   "metadata": {},
   "outputs": [
    {
     "name": "stdout",
     "output_type": "stream",
     "text": [
      "Epoch 1/7\n",
      "13/13 [==============================] - 13s 968ms/step - loss: 1.9190 - acc: 0.5168 - val_loss: 1.6554 - val_acc: 0.5000\n",
      "Epoch 2/7\n",
      "13/13 [==============================] - 9s 681ms/step - loss: 1.6520 - acc: 0.5962 - val_loss: 1.4093 - val_acc: 0.7500\n",
      "Epoch 3/7\n",
      "13/13 [==============================] - 9s 707ms/step - loss: 1.4400 - acc: 0.5986 - val_loss: 1.2347 - val_acc: 0.5000\n",
      "Epoch 4/7\n",
      "13/13 [==============================] - 9s 728ms/step - loss: 1.2775 - acc: 0.5986 - val_loss: 1.0947 - val_acc: 0.5000\n",
      "Epoch 5/7\n",
      "13/13 [==============================] - 10s 737ms/step - loss: 1.1525 - acc: 0.5986 - val_loss: 0.9717 - val_acc: 0.7500\n",
      "Epoch 6/7\n",
      "13/13 [==============================] - 10s 754ms/step - loss: 1.0590 - acc: 0.5913 - val_loss: 0.9052 - val_acc: 0.5000\n",
      "Epoch 7/7\n",
      "13/13 [==============================] - 10s 765ms/step - loss: 0.9887 - acc: 0.5962 - val_loss: 0.8356 - val_acc: 0.7500\n"
     ]
    },
    {
     "data": {
      "text/plain": [
       "<keras.callbacks.History at 0x18853df5d30>"
      ]
     },
     "execution_count": 35,
     "metadata": {},
     "output_type": "execute_result"
    }
   ],
   "source": [
    "# Training text model\n",
    "text_model.fit_generator(txt_gen_train, \n",
    "                         epochs=7, \n",
    "                         validation_steps = len(x_val)//32, \n",
    "                         steps_per_epoch=len(x_train)//32, \n",
    "                         validation_data=txt_gen_val, \n",
    "                         shuffle = False, \n",
    "                         class_weight=class_weight)"
   ]
  },
  {
   "cell_type": "code",
   "execution_count": 41,
   "metadata": {},
   "outputs": [
    {
     "name": "stderr",
     "output_type": "stream",
     "text": [
      "WARNING:absl:`lr` is deprecated, please use `learning_rate` instead, or use the legacy optimizer, e.g.,tf.keras.optimizers.legacy.Adam.\n"
     ]
    }
   ],
   "source": [
    "from tensorflow.keras.models import Model\n",
    "from tensorflow.keras.layers import concatenate, Dense, Dropout\n",
    "from tensorflow.keras import optimizers\n",
    "\n",
    "# Assuming txt_model and img_model are already defined\n",
    "\n",
    "# Concatenate the outputs of both models\n",
    "con_layer = concatenate([txt_model.output, img_model.output], name=\"concatenated_layer\")\n",
    "\n",
    "# Add dense, dropout, and output layers with unique names\n",
    "dense_1 = Dense(64, activation='relu', name='d')(con_layer)\n",
    "dropout_1 = Dropout(0.3, name='drop')(dense_1)\n",
    "output_layer = Dense(1, activation='sigmoid', name='o')(dropout_1)\n",
    "\n",
    "# Create the final model with unique layer names\n",
    "com_model = Model(inputs=[img_model.input, txt_model.input], outputs=output_layer)\n",
    "\n",
    "# Use the Adam optimizer\n",
    "adam = optimizers.Adam(lr=0.001)\n",
    "\n",
    "# Compile the model\n",
    "com_model.compile(loss='binary_crossentropy', optimizer=adam, metrics=[\"accuracy\"])\n"
   ]
  },
  {
   "cell_type": "code",
   "execution_count": 42,
   "metadata": {},
   "outputs": [
    {
     "data": {
      "text/plain": [
       "TensorShape([None, 224, 224, 3])"
      ]
     },
     "execution_count": 42,
     "metadata": {},
     "output_type": "execute_result"
    }
   ],
   "source": [
    "img_model.input.shape"
   ]
  },
  {
   "cell_type": "code",
   "execution_count": 43,
   "metadata": {},
   "outputs": [
    {
     "data": {
      "text/plain": [
       "[<KerasTensor: shape=(None, 512) dtype=int32 (created by layer 'input_ids')>,\n",
       " <KerasTensor: shape=(None, 512) dtype=int32 (created by layer 'attention_mask')>]"
      ]
     },
     "execution_count": 43,
     "metadata": {},
     "output_type": "execute_result"
    }
   ],
   "source": [
    "txt_model.input"
   ]
  },
  {
   "cell_type": "code",
   "execution_count": 44,
   "metadata": {},
   "outputs": [
    {
     "name": "stdout",
     "output_type": "stream",
     "text": [
      "Image input shape: (32, 224, 224, 3)\n",
      "Text input shape: (32, 512)\n",
      "attension mask shae:  (32, 512)\n",
      "Labels shape: (32,)\n"
     ]
    }
   ],
   "source": [
    "batch_x, batch_y = next(img_txt_gen_train2)\n",
    "\n",
    "# Check the shape of the inputs (both image and text inputs)\n",
    "image_input_shape = batch_x[0].shape  # Shape of image input\n",
    "text_input_shape = batch_x[1].shape   # Shape of text input\n",
    "att = batch_x[2].shape \n",
    "\n",
    "# Check the shape of the labels\n",
    "labels_shape = batch_y.shape\n",
    "\n",
    "# Print the shapes\n",
    "print(\"Image input shape:\", image_input_shape)\n",
    "print(\"Text input shape:\", text_input_shape)\n",
    "print(\"attension mask shae: \", att)\n",
    "print(\"Labels shape:\", labels_shape)"
   ]
  },
  {
   "cell_type": "code",
   "execution_count": 35,
   "metadata": {},
   "outputs": [
    {
     "name": "stdout",
     "output_type": "stream",
     "text": [
      "[<KerasTensor: shape=(None, 224, 224, 3) dtype=float32 (created by layer 'image_input')>, [<KerasTensor: shape=(None, 512) dtype=int32 (created by layer 'input_ids')>, <KerasTensor: shape=(None, 512) dtype=int32 (created by layer 'attention_mask')>]]\n"
     ]
    }
   ],
   "source": [
    "print(com_model.input)"
   ]
  },
  {
   "cell_type": "code",
   "execution_count": 50,
   "metadata": {},
   "outputs": [],
   "source": [
    "attention_mask = Input(shape=(512,), dtype=tf.int32, name=\"attention_mask\")"
   ]
  },
  {
   "cell_type": "code",
   "execution_count": 27,
   "metadata": {},
   "outputs": [
    {
     "ename": "ValueError",
     "evalue": "The name \"dense\" is used 2 times in the model. All layer names should be unique.",
     "output_type": "error",
     "traceback": [
      "\u001b[1;31m---------------------------------------------------------------------------\u001b[0m",
      "\u001b[1;31mValueError\u001b[0m                                Traceback (most recent call last)",
      "\u001b[1;32m~\\AppData\\Local\\Temp\\ipykernel_20496\\3427194800.py\u001b[0m in \u001b[0;36m<module>\u001b[1;34m\u001b[0m\n\u001b[0;32m      3\u001b[0m \u001b[0mdropout\u001b[0m \u001b[1;33m=\u001b[0m \u001b[0mDropout\u001b[0m\u001b[1;33m(\u001b[0m\u001b[1;36m0.3\u001b[0m\u001b[1;33m)\u001b[0m\u001b[1;33m(\u001b[0m\u001b[0mdense\u001b[0m\u001b[1;33m)\u001b[0m\u001b[1;33m\u001b[0m\u001b[1;33m\u001b[0m\u001b[0m\n\u001b[0;32m      4\u001b[0m \u001b[0mout\u001b[0m \u001b[1;33m=\u001b[0m \u001b[0mDense\u001b[0m\u001b[1;33m(\u001b[0m\u001b[1;36m1\u001b[0m\u001b[1;33m,\u001b[0m \u001b[0mactivation\u001b[0m\u001b[1;33m=\u001b[0m\u001b[1;34m'sigmoid'\u001b[0m\u001b[1;33m)\u001b[0m\u001b[1;33m(\u001b[0m\u001b[0mdropout\u001b[0m\u001b[1;33m)\u001b[0m\u001b[1;33m\u001b[0m\u001b[1;33m\u001b[0m\u001b[0m\n\u001b[1;32m----> 5\u001b[1;33m \u001b[0mcom_model\u001b[0m \u001b[1;33m=\u001b[0m \u001b[0mModel\u001b[0m\u001b[1;33m(\u001b[0m\u001b[0minputs\u001b[0m \u001b[1;33m=\u001b[0m \u001b[1;33m[\u001b[0m\u001b[0mimg_model\u001b[0m\u001b[1;33m.\u001b[0m\u001b[0minput\u001b[0m\u001b[1;33m,\u001b[0m \u001b[0mtxt_model\u001b[0m\u001b[1;33m.\u001b[0m\u001b[0minput\u001b[0m\u001b[1;33m]\u001b[0m\u001b[1;33m,\u001b[0m \u001b[0moutputs\u001b[0m\u001b[1;33m=\u001b[0m\u001b[0mout\u001b[0m\u001b[1;33m)\u001b[0m\u001b[1;33m\u001b[0m\u001b[1;33m\u001b[0m\u001b[0m\n\u001b[0m\u001b[0;32m      6\u001b[0m \u001b[0mcom_model\u001b[0m\u001b[1;33m.\u001b[0m\u001b[0mcompile\u001b[0m\u001b[1;33m(\u001b[0m\u001b[0mloss\u001b[0m\u001b[1;33m=\u001b[0m\u001b[1;34m'binary_crossentropy'\u001b[0m\u001b[1;33m,\u001b[0m \u001b[0moptimizer\u001b[0m\u001b[1;33m=\u001b[0m\u001b[0madam\u001b[0m\u001b[1;33m,\u001b[0m \u001b[0mmetrics\u001b[0m \u001b[1;33m=\u001b[0m \u001b[1;33m[\u001b[0m\u001b[1;34m\"accuracy\"\u001b[0m\u001b[1;33m]\u001b[0m\u001b[1;33m)\u001b[0m\u001b[1;33m\u001b[0m\u001b[1;33m\u001b[0m\u001b[0m\n",
      "\u001b[1;32mc:\\Users\\jasra\\OneDrive\\Desktop\\MAJOR PROJECT\\.venv\\lib\\site-packages\\tensorflow\\python\\trackable\\base.py\u001b[0m in \u001b[0;36m_method_wrapper\u001b[1;34m(self, *args, **kwargs)\u001b[0m\n\u001b[0;32m    203\u001b[0m     \u001b[0mself\u001b[0m\u001b[1;33m.\u001b[0m\u001b[0m_self_setattr_tracking\u001b[0m \u001b[1;33m=\u001b[0m \u001b[1;32mFalse\u001b[0m  \u001b[1;31m# pylint: disable=protected-access\u001b[0m\u001b[1;33m\u001b[0m\u001b[1;33m\u001b[0m\u001b[0m\n\u001b[0;32m    204\u001b[0m     \u001b[1;32mtry\u001b[0m\u001b[1;33m:\u001b[0m\u001b[1;33m\u001b[0m\u001b[1;33m\u001b[0m\u001b[0m\n\u001b[1;32m--> 205\u001b[1;33m       \u001b[0mresult\u001b[0m \u001b[1;33m=\u001b[0m \u001b[0mmethod\u001b[0m\u001b[1;33m(\u001b[0m\u001b[0mself\u001b[0m\u001b[1;33m,\u001b[0m \u001b[1;33m*\u001b[0m\u001b[0margs\u001b[0m\u001b[1;33m,\u001b[0m \u001b[1;33m**\u001b[0m\u001b[0mkwargs\u001b[0m\u001b[1;33m)\u001b[0m\u001b[1;33m\u001b[0m\u001b[1;33m\u001b[0m\u001b[0m\n\u001b[0m\u001b[0;32m    206\u001b[0m     \u001b[1;32mfinally\u001b[0m\u001b[1;33m:\u001b[0m\u001b[1;33m\u001b[0m\u001b[1;33m\u001b[0m\u001b[0m\n\u001b[0;32m    207\u001b[0m       \u001b[0mself\u001b[0m\u001b[1;33m.\u001b[0m\u001b[0m_self_setattr_tracking\u001b[0m \u001b[1;33m=\u001b[0m \u001b[0mprevious_value\u001b[0m  \u001b[1;31m# pylint: disable=protected-access\u001b[0m\u001b[1;33m\u001b[0m\u001b[1;33m\u001b[0m\u001b[0m\n",
      "\u001b[1;32mc:\\Users\\jasra\\OneDrive\\Desktop\\MAJOR PROJECT\\.venv\\lib\\site-packages\\keras\\engine\\functional.py\u001b[0m in \u001b[0;36m__init__\u001b[1;34m(self, inputs, outputs, name, trainable, **kwargs)\u001b[0m\n\u001b[0;32m    164\u001b[0m                     \u001b[0minputs\u001b[0m\u001b[1;33m,\u001b[0m \u001b[0moutputs\u001b[0m\u001b[1;33m\u001b[0m\u001b[1;33m\u001b[0m\u001b[0m\n\u001b[0;32m    165\u001b[0m                 )\n\u001b[1;32m--> 166\u001b[1;33m         \u001b[0mself\u001b[0m\u001b[1;33m.\u001b[0m\u001b[0m_init_graph_network\u001b[0m\u001b[1;33m(\u001b[0m\u001b[0minputs\u001b[0m\u001b[1;33m,\u001b[0m \u001b[0moutputs\u001b[0m\u001b[1;33m)\u001b[0m\u001b[1;33m\u001b[0m\u001b[1;33m\u001b[0m\u001b[0m\n\u001b[0m\u001b[0;32m    167\u001b[0m \u001b[1;33m\u001b[0m\u001b[0m\n\u001b[0;32m    168\u001b[0m     \u001b[1;33m@\u001b[0m\u001b[0mtf\u001b[0m\u001b[1;33m.\u001b[0m\u001b[0m__internal__\u001b[0m\u001b[1;33m.\u001b[0m\u001b[0mtracking\u001b[0m\u001b[1;33m.\u001b[0m\u001b[0mno_automatic_dependency_tracking\u001b[0m\u001b[1;33m\u001b[0m\u001b[1;33m\u001b[0m\u001b[0m\n",
      "\u001b[1;32mc:\\Users\\jasra\\OneDrive\\Desktop\\MAJOR PROJECT\\.venv\\lib\\site-packages\\tensorflow\\python\\trackable\\base.py\u001b[0m in \u001b[0;36m_method_wrapper\u001b[1;34m(self, *args, **kwargs)\u001b[0m\n\u001b[0;32m    203\u001b[0m     \u001b[0mself\u001b[0m\u001b[1;33m.\u001b[0m\u001b[0m_self_setattr_tracking\u001b[0m \u001b[1;33m=\u001b[0m \u001b[1;32mFalse\u001b[0m  \u001b[1;31m# pylint: disable=protected-access\u001b[0m\u001b[1;33m\u001b[0m\u001b[1;33m\u001b[0m\u001b[0m\n\u001b[0;32m    204\u001b[0m     \u001b[1;32mtry\u001b[0m\u001b[1;33m:\u001b[0m\u001b[1;33m\u001b[0m\u001b[1;33m\u001b[0m\u001b[0m\n\u001b[1;32m--> 205\u001b[1;33m       \u001b[0mresult\u001b[0m \u001b[1;33m=\u001b[0m \u001b[0mmethod\u001b[0m\u001b[1;33m(\u001b[0m\u001b[0mself\u001b[0m\u001b[1;33m,\u001b[0m \u001b[1;33m*\u001b[0m\u001b[0margs\u001b[0m\u001b[1;33m,\u001b[0m \u001b[1;33m**\u001b[0m\u001b[0mkwargs\u001b[0m\u001b[1;33m)\u001b[0m\u001b[1;33m\u001b[0m\u001b[1;33m\u001b[0m\u001b[0m\n\u001b[0m\u001b[0;32m    206\u001b[0m     \u001b[1;32mfinally\u001b[0m\u001b[1;33m:\u001b[0m\u001b[1;33m\u001b[0m\u001b[1;33m\u001b[0m\u001b[0m\n\u001b[0;32m    207\u001b[0m       \u001b[0mself\u001b[0m\u001b[1;33m.\u001b[0m\u001b[0m_self_setattr_tracking\u001b[0m \u001b[1;33m=\u001b[0m \u001b[0mprevious_value\u001b[0m  \u001b[1;31m# pylint: disable=protected-access\u001b[0m\u001b[1;33m\u001b[0m\u001b[1;33m\u001b[0m\u001b[0m\n",
      "\u001b[1;32mc:\\Users\\jasra\\OneDrive\\Desktop\\MAJOR PROJECT\\.venv\\lib\\site-packages\\keras\\engine\\functional.py\u001b[0m in \u001b[0;36m_init_graph_network\u001b[1;34m(self, inputs, outputs)\u001b[0m\n\u001b[0;32m    264\u001b[0m         \u001b[1;31m# Keep track of the network's nodes and layers.\u001b[0m\u001b[1;33m\u001b[0m\u001b[1;33m\u001b[0m\u001b[1;33m\u001b[0m\u001b[0m\n\u001b[0;32m    265\u001b[0m         nodes, nodes_by_depth, layers, _ = _map_graph_network(\n\u001b[1;32m--> 266\u001b[1;33m             \u001b[0mself\u001b[0m\u001b[1;33m.\u001b[0m\u001b[0minputs\u001b[0m\u001b[1;33m,\u001b[0m \u001b[0mself\u001b[0m\u001b[1;33m.\u001b[0m\u001b[0moutputs\u001b[0m\u001b[1;33m\u001b[0m\u001b[1;33m\u001b[0m\u001b[0m\n\u001b[0m\u001b[0;32m    267\u001b[0m         )\n\u001b[0;32m    268\u001b[0m         \u001b[0mself\u001b[0m\u001b[1;33m.\u001b[0m\u001b[0m_network_nodes\u001b[0m \u001b[1;33m=\u001b[0m \u001b[0mnodes\u001b[0m\u001b[1;33m\u001b[0m\u001b[1;33m\u001b[0m\u001b[0m\n",
      "\u001b[1;32mc:\\Users\\jasra\\OneDrive\\Desktop\\MAJOR PROJECT\\.venv\\lib\\site-packages\\keras\\engine\\functional.py\u001b[0m in \u001b[0;36m_map_graph_network\u001b[1;34m(inputs, outputs)\u001b[0m\n\u001b[0;32m   1143\u001b[0m         \u001b[1;32mif\u001b[0m \u001b[0mall_names\u001b[0m\u001b[1;33m.\u001b[0m\u001b[0mcount\u001b[0m\u001b[1;33m(\u001b[0m\u001b[0mname\u001b[0m\u001b[1;33m)\u001b[0m \u001b[1;33m!=\u001b[0m \u001b[1;36m1\u001b[0m\u001b[1;33m:\u001b[0m\u001b[1;33m\u001b[0m\u001b[1;33m\u001b[0m\u001b[0m\n\u001b[0;32m   1144\u001b[0m             raise ValueError(\n\u001b[1;32m-> 1145\u001b[1;33m                 \u001b[1;34mf'The name \"{name}\" is used {all_names.count(name)} '\u001b[0m\u001b[1;33m\u001b[0m\u001b[1;33m\u001b[0m\u001b[0m\n\u001b[0m\u001b[0;32m   1146\u001b[0m                 \u001b[1;34m\"times in the model. All layer names should be unique.\"\u001b[0m\u001b[1;33m\u001b[0m\u001b[1;33m\u001b[0m\u001b[0m\n\u001b[0;32m   1147\u001b[0m             )\n",
      "\u001b[1;31mValueError\u001b[0m: The name \"dense\" is used 2 times in the model. All layer names should be unique."
     ]
    }
   ],
   "source": [
    "con_layer = concatenate([txt_model.output, img_model.output])\n",
    "dense = Dense(64, activation='relu')(con_layer)\n",
    "dropout = Dropout(0.3)(dense)\n",
    "out = Dense(1, activation='sigmoid')(dropout)\n",
    "com_model = Model(inputs = [img_model.input, txt_model.input], outputs=out)\n",
    "com_model.compile(loss='binary_crossentropy', optimizer=adam, metrics = [\"accuracy\"])"
   ]
  },
  {
   "cell_type": "code",
   "execution_count": 30,
   "metadata": {},
   "outputs": [],
   "source": [
    "class_weight = {1: 1.4,\n",
    "                0: 1.}"
   ]
  },
  {
   "cell_type": "code",
   "execution_count": null,
   "metadata": {},
   "outputs": [
    {
     "name": "stderr",
     "output_type": "stream",
     "text": [
      "c:\\Users\\jasra\\OneDrive\\Desktop\\MAJOR PROJECT\\.venv\\lib\\site-packages\\ipykernel_launcher.py:8: UserWarning: `Model.fit_generator` is deprecated and will be removed in a future version. Please use `Model.fit`, which supports generators.\n",
      "  \n"
     ]
    },
    {
     "name": "stdout",
     "output_type": "stream",
     "text": [
      "Epoch 1/4\n",
      "WARNING:tensorflow:Gradients do not exist for variables ['tf_bert_model/bert/pooler/dense/kernel:0', 'tf_bert_model/bert/pooler/dense/bias:0'] when minimizing the loss. If you're using `model.compile()`, did you forget to provide a `loss` argument?\n"
     ]
    },
    {
     "name": "stderr",
     "output_type": "stream",
     "text": [
      "WARNING:tensorflow:Gradients do not exist for variables ['tf_bert_model/bert/pooler/dense/kernel:0', 'tf_bert_model/bert/pooler/dense/bias:0'] when minimizing the loss. If you're using `model.compile()`, did you forget to provide a `loss` argument?\n"
     ]
    },
    {
     "name": "stdout",
     "output_type": "stream",
     "text": [
      "WARNING:tensorflow:Gradients do not exist for variables ['tf_bert_model/bert/pooler/dense/kernel:0', 'tf_bert_model/bert/pooler/dense/bias:0'] when minimizing the loss. If you're using `model.compile()`, did you forget to provide a `loss` argument?\n"
     ]
    },
    {
     "name": "stderr",
     "output_type": "stream",
     "text": [
      "WARNING:tensorflow:Gradients do not exist for variables ['tf_bert_model/bert/pooler/dense/kernel:0', 'tf_bert_model/bert/pooler/dense/bias:0'] when minimizing the loss. If you're using `model.compile()`, did you forget to provide a `loss` argument?\n"
     ]
    },
    {
     "name": "stdout",
     "output_type": "stream",
     "text": [
      "WARNING:tensorflow:Gradients do not exist for variables ['tf_bert_model/bert/pooler/dense/kernel:0', 'tf_bert_model/bert/pooler/dense/bias:0'] when minimizing the loss. If you're using `model.compile()`, did you forget to provide a `loss` argument?\n"
     ]
    },
    {
     "name": "stderr",
     "output_type": "stream",
     "text": [
      "WARNING:tensorflow:Gradients do not exist for variables ['tf_bert_model/bert/pooler/dense/kernel:0', 'tf_bert_model/bert/pooler/dense/bias:0'] when minimizing the loss. If you're using `model.compile()`, did you forget to provide a `loss` argument?\n"
     ]
    },
    {
     "name": "stdout",
     "output_type": "stream",
     "text": [
      "WARNING:tensorflow:Gradients do not exist for variables ['tf_bert_model/bert/pooler/dense/kernel:0', 'tf_bert_model/bert/pooler/dense/bias:0'] when minimizing the loss. If you're using `model.compile()`, did you forget to provide a `loss` argument?\n"
     ]
    },
    {
     "name": "stderr",
     "output_type": "stream",
     "text": [
      "WARNING:tensorflow:Gradients do not exist for variables ['tf_bert_model/bert/pooler/dense/kernel:0', 'tf_bert_model/bert/pooler/dense/bias:0'] when minimizing the loss. If you're using `model.compile()`, did you forget to provide a `loss` argument?\n"
     ]
    },
    {
     "name": "stdout",
     "output_type": "stream",
     "text": [
      " 1/55 [..............................] - ETA: 5:02:07 - loss: 0.8189 - accuracy: 0.5312"
     ]
    }
   ],
   "source": [
    "# Training\n",
    "com_model.fit_generator(\n",
    "    img_txt_gen_train2,\n",
    "    validation_data=img_txt_gen_val2,\n",
    "    steps_per_epoch=len(x_train)//8,\n",
    "    validation_steps=len(x_val)//8,\n",
    "    epochs=4,\n",
    "    class_weight=class_weight\n",
    ")"
   ]
  },
  {
   "cell_type": "code",
   "execution_count": 38,
   "metadata": {},
   "outputs": [],
   "source": [
    "com_model.save('newfinal_model_ac.h5')"
   ]
  },
  {
   "cell_type": "code",
   "execution_count": null,
   "metadata": {},
   "outputs": [
    {
     "name": "stderr",
     "output_type": "stream",
     "text": [
      "W1126 22:47:14.102974 32732 deprecation.py:506] From c:\\Users\\jasra\\OneDrive\\Desktop\\MAJOR PROJECT\\.venv\\lib\\site-packages\\keras\\backend\\tensorflow_backend.py:3445: calling dropout (from tensorflow.python.ops.nn_ops) with keep_prob is deprecated and will be removed in a future version.\n",
      "Instructions for updating:\n",
      "Please use `rate` instead of `keep_prob`. Rate should be set to `rate = 1 - keep_prob`.\n"
     ]
    }
   ],
   "source": [
    "# # Fusion\n",
    "# concat = concatenate([cnn_out, lstm_out])\n",
    "# dense = Dense(64, activation='relu')(concat)\n",
    "# dropout = Dropout(0.3)(dense)\n",
    "# output = Dense(1, activation='sigmoid')(dropout)\n"
   ]
  },
  {
   "cell_type": "code",
   "execution_count": null,
   "metadata": {},
   "outputs": [
    {
     "name": "stderr",
     "output_type": "stream",
     "text": [
      "W1126 22:47:25.526576 32732 deprecation_wrapper.py:119] From c:\\Users\\jasra\\OneDrive\\Desktop\\MAJOR PROJECT\\.venv\\lib\\site-packages\\keras\\optimizers.py:790: The name tf.train.Optimizer is deprecated. Please use tf.compat.v1.train.Optimizer instead.\n",
      "\n",
      "W1126 22:47:25.534574 32732 deprecation.py:323] From c:\\Users\\jasra\\OneDrive\\Desktop\\MAJOR PROJECT\\.venv\\lib\\site-packages\\tensorflow\\python\\ops\\nn_impl.py:180: add_dispatch_support.<locals>.wrapper (from tensorflow.python.ops.array_ops) is deprecated and will be removed in a future version.\n",
      "Instructions for updating:\n",
      "Use tf.where in 2.0, which has the same broadcast rule as np.where\n"
     ]
    }
   ],
   "source": [
    "# # Model\n",
    "# multi_model = Model(inputs=[image_input, text_input], outputs=output)\n",
    "# multi_model.compile(loss='binary_crossentropy', optimizer=adam, metrics=['accuracy'])\n"
   ]
  },
  {
   "cell_type": "code",
   "execution_count": 24,
   "metadata": {},
   "outputs": [
    {
     "name": "stdout",
     "output_type": "stream",
     "text": [
      "Epoch 1/7\n",
      "13/13 [==============================] - 253s 19s/step - loss: 1.0125 - acc: 0.6298 - val_loss: 4.6548 - val_acc: 0.5000\n",
      "Epoch 2/7\n",
      "13/13 [==============================] - 242s 19s/step - loss: 0.9472 - acc: 0.6202 - val_loss: 0.7432 - val_acc: 0.2500\n",
      "Epoch 3/7\n",
      "13/13 [==============================] - 239s 18s/step - loss: 1.0405 - acc: 0.6058 - val_loss: 15.9424 - val_acc: 0.0000e+00\n",
      "Epoch 4/7\n",
      "13/13 [==============================] - 254s 20s/step - loss: 0.8717 - acc: 0.5264 - val_loss: 4.5536 - val_acc: 0.2500\n",
      "Epoch 5/7\n",
      "13/13 [==============================] - 236s 18s/step - loss: 0.8111 - acc: 0.6202 - val_loss: 0.8940 - val_acc: 0.2500\n",
      "Epoch 6/7\n",
      "13/13 [==============================] - 231s 18s/step - loss: 0.7633 - acc: 0.6418 - val_loss: 2.1085 - val_acc: 0.5000\n",
      "Epoch 7/7\n",
      "13/13 [==============================] - 229s 18s/step - loss: 0.8146 - acc: 0.6442 - val_loss: 0.8201 - val_acc: 0.2500\n"
     ]
    },
    {
     "data": {
      "text/plain": [
       "<keras.callbacks.History at 0x1fbcec47978>"
      ]
     },
     "execution_count": 24,
     "metadata": {},
     "output_type": "execute_result"
    }
   ],
   "source": [
    "# Training\n",
    "multi_model.fit_generator(\n",
    "    img_txt_gen_train,\n",
    "    validation_data=img_txt_gen_val,\n",
    "    steps_per_epoch=len(x_train)//32,\n",
    "    validation_steps=len(x_val)//32,\n",
    "    epochs=7,\n",
    "    class_weight=class_weight\n",
    ")"
   ]
  },
  {
   "cell_type": "code",
   "execution_count": null,
   "metadata": {},
   "outputs": [],
   "source": [
    "# Saving text modelSS\n",
    "multi_model.save('final_model_0.6442ac.h5')"
   ]
  },
  {
   "cell_type": "code",
   "execution_count": 26,
   "metadata": {},
   "outputs": [],
   "source": [
    "# Predicting labels of the test set\n",
    "y_pred_com = (multi_model.predict_generator(img_txt_gen_test,steps = 149))\n",
    "y_pred_com = np.round(list(itertools.chain(*y_pred_com)))\n",
    "# Defining true labels\n",
    "y_true = y_test.values"
   ]
  },
  {
   "cell_type": "code",
   "execution_count": 39,
   "metadata": {},
   "outputs": [
    {
     "ename": "NameError",
     "evalue": "name 'y_true' is not defined",
     "output_type": "error",
     "traceback": [
      "\u001b[1;31m---------------------------------------------------------------------------\u001b[0m",
      "\u001b[1;31mNameError\u001b[0m                                 Traceback (most recent call last)",
      "\u001b[1;32m<ipython-input-39-d0e4f225ccc7>\u001b[0m in \u001b[0;36m<module>\u001b[1;34m\u001b[0m\n\u001b[0;32m      1\u001b[0m \u001b[0mlabels\u001b[0m \u001b[1;33m=\u001b[0m \u001b[1;33m[\u001b[0m\u001b[1;36m1\u001b[0m\u001b[1;33m,\u001b[0m\u001b[1;36m0\u001b[0m\u001b[1;33m]\u001b[0m\u001b[1;33m\u001b[0m\u001b[0m\n\u001b[1;32m----> 2\u001b[1;33m \u001b[0mcm\u001b[0m \u001b[1;33m=\u001b[0m \u001b[0mconfusion_matrix\u001b[0m\u001b[1;33m(\u001b[0m\u001b[0my_true\u001b[0m\u001b[1;33m,\u001b[0m \u001b[0my_pred_com\u001b[0m\u001b[1;33m,\u001b[0m \u001b[0mlabels\u001b[0m\u001b[1;33m)\u001b[0m\u001b[1;33m\u001b[0m\u001b[0m\n\u001b[0m\u001b[0;32m      3\u001b[0m \u001b[0max\u001b[0m\u001b[1;33m=\u001b[0m \u001b[0mplt\u001b[0m\u001b[1;33m.\u001b[0m\u001b[0msubplot\u001b[0m\u001b[1;33m(\u001b[0m\u001b[1;33m)\u001b[0m\u001b[1;33m\u001b[0m\u001b[0m\n\u001b[0;32m      4\u001b[0m \u001b[0msns\u001b[0m\u001b[1;33m.\u001b[0m\u001b[0mheatmap\u001b[0m\u001b[1;33m(\u001b[0m\u001b[0mcm\u001b[0m\u001b[1;33m,\u001b[0m \u001b[0mannot\u001b[0m\u001b[1;33m=\u001b[0m\u001b[1;32mTrue\u001b[0m\u001b[1;33m,\u001b[0m \u001b[0max\u001b[0m \u001b[1;33m=\u001b[0m \u001b[0max\u001b[0m\u001b[1;33m)\u001b[0m\u001b[1;33m;\u001b[0m \u001b[1;31m#annot=True to annotate cells\u001b[0m\u001b[1;33m\u001b[0m\u001b[0m\n\u001b[0;32m      5\u001b[0m \u001b[1;33m\u001b[0m\u001b[0m\n",
      "\u001b[1;31mNameError\u001b[0m: name 'y_true' is not defined"
     ]
    }
   ],
   "source": [
    "labels = [1,0]\n",
    "cm = confusion_matrix(y_true, y_pred_com, labels)\n",
    "ax= plt.subplot()\n",
    "sns.heatmap(cm, annot=True, ax = ax); #annot=True to annotate cells\n",
    "\n",
    "# labels, title and ticks\n",
    "ax.set_xlabel('Predicted labels');ax.set_ylabel('True labels'); \n",
    "ax.set_title('Confusion Matrix'); \n",
    "ax.xaxis.set_ticklabels(['offensive', 'non-offensive']); ax.yaxis.set_ticklabels(['offensive', 'non-offensive']);"
   ]
  },
  {
   "cell_type": "code",
   "execution_count": 28,
   "metadata": {},
   "outputs": [
    {
     "data": {
      "image/png": "[encoded data removed]",
      "text/plain": [
       "<Figure size 432x288 with 1 Axes>"
      ]
     },
     "metadata": {
      "needs_background": "light"
     },
     "output_type": "display_data"
    }
   ],
   "source": [
    "# Plotting training accuaracy \n",
    "plt.plot(multi_model.history.epoch, multi_model.history.history['acc'])\n",
    "plt.gca().legend(('meme model acc', 'image model acc'))\n",
    "plt.xlabel('epoch')\n",
    "plt.ylabel('training accuracy')\n",
    "plt.show()"
   ]
  },
  {
   "cell_type": "code",
   "execution_count": 29,
   "metadata": {},
   "outputs": [
    {
     "data": {
      "image/png": "[encoded data removed]",
      "text/plain": [
       "<Figure size 432x288 with 1 Axes>"
      ]
     },
     "metadata": {
      "needs_background": "light"
     },
     "output_type": "display_data"
    }
   ],
   "source": [
    "\n",
    "# Plotting validation accuracy\n",
    "plt.plot(multi_model.history.epoch, multi_model.history.history['val_acc'])\n",
    "plt.gca().legend(('meme model validation acc', 'image model validation acc'))\n",
    "plt.xlabel('epoch')\n",
    "plt.ylabel('validaion accuracy')\n",
    "plt.show()"
   ]
  },
  {
   "cell_type": "code",
   "execution_count": 30,
   "metadata": {},
   "outputs": [
    {
     "data": {
      "text/plain": [
       "[0.7797344565391541, 0.2]"
      ]
     },
     "execution_count": 30,
     "metadata": {},
     "output_type": "execute_result"
    }
   ],
   "source": [
    "# Evaluating model by calculating loss and accuracy respectively\n",
    "# for combined model\n",
    "multi_model.evaluate_generator(img_txt_gen_test, steps=5)"
   ]
  },
  {
   "cell_type": "code",
   "execution_count": null,
   "metadata": {
    "scrolled": true
   },
   "outputs": [
    {
     "name": "stderr",
     "output_type": "stream",
     "text": [
      "W1109 01:05:09.906090  5476 deprecation_wrapper.py:119] From d:\\anaconda\\envs\\btechproject\\lib\\site-packages\\keras\\optimizers.py:790: The name tf.train.Optimizer is deprecated. Please use tf.compat.v1.train.Optimizer instead.\n",
      "\n",
      "W1109 01:05:09.913822  5476 deprecation.py:323] From d:\\anaconda\\envs\\btechproject\\lib\\site-packages\\tensorflow\\python\\ops\\nn_impl.py:180: add_dispatch_support.<locals>.wrapper (from tensorflow.python.ops.array_ops) is deprecated and will be removed in a future version.\n",
      "Instructions for updating:\n",
      "Use tf.where in 2.0, which has the same broadcast rule as np.where\n"
     ]
    }
   ],
   "source": [
    "# # compiling text model\n",
    "# txt_model.compile(loss='binary_crossentropy', optimizer=adam, metrics = [\"accuracy\"])"
   ]
  },
  {
   "cell_type": "code",
   "execution_count": 20,
   "metadata": {
    "scrolled": true
   },
   "outputs": [
    {
     "name": "stdout",
     "output_type": "stream",
     "text": [
      "Epoch 1/7\n",
      "2/2 [==============================] - 19s 10s/step - loss: 0.8202 - acc: 0.4062 - val_loss: 0.7049 - val_acc: 0.4362\n",
      "Epoch 2/7\n",
      "2/2 [==============================] - 15s 7s/step - loss: 0.8100 - acc: 0.3750 - val_loss: 0.6913 - val_acc: 0.5436\n",
      "Epoch 3/7\n",
      "2/2 [==============================] - 15s 7s/step - loss: 0.7646 - acc: 0.6562 - val_loss: 0.6721 - val_acc: 0.6107\n",
      "Epoch 4/7\n",
      "2/2 [==============================] - 15s 7s/step - loss: 0.8411 - acc: 0.5625 - val_loss: 0.6731 - val_acc: 0.6107\n",
      "Epoch 5/7\n",
      "2/2 [==============================] - 15s 8s/step - loss: 0.8215 - acc: 0.5781 - val_loss: 0.6796 - val_acc: 0.6107\n",
      "Epoch 6/7\n",
      "2/2 [==============================] - 15s 7s/step - loss: 0.8039 - acc: 0.5781 - val_loss: 0.6876 - val_acc: 0.5973\n",
      "Epoch 7/7\n",
      "2/2 [==============================] - 15s 7s/step - loss: 0.8284 - acc: 0.6094 - val_loss: 0.7037 - val_acc: 0.4362\n"
     ]
    },
    {
     "data": {
      "text/plain": [
       "<keras.callbacks.History at 0x1c2e5fbeac8>"
      ]
     },
     "execution_count": 20,
     "metadata": {},
     "output_type": "execute_result"
    }
   ],
   "source": [
    "# Training text model\n",
    "txt_model.fit_generator(txt_gen_train, epochs=7, validation_steps = 149, steps_per_epoch=2, validation_data=txt_gen_val, shuffle = False, class_weight=class_weight)"
   ]
  },
  {
   "cell_type": "code",
   "execution_count": 21,
   "metadata": {},
   "outputs": [
    {
     "name": "stderr",
     "output_type": "stream",
     "text": [
      "d:\\anaconda\\envs\\btechproject\\lib\\site-packages\\keras\\engine\\network.py:877: UserWarning: Layer lstm_2 was passed non-serializable keyword arguments: {'initial_state': [<tf.Tensor 'lstm_1/while/Exit_3:0' shape=(?, 32) dtype=float32>, <tf.Tensor 'lstm_1/while/Exit_4:0' shape=(?, 32) dtype=float32>]}. They will not be included in the serialized model (and thus will be missing at deserialization time).\n",
      "  '. They will not be included '\n"
     ]
    }
   ],
   "source": [
    "# Saving text model\n",
    "txt_model.save('Stack_LSTM_txt_model.h5')"
   ]
  },
  {
   "cell_type": "code",
   "execution_count": 22,
   "metadata": {},
   "outputs": [],
   "source": [
    "# Predicting labels of the test set\n",
    "y_pred_txt = (txt_model.predict_generator(txt_gen_test,steps = 149))\n",
    "y_pred_txt = np.round(list(itertools.chain(*y_pred_txt)))\n",
    "# Defining true labels\n",
    "y_true = y_test.values"
   ]
  },
  {
   "cell_type": "code",
   "execution_count": 23,
   "metadata": {},
   "outputs": [
    {
     "data": {
      "image/png": "[encoded data removed]",
      "text/plain": [
       "<Figure size 432x288 with 2 Axes>"
      ]
     },
     "metadata": {
      "needs_background": "light"
     },
     "output_type": "display_data"
    }
   ],
   "source": [
    "# Block that prints confusion matrix\n",
    "labels = [1,0]\n",
    "cm = confusion_matrix(y_true, y_pred_txt, labels)\n",
    "ax= plt.subplot()\n",
    "sns.heatmap(cm, annot=True, ax = ax); #annot=True to annotate cells\n",
    "\n",
    "# labels, title and ticks\n",
    "ax.set_xlabel('Predicted labels');ax.set_ylabel('True labels'); \n",
    "ax.set_title('Confusion Matrix'); \n",
    "ax.xaxis.set_ticklabels(['offensive', 'non-offensive']); ax.yaxis.set_ticklabels(['offensive', 'non-offensive']);"
   ]
  },
  {
   "cell_type": "code",
   "execution_count": 24,
   "metadata": {
    "scrolled": true
   },
   "outputs": [
    {
     "name": "stderr",
     "output_type": "stream",
     "text": [
      "W1109 01:07:52.340348  5476 deprecation_wrapper.py:119] From d:\\anaconda\\envs\\btechproject\\lib\\site-packages\\keras\\backend\\tensorflow_backend.py:3976: The name tf.nn.max_pool is deprecated. Please use tf.nn.max_pool2d instead.\n",
      "\n"
     ]
    }
   ],
   "source": [
    "# create base model with imagenet weights\n",
    "pre_trained_image_model = VGG16(weights='imagenet', include_top=False)"
   ]
  },
  {
   "cell_type": "code",
   "execution_count": 25,
   "metadata": {},
   "outputs": [],
   "source": [
    "# Building img_prediction layer using Image_model\n",
    "base_img = Image_model(pre_trained_image_model)\n",
    "img_prediction_layer = Dense(1, activation='sigmoid')(base_img)"
   ]
  },
  {
   "cell_type": "code",
   "execution_count": 26,
   "metadata": {},
   "outputs": [],
   "source": [
    "# Defining image model\n",
    "img_model = Model(inputs = [pre_trained_image_model.input], outputs=img_prediction_layer)"
   ]
  },
  {
   "cell_type": "code",
   "execution_count": null,
   "metadata": {},
   "outputs": [],
   "source": [
    "# Compiling image model\n",
    "img_model.compile(loss='binary_crossentropy', optimizer=adam, metrics = [\"accuracy\"])"
   ]
  },
  {
   "cell_type": "code",
   "execution_count": 28,
   "metadata": {},
   "outputs": [
    {
     "ename": "OSError",
     "evalue": "`pydot` failed to call GraphViz.Please install GraphViz (https://www.graphviz.org/) and ensure that its executables are in the $PATH.",
     "output_type": "error",
     "traceback": [
      "\u001b[1;31m---------------------------------------------------------------------------\u001b[0m",
      "\u001b[1;31mFileNotFoundError\u001b[0m                         Traceback (most recent call last)",
      "\u001b[1;32md:\\anaconda\\envs\\btechproject\\lib\\site-packages\\pydot.py\u001b[0m in \u001b[0;36mcreate\u001b[1;34m(self, prog, format, encoding)\u001b[0m\n\u001b[0;32m   1914\u001b[0m                 \u001b[0marguments\u001b[0m\u001b[1;33m=\u001b[0m\u001b[0marguments\u001b[0m\u001b[1;33m,\u001b[0m\u001b[1;33m\u001b[0m\u001b[1;33m\u001b[0m\u001b[0m\n\u001b[1;32m-> 1915\u001b[1;33m                 \u001b[0mworking_dir\u001b[0m\u001b[1;33m=\u001b[0m\u001b[0mtmp_dir\u001b[0m\u001b[1;33m,\u001b[0m\u001b[1;33m\u001b[0m\u001b[1;33m\u001b[0m\u001b[0m\n\u001b[0m\u001b[0;32m   1916\u001b[0m             )\n",
      "\u001b[1;32md:\\anaconda\\envs\\btechproject\\lib\\site-packages\\pydot.py\u001b[0m in \u001b[0;36mcall_graphviz\u001b[1;34m(program, arguments, working_dir, **kwargs)\u001b[0m\n\u001b[0;32m    135\u001b[0m         \u001b[0mstdout\u001b[0m\u001b[1;33m=\u001b[0m\u001b[0msubprocess\u001b[0m\u001b[1;33m.\u001b[0m\u001b[0mPIPE\u001b[0m\u001b[1;33m,\u001b[0m\u001b[1;33m\u001b[0m\u001b[1;33m\u001b[0m\u001b[0m\n\u001b[1;32m--> 136\u001b[1;33m         \u001b[1;33m**\u001b[0m\u001b[0mkwargs\u001b[0m\u001b[1;33m\u001b[0m\u001b[1;33m\u001b[0m\u001b[0m\n\u001b[0m\u001b[0;32m    137\u001b[0m     )\n",
      "\u001b[1;32md:\\anaconda\\envs\\btechproject\\lib\\subprocess.py\u001b[0m in \u001b[0;36m__init__\u001b[1;34m(self, args, bufsize, executable, stdin, stdout, stderr, preexec_fn, close_fds, shell, cwd, env, universal_newlines, startupinfo, creationflags, restore_signals, start_new_session, pass_fds, encoding, errors, text)\u001b[0m\n\u001b[0;32m    799\u001b[0m                                 \u001b[0merrread\u001b[0m\u001b[1;33m,\u001b[0m \u001b[0merrwrite\u001b[0m\u001b[1;33m,\u001b[0m\u001b[1;33m\u001b[0m\u001b[1;33m\u001b[0m\u001b[0m\n\u001b[1;32m--> 800\u001b[1;33m                                 restore_signals, start_new_session)\n\u001b[0m\u001b[0;32m    801\u001b[0m         \u001b[1;32mexcept\u001b[0m\u001b[1;33m:\u001b[0m\u001b[1;33m\u001b[0m\u001b[1;33m\u001b[0m\u001b[0m\n",
      "\u001b[1;32md:\\anaconda\\envs\\btechproject\\lib\\subprocess.py\u001b[0m in \u001b[0;36m_execute_child\u001b[1;34m(self, args, executable, preexec_fn, close_fds, pass_fds, cwd, env, startupinfo, creationflags, shell, p2cread, p2cwrite, c2pread, c2pwrite, errread, errwrite, unused_restore_signals, unused_start_new_session)\u001b[0m\n\u001b[0;32m   1206\u001b[0m                                          \u001b[0mos\u001b[0m\u001b[1;33m.\u001b[0m\u001b[0mfspath\u001b[0m\u001b[1;33m(\u001b[0m\u001b[0mcwd\u001b[0m\u001b[1;33m)\u001b[0m \u001b[1;32mif\u001b[0m \u001b[0mcwd\u001b[0m \u001b[1;32mis\u001b[0m \u001b[1;32mnot\u001b[0m \u001b[1;32mNone\u001b[0m \u001b[1;32melse\u001b[0m \u001b[1;32mNone\u001b[0m\u001b[1;33m,\u001b[0m\u001b[1;33m\u001b[0m\u001b[1;33m\u001b[0m\u001b[0m\n\u001b[1;32m-> 1207\u001b[1;33m                                          startupinfo)\n\u001b[0m\u001b[0;32m   1208\u001b[0m             \u001b[1;32mfinally\u001b[0m\u001b[1;33m:\u001b[0m\u001b[1;33m\u001b[0m\u001b[1;33m\u001b[0m\u001b[0m\n",
      "\u001b[1;31mFileNotFoundError\u001b[0m: [WinError 2] The system cannot find the file specified",
      "\nDuring handling of the above exception, another exception occurred:\n",
      "\u001b[1;31mFileNotFoundError\u001b[0m                         Traceback (most recent call last)",
      "\u001b[1;32md:\\anaconda\\envs\\btechproject\\lib\\site-packages\\keras\\utils\\vis_utils.py\u001b[0m in \u001b[0;36m_check_pydot\u001b[1;34m()\u001b[0m\n\u001b[0;32m     25\u001b[0m         \u001b[1;31m# to check the pydot/graphviz installation.\u001b[0m\u001b[1;33m\u001b[0m\u001b[1;33m\u001b[0m\u001b[1;33m\u001b[0m\u001b[0m\n\u001b[1;32m---> 26\u001b[1;33m         \u001b[0mpydot\u001b[0m\u001b[1;33m.\u001b[0m\u001b[0mDot\u001b[0m\u001b[1;33m.\u001b[0m\u001b[0mcreate\u001b[0m\u001b[1;33m(\u001b[0m\u001b[0mpydot\u001b[0m\u001b[1;33m.\u001b[0m\u001b[0mDot\u001b[0m\u001b[1;33m(\u001b[0m\u001b[1;33m)\u001b[0m\u001b[1;33m)\u001b[0m\u001b[1;33m\u001b[0m\u001b[1;33m\u001b[0m\u001b[0m\n\u001b[0m\u001b[0;32m     27\u001b[0m     \u001b[1;32mexcept\u001b[0m \u001b[0mOSError\u001b[0m\u001b[1;33m:\u001b[0m\u001b[1;33m\u001b[0m\u001b[1;33m\u001b[0m\u001b[0m\n",
      "\u001b[1;32md:\\anaconda\\envs\\btechproject\\lib\\site-packages\\pydot.py\u001b[0m in \u001b[0;36mcreate\u001b[1;34m(self, prog, format, encoding)\u001b[0m\n\u001b[0;32m   1921\u001b[0m                     prog=prog)\n\u001b[1;32m-> 1922\u001b[1;33m                 \u001b[1;32mraise\u001b[0m \u001b[0mOSError\u001b[0m\u001b[1;33m(\u001b[0m\u001b[1;33m*\u001b[0m\u001b[0margs\u001b[0m\u001b[1;33m)\u001b[0m\u001b[1;33m\u001b[0m\u001b[1;33m\u001b[0m\u001b[0m\n\u001b[0m\u001b[0;32m   1923\u001b[0m             \u001b[1;32melse\u001b[0m\u001b[1;33m:\u001b[0m\u001b[1;33m\u001b[0m\u001b[1;33m\u001b[0m\u001b[0m\n",
      "\u001b[1;31mFileNotFoundError\u001b[0m: [WinError 2] \"dot\" not found in path.",
      "\nDuring handling of the above exception, another exception occurred:\n",
      "\u001b[1;31mOSError\u001b[0m                                   Traceback (most recent call last)",
      "\u001b[1;32m<ipython-input-28-a2347b087924>\u001b[0m in \u001b[0;36m<module>\u001b[1;34m\u001b[0m\n\u001b[0;32m      1\u001b[0m \u001b[1;31m# Plotting image model\u001b[0m\u001b[1;33m\u001b[0m\u001b[1;33m\u001b[0m\u001b[1;33m\u001b[0m\u001b[0m\n\u001b[1;32m----> 2\u001b[1;33m \u001b[0mplot_model\u001b[0m\u001b[1;33m(\u001b[0m\u001b[0mimg_model\u001b[0m\u001b[1;33m,\u001b[0m \u001b[0mto_file\u001b[0m\u001b[1;33m=\u001b[0m\u001b[1;34m'VGG16_img_model.png'\u001b[0m\u001b[1;33m,\u001b[0m \u001b[0mshow_shapes\u001b[0m\u001b[1;33m=\u001b[0m\u001b[1;32mTrue\u001b[0m\u001b[1;33m,\u001b[0m \u001b[0mshow_layer_names\u001b[0m\u001b[1;33m=\u001b[0m\u001b[1;32mTrue\u001b[0m\u001b[1;33m)\u001b[0m\u001b[1;33m\u001b[0m\u001b[1;33m\u001b[0m\u001b[0m\n\u001b[0m",
      "\u001b[1;32md:\\anaconda\\envs\\btechproject\\lib\\site-packages\\keras\\utils\\vis_utils.py\u001b[0m in \u001b[0;36mplot_model\u001b[1;34m(model, to_file, show_shapes, show_layer_names, rankdir)\u001b[0m\n\u001b[0;32m    130\u001b[0m             \u001b[1;34m'LR'\u001b[0m \u001b[0mcreates\u001b[0m \u001b[0ma\u001b[0m \u001b[0mhorizontal\u001b[0m \u001b[0mplot\u001b[0m\u001b[1;33m.\u001b[0m\u001b[1;33m\u001b[0m\u001b[1;33m\u001b[0m\u001b[0m\n\u001b[0;32m    131\u001b[0m     \"\"\"\n\u001b[1;32m--> 132\u001b[1;33m     \u001b[0mdot\u001b[0m \u001b[1;33m=\u001b[0m \u001b[0mmodel_to_dot\u001b[0m\u001b[1;33m(\u001b[0m\u001b[0mmodel\u001b[0m\u001b[1;33m,\u001b[0m \u001b[0mshow_shapes\u001b[0m\u001b[1;33m,\u001b[0m \u001b[0mshow_layer_names\u001b[0m\u001b[1;33m,\u001b[0m \u001b[0mrankdir\u001b[0m\u001b[1;33m)\u001b[0m\u001b[1;33m\u001b[0m\u001b[1;33m\u001b[0m\u001b[0m\n\u001b[0m\u001b[0;32m    133\u001b[0m     \u001b[0m_\u001b[0m\u001b[1;33m,\u001b[0m \u001b[0mextension\u001b[0m \u001b[1;33m=\u001b[0m \u001b[0mos\u001b[0m\u001b[1;33m.\u001b[0m\u001b[0mpath\u001b[0m\u001b[1;33m.\u001b[0m\u001b[0msplitext\u001b[0m\u001b[1;33m(\u001b[0m\u001b[0mto_file\u001b[0m\u001b[1;33m)\u001b[0m\u001b[1;33m\u001b[0m\u001b[1;33m\u001b[0m\u001b[0m\n\u001b[0;32m    134\u001b[0m     \u001b[1;32mif\u001b[0m \u001b[1;32mnot\u001b[0m \u001b[0mextension\u001b[0m\u001b[1;33m:\u001b[0m\u001b[1;33m\u001b[0m\u001b[1;33m\u001b[0m\u001b[0m\n",
      "\u001b[1;32md:\\anaconda\\envs\\btechproject\\lib\\site-packages\\keras\\utils\\vis_utils.py\u001b[0m in \u001b[0;36mmodel_to_dot\u001b[1;34m(model, show_shapes, show_layer_names, rankdir)\u001b[0m\n\u001b[0;32m     53\u001b[0m     \u001b[1;32mfrom\u001b[0m \u001b[1;33m.\u001b[0m\u001b[1;33m.\u001b[0m\u001b[0mmodels\u001b[0m \u001b[1;32mimport\u001b[0m \u001b[0mSequential\u001b[0m\u001b[1;33m\u001b[0m\u001b[1;33m\u001b[0m\u001b[0m\n\u001b[0;32m     54\u001b[0m \u001b[1;33m\u001b[0m\u001b[0m\n\u001b[1;32m---> 55\u001b[1;33m     \u001b[0m_check_pydot\u001b[0m\u001b[1;33m(\u001b[0m\u001b[1;33m)\u001b[0m\u001b[1;33m\u001b[0m\u001b[1;33m\u001b[0m\u001b[0m\n\u001b[0m\u001b[0;32m     56\u001b[0m     \u001b[0mdot\u001b[0m \u001b[1;33m=\u001b[0m \u001b[0mpydot\u001b[0m\u001b[1;33m.\u001b[0m\u001b[0mDot\u001b[0m\u001b[1;33m(\u001b[0m\u001b[1;33m)\u001b[0m\u001b[1;33m\u001b[0m\u001b[1;33m\u001b[0m\u001b[0m\n\u001b[0;32m     57\u001b[0m     \u001b[0mdot\u001b[0m\u001b[1;33m.\u001b[0m\u001b[0mset\u001b[0m\u001b[1;33m(\u001b[0m\u001b[1;34m'rankdir'\u001b[0m\u001b[1;33m,\u001b[0m \u001b[0mrankdir\u001b[0m\u001b[1;33m)\u001b[0m\u001b[1;33m\u001b[0m\u001b[1;33m\u001b[0m\u001b[0m\n",
      "\u001b[1;32md:\\anaconda\\envs\\btechproject\\lib\\site-packages\\keras\\utils\\vis_utils.py\u001b[0m in \u001b[0;36m_check_pydot\u001b[1;34m()\u001b[0m\n\u001b[0;32m     27\u001b[0m     \u001b[1;32mexcept\u001b[0m \u001b[0mOSError\u001b[0m\u001b[1;33m:\u001b[0m\u001b[1;33m\u001b[0m\u001b[1;33m\u001b[0m\u001b[0m\n\u001b[0;32m     28\u001b[0m         raise OSError(\n\u001b[1;32m---> 29\u001b[1;33m             \u001b[1;34m'`pydot` failed to call GraphViz.'\u001b[0m\u001b[1;33m\u001b[0m\u001b[1;33m\u001b[0m\u001b[0m\n\u001b[0m\u001b[0;32m     30\u001b[0m             \u001b[1;34m'Please install GraphViz (https://www.graphviz.org/) '\u001b[0m\u001b[1;33m\u001b[0m\u001b[1;33m\u001b[0m\u001b[0m\n\u001b[0;32m     31\u001b[0m             'and ensure that its executables are in the $PATH.')\n",
      "\u001b[1;31mOSError\u001b[0m: `pydot` failed to call GraphViz.Please install GraphViz (https://www.graphviz.org/) and ensure that its executables are in the $PATH."
     ]
    }
   ],
   "source": [
    "# Plotting image model\n",
    "plot_model(img_model, to_file='VGG16_img_model.png', show_shapes=True, show_layer_names=True)"
   ]
  },
  {
   "cell_type": "code",
   "execution_count": null,
   "metadata": {
    "scrolled": false
   },
   "outputs": [
    {
     "name": "stdout",
     "output_type": "stream",
     "text": [
      "Epoch 1/7\n",
      "2/2 [==============================] - 33s 16s/step - loss: 2.8248 - acc: 0.5156 - val_loss: 0.1308 - val_acc: 1.0000\n",
      "Epoch 2/7\n",
      "2/2 [==============================] - 27s 13s/step - loss: 2.4685 - acc: 0.4688 - val_loss: 0.7130 - val_acc: 0.0000e+00\n",
      "Epoch 3/7\n",
      "2/2 [==============================] - 26s 13s/step - loss: 2.1571 - acc: 0.4844 - val_loss: 1.9528 - val_acc: 0.0000e+00\n",
      "Epoch 4/7\n",
      "2/2 [==============================] - 27s 13s/step - loss: 1.9844 - acc: 0.5156 - val_loss: 2.7603 - val_acc: 0.0000e+00\n",
      "Epoch 5/7\n",
      "2/2 [==============================] - 26s 13s/step - loss: 1.8334 - acc: 0.5000 - val_loss: 2.7608 - val_acc: 0.0000e+00\n",
      "Epoch 6/7\n",
      "2/2 [==============================] - 26s 13s/step - loss: 1.6170 - acc: 0.5000 - val_loss: 2.1896 - val_acc: 0.0000e+00\n",
      "Epoch 7/7\n",
      "2/2 [==============================] - 26s 13s/step - loss: 1.3790 - acc: 0.6250 - val_loss: 1.4229 - val_acc: 0.0000e+00\n"
     ]
    },
    {
     "data": {
      "text/plain": [
       "<keras.callbacks.History at 0x1c280082608>"
      ]
     },
     "execution_count": 29,
     "metadata": {},
     "output_type": "execute_result"
    }
   ],
   "source": [
    "# Training image model\n",
    "img_model.fit_generator(img_gen_train, epochs=7, validation_steps = 149, steps_per_epoch=2, validation_data=img_gen_val, shuffle=False, class_weight=class_weight)"
   ]
  },
  {
   "cell_type": "code",
   "execution_count": 30,
   "metadata": {},
   "outputs": [],
   "source": [
    "# Saving image model\n",
    "img_model.save('VGG16_img_model.h5')"
   ]
  },
  {
   "cell_type": "code",
   "execution_count": 31,
   "metadata": {},
   "outputs": [],
   "source": [
    "# Predicting labels using image model\n",
    "y_pred_img = (img_model.predict_generator(img_gen_test,steps = 149))\n",
    "y_pred_img = np.round(list(itertools.chain(*y_pred_img)))\n",
    "y_true = y_test.values"
   ]
  },
  {
   "cell_type": "code",
   "execution_count": 32,
   "metadata": {},
   "outputs": [
    {
     "data": {
      "image/png": "[encoded data removed]",
      "text/plain": [
       "<Figure size 432x288 with 2 Axes>"
      ]
     },
     "metadata": {
      "needs_background": "light"
     },
     "output_type": "display_data"
    }
   ],
   "source": [
    "# Confusion matrix for image classifier\n",
    "labels = [1,0]\n",
    "cm = confusion_matrix(y_true, y_pred_img, labels)\n",
    "ax= plt.subplot()\n",
    "sns.heatmap(cm, annot=True, ax = ax); #annot=True to annotate cells\n",
    "\n",
    "# labels, title and ticks\n",
    "ax.set_xlabel('Predicted labels');ax.set_ylabel('True labels'); \n",
    "ax.set_title('Confusion Matrix'); \n",
    "ax.xaxis.set_ticklabels(['offensive', 'non-offensive']); ax.yaxis.set_ticklabels(['offensive', 'non-offensive']);"
   ]
  },
  {
   "cell_type": "code",
   "execution_count": 34,
   "metadata": {},
   "outputs": [],
   "source": [
    "txt_model.compile(loss='binary_crossentropy', optimizer=adam, metrics = [\"accuracy\"])\n",
    "img_model.compile(loss='binary_crossentropy', optimizer=adam, metrics = [\"accuracy\"])"
   ]
  },
  {
   "cell_type": "code",
   "execution_count": null,
   "metadata": {},
   "outputs": [],
   "source": [
    "# Concatenating output of both classifiers\n",
    "con_layer = keras.layers.concatenate([txt_model.output, img_model.output])\n",
    "out = Dense(1,activation='sigmoid')(con_layer)"
   ]
  },
  {
   "cell_type": "code",
   "execution_count": 36,
   "metadata": {},
   "outputs": [],
   "source": [
    "# Defining model input and output\n",
    "com_model = Model(inputs = [img_model.input, txt_model.input], outputs=out)"
   ]
  },
  {
   "cell_type": "code",
   "execution_count": 37,
   "metadata": {},
   "outputs": [],
   "source": [
    "# Using Stochastic gradient descent with optimizer\n",
    "sgd = optimizers.SGD(lr=0.001, decay=1e-6, momentum=0.9, nesterov=True)\n",
    "com_model.compile(loss='binary_crossentropy', optimizer=adam, metrics = [\"accuracy\"])"
   ]
  },
  {
   "cell_type": "code",
   "execution_count": 38,
   "metadata": {},
   "outputs": [
    {
     "ename": "OSError",
     "evalue": "`pydot` failed to call GraphViz.Please install GraphViz (https://www.graphviz.org/) and ensure that its executables are in the $PATH.",
     "output_type": "error",
     "traceback": [
      "\u001b[1;31m---------------------------------------------------------------------------\u001b[0m",
      "\u001b[1;31mFileNotFoundError\u001b[0m                         Traceback (most recent call last)",
      "\u001b[1;32md:\\anaconda\\envs\\btechproject\\lib\\site-packages\\pydot.py\u001b[0m in \u001b[0;36mcreate\u001b[1;34m(self, prog, format, encoding)\u001b[0m\n\u001b[0;32m   1914\u001b[0m                 \u001b[0marguments\u001b[0m\u001b[1;33m=\u001b[0m\u001b[0marguments\u001b[0m\u001b[1;33m,\u001b[0m\u001b[1;33m\u001b[0m\u001b[1;33m\u001b[0m\u001b[0m\n\u001b[1;32m-> 1915\u001b[1;33m                 \u001b[0mworking_dir\u001b[0m\u001b[1;33m=\u001b[0m\u001b[0mtmp_dir\u001b[0m\u001b[1;33m,\u001b[0m\u001b[1;33m\u001b[0m\u001b[1;33m\u001b[0m\u001b[0m\n\u001b[0m\u001b[0;32m   1916\u001b[0m             )\n",
      "\u001b[1;32md:\\anaconda\\envs\\btechproject\\lib\\site-packages\\pydot.py\u001b[0m in \u001b[0;36mcall_graphviz\u001b[1;34m(program, arguments, working_dir, **kwargs)\u001b[0m\n\u001b[0;32m    135\u001b[0m         \u001b[0mstdout\u001b[0m\u001b[1;33m=\u001b[0m\u001b[0msubprocess\u001b[0m\u001b[1;33m.\u001b[0m\u001b[0mPIPE\u001b[0m\u001b[1;33m,\u001b[0m\u001b[1;33m\u001b[0m\u001b[1;33m\u001b[0m\u001b[0m\n\u001b[1;32m--> 136\u001b[1;33m         \u001b[1;33m**\u001b[0m\u001b[0mkwargs\u001b[0m\u001b[1;33m\u001b[0m\u001b[1;33m\u001b[0m\u001b[0m\n\u001b[0m\u001b[0;32m    137\u001b[0m     )\n",
      "\u001b[1;32md:\\anaconda\\envs\\btechproject\\lib\\subprocess.py\u001b[0m in \u001b[0;36m__init__\u001b[1;34m(self, args, bufsize, executable, stdin, stdout, stderr, preexec_fn, close_fds, shell, cwd, env, universal_newlines, startupinfo, creationflags, restore_signals, start_new_session, pass_fds, encoding, errors, text)\u001b[0m\n\u001b[0;32m    799\u001b[0m                                 \u001b[0merrread\u001b[0m\u001b[1;33m,\u001b[0m \u001b[0merrwrite\u001b[0m\u001b[1;33m,\u001b[0m\u001b[1;33m\u001b[0m\u001b[1;33m\u001b[0m\u001b[0m\n\u001b[1;32m--> 800\u001b[1;33m                                 restore_signals, start_new_session)\n\u001b[0m\u001b[0;32m    801\u001b[0m         \u001b[1;32mexcept\u001b[0m\u001b[1;33m:\u001b[0m\u001b[1;33m\u001b[0m\u001b[1;33m\u001b[0m\u001b[0m\n",
      "\u001b[1;32md:\\anaconda\\envs\\btechproject\\lib\\subprocess.py\u001b[0m in \u001b[0;36m_execute_child\u001b[1;34m(self, args, executable, preexec_fn, close_fds, pass_fds, cwd, env, startupinfo, creationflags, shell, p2cread, p2cwrite, c2pread, c2pwrite, errread, errwrite, unused_restore_signals, unused_start_new_session)\u001b[0m\n\u001b[0;32m   1206\u001b[0m                                          \u001b[0mos\u001b[0m\u001b[1;33m.\u001b[0m\u001b[0mfspath\u001b[0m\u001b[1;33m(\u001b[0m\u001b[0mcwd\u001b[0m\u001b[1;33m)\u001b[0m \u001b[1;32mif\u001b[0m \u001b[0mcwd\u001b[0m \u001b[1;32mis\u001b[0m \u001b[1;32mnot\u001b[0m \u001b[1;32mNone\u001b[0m \u001b[1;32melse\u001b[0m \u001b[1;32mNone\u001b[0m\u001b[1;33m,\u001b[0m\u001b[1;33m\u001b[0m\u001b[1;33m\u001b[0m\u001b[0m\n\u001b[1;32m-> 1207\u001b[1;33m                                          startupinfo)\n\u001b[0m\u001b[0;32m   1208\u001b[0m             \u001b[1;32mfinally\u001b[0m\u001b[1;33m:\u001b[0m\u001b[1;33m\u001b[0m\u001b[1;33m\u001b[0m\u001b[0m\n",
      "\u001b[1;31mFileNotFoundError\u001b[0m: [WinError 2] The system cannot find the file specified",
      "\nDuring handling of the above exception, another exception occurred:\n",
      "\u001b[1;31mFileNotFoundError\u001b[0m                         Traceback (most recent call last)",
      "\u001b[1;32md:\\anaconda\\envs\\btechproject\\lib\\site-packages\\keras\\utils\\vis_utils.py\u001b[0m in \u001b[0;36m_check_pydot\u001b[1;34m()\u001b[0m\n\u001b[0;32m     25\u001b[0m         \u001b[1;31m# to check the pydot/graphviz installation.\u001b[0m\u001b[1;33m\u001b[0m\u001b[1;33m\u001b[0m\u001b[1;33m\u001b[0m\u001b[0m\n\u001b[1;32m---> 26\u001b[1;33m         \u001b[0mpydot\u001b[0m\u001b[1;33m.\u001b[0m\u001b[0mDot\u001b[0m\u001b[1;33m.\u001b[0m\u001b[0mcreate\u001b[0m\u001b[1;33m(\u001b[0m\u001b[0mpydot\u001b[0m\u001b[1;33m.\u001b[0m\u001b[0mDot\u001b[0m\u001b[1;33m(\u001b[0m\u001b[1;33m)\u001b[0m\u001b[1;33m)\u001b[0m\u001b[1;33m\u001b[0m\u001b[1;33m\u001b[0m\u001b[0m\n\u001b[0m\u001b[0;32m     27\u001b[0m     \u001b[1;32mexcept\u001b[0m \u001b[0mOSError\u001b[0m\u001b[1;33m:\u001b[0m\u001b[1;33m\u001b[0m\u001b[1;33m\u001b[0m\u001b[0m\n",
      "\u001b[1;32md:\\anaconda\\envs\\btechproject\\lib\\site-packages\\pydot.py\u001b[0m in \u001b[0;36mcreate\u001b[1;34m(self, prog, format, encoding)\u001b[0m\n\u001b[0;32m   1921\u001b[0m                     prog=prog)\n\u001b[1;32m-> 1922\u001b[1;33m                 \u001b[1;32mraise\u001b[0m \u001b[0mOSError\u001b[0m\u001b[1;33m(\u001b[0m\u001b[1;33m*\u001b[0m\u001b[0margs\u001b[0m\u001b[1;33m)\u001b[0m\u001b[1;33m\u001b[0m\u001b[1;33m\u001b[0m\u001b[0m\n\u001b[0m\u001b[0;32m   1923\u001b[0m             \u001b[1;32melse\u001b[0m\u001b[1;33m:\u001b[0m\u001b[1;33m\u001b[0m\u001b[1;33m\u001b[0m\u001b[0m\n",
      "\u001b[1;31mFileNotFoundError\u001b[0m: [WinError 2] \"dot\" not found in path.",
      "\nDuring handling of the above exception, another exception occurred:\n",
      "\u001b[1;31mOSError\u001b[0m                                   Traceback (most recent call last)",
      "\u001b[1;32m<ipython-input-38-47525adb9689>\u001b[0m in \u001b[0;36m<module>\u001b[1;34m\u001b[0m\n\u001b[0;32m      1\u001b[0m \u001b[1;31m# PlotTing combined model\u001b[0m\u001b[1;33m\u001b[0m\u001b[1;33m\u001b[0m\u001b[1;33m\u001b[0m\u001b[0m\n\u001b[1;32m----> 2\u001b[1;33m \u001b[0mplot_model\u001b[0m\u001b[1;33m(\u001b[0m\u001b[0mcom_model\u001b[0m\u001b[1;33m,\u001b[0m \u001b[0mto_file\u001b[0m\u001b[1;33m=\u001b[0m\u001b[1;34m'Stack_LSTM_VGG_mul_model.png'\u001b[0m\u001b[1;33m,\u001b[0m \u001b[0mshow_shapes\u001b[0m\u001b[1;33m=\u001b[0m\u001b[1;32mTrue\u001b[0m\u001b[1;33m,\u001b[0m \u001b[0mshow_layer_names\u001b[0m\u001b[1;33m=\u001b[0m\u001b[1;32mTrue\u001b[0m\u001b[1;33m)\u001b[0m\u001b[1;33m\u001b[0m\u001b[1;33m\u001b[0m\u001b[0m\n\u001b[0m",
      "\u001b[1;32md:\\anaconda\\envs\\btechproject\\lib\\site-packages\\keras\\utils\\vis_utils.py\u001b[0m in \u001b[0;36mplot_model\u001b[1;34m(model, to_file, show_shapes, show_layer_names, rankdir)\u001b[0m\n\u001b[0;32m    130\u001b[0m             \u001b[1;34m'LR'\u001b[0m \u001b[0mcreates\u001b[0m \u001b[0ma\u001b[0m \u001b[0mhorizontal\u001b[0m \u001b[0mplot\u001b[0m\u001b[1;33m.\u001b[0m\u001b[1;33m\u001b[0m\u001b[1;33m\u001b[0m\u001b[0m\n\u001b[0;32m    131\u001b[0m     \"\"\"\n\u001b[1;32m--> 132\u001b[1;33m     \u001b[0mdot\u001b[0m \u001b[1;33m=\u001b[0m \u001b[0mmodel_to_dot\u001b[0m\u001b[1;33m(\u001b[0m\u001b[0mmodel\u001b[0m\u001b[1;33m,\u001b[0m \u001b[0mshow_shapes\u001b[0m\u001b[1;33m,\u001b[0m \u001b[0mshow_layer_names\u001b[0m\u001b[1;33m,\u001b[0m \u001b[0mrankdir\u001b[0m\u001b[1;33m)\u001b[0m\u001b[1;33m\u001b[0m\u001b[1;33m\u001b[0m\u001b[0m\n\u001b[0m\u001b[0;32m    133\u001b[0m     \u001b[0m_\u001b[0m\u001b[1;33m,\u001b[0m \u001b[0mextension\u001b[0m \u001b[1;33m=\u001b[0m \u001b[0mos\u001b[0m\u001b[1;33m.\u001b[0m\u001b[0mpath\u001b[0m\u001b[1;33m.\u001b[0m\u001b[0msplitext\u001b[0m\u001b[1;33m(\u001b[0m\u001b[0mto_file\u001b[0m\u001b[1;33m)\u001b[0m\u001b[1;33m\u001b[0m\u001b[1;33m\u001b[0m\u001b[0m\n\u001b[0;32m    134\u001b[0m     \u001b[1;32mif\u001b[0m \u001b[1;32mnot\u001b[0m \u001b[0mextension\u001b[0m\u001b[1;33m:\u001b[0m\u001b[1;33m\u001b[0m\u001b[1;33m\u001b[0m\u001b[0m\n",
      "\u001b[1;32md:\\anaconda\\envs\\btechproject\\lib\\site-packages\\keras\\utils\\vis_utils.py\u001b[0m in \u001b[0;36mmodel_to_dot\u001b[1;34m(model, show_shapes, show_layer_names, rankdir)\u001b[0m\n\u001b[0;32m     53\u001b[0m     \u001b[1;32mfrom\u001b[0m \u001b[1;33m.\u001b[0m\u001b[1;33m.\u001b[0m\u001b[0mmodels\u001b[0m \u001b[1;32mimport\u001b[0m \u001b[0mSequential\u001b[0m\u001b[1;33m\u001b[0m\u001b[1;33m\u001b[0m\u001b[0m\n\u001b[0;32m     54\u001b[0m \u001b[1;33m\u001b[0m\u001b[0m\n\u001b[1;32m---> 55\u001b[1;33m     \u001b[0m_check_pydot\u001b[0m\u001b[1;33m(\u001b[0m\u001b[1;33m)\u001b[0m\u001b[1;33m\u001b[0m\u001b[1;33m\u001b[0m\u001b[0m\n\u001b[0m\u001b[0;32m     56\u001b[0m     \u001b[0mdot\u001b[0m \u001b[1;33m=\u001b[0m \u001b[0mpydot\u001b[0m\u001b[1;33m.\u001b[0m\u001b[0mDot\u001b[0m\u001b[1;33m(\u001b[0m\u001b[1;33m)\u001b[0m\u001b[1;33m\u001b[0m\u001b[1;33m\u001b[0m\u001b[0m\n\u001b[0;32m     57\u001b[0m     \u001b[0mdot\u001b[0m\u001b[1;33m.\u001b[0m\u001b[0mset\u001b[0m\u001b[1;33m(\u001b[0m\u001b[1;34m'rankdir'\u001b[0m\u001b[1;33m,\u001b[0m \u001b[0mrankdir\u001b[0m\u001b[1;33m)\u001b[0m\u001b[1;33m\u001b[0m\u001b[1;33m\u001b[0m\u001b[0m\n",
      "\u001b[1;32md:\\anaconda\\envs\\btechproject\\lib\\site-packages\\keras\\utils\\vis_utils.py\u001b[0m in \u001b[0;36m_check_pydot\u001b[1;34m()\u001b[0m\n\u001b[0;32m     27\u001b[0m     \u001b[1;32mexcept\u001b[0m \u001b[0mOSError\u001b[0m\u001b[1;33m:\u001b[0m\u001b[1;33m\u001b[0m\u001b[1;33m\u001b[0m\u001b[0m\n\u001b[0;32m     28\u001b[0m         raise OSError(\n\u001b[1;32m---> 29\u001b[1;33m             \u001b[1;34m'`pydot` failed to call GraphViz.'\u001b[0m\u001b[1;33m\u001b[0m\u001b[1;33m\u001b[0m\u001b[0m\n\u001b[0m\u001b[0;32m     30\u001b[0m             \u001b[1;34m'Please install GraphViz (https://www.graphviz.org/) '\u001b[0m\u001b[1;33m\u001b[0m\u001b[1;33m\u001b[0m\u001b[0m\n\u001b[0;32m     31\u001b[0m             'and ensure that its executables are in the $PATH.')\n",
      "\u001b[1;31mOSError\u001b[0m: `pydot` failed to call GraphViz.Please install GraphViz (https://www.graphviz.org/) and ensure that its executables are in the $PATH."
     ]
    }
   ],
   "source": [
    "# PlotTing combined model\n",
    "plot_model(com_model, to_file='Stack_LSTM_VGG_mul_model.png', show_shapes=True, show_layer_names=True)"
   ]
  },
  {
   "cell_type": "code",
   "execution_count": 39,
   "metadata": {
    "scrolled": true
   },
   "outputs": [
    {
     "name": "stdout",
     "output_type": "stream",
     "text": [
      "Epoch 1/7\n",
      "2/2 [==============================] - 39s 20s/step - loss: 0.8184 - acc: 0.4688 - val_loss: 0.7067 - val_acc: 0.3691\n",
      "Epoch 2/7\n",
      "2/2 [==============================] - 36s 18s/step - loss: 0.7994 - acc: 0.3594 - val_loss: 0.7007 - val_acc: 0.4228\n",
      "Epoch 3/7\n",
      "2/2 [==============================] - 35s 17s/step - loss: 0.7911 - acc: 0.3125 - val_loss: 0.7056 - val_acc: 0.3356\n",
      "Epoch 4/7\n",
      "2/2 [==============================] - 36s 18s/step - loss: 0.7923 - acc: 0.3281 - val_loss: 0.7002 - val_acc: 0.3557\n",
      "Epoch 5/7\n",
      "2/2 [==============================] - 35s 18s/step - loss: 0.8252 - acc: 0.4844 - val_loss: 0.6957 - val_acc: 0.4295\n",
      "Epoch 6/7\n",
      "2/2 [==============================] - 35s 18s/step - loss: 0.8325 - acc: 0.5469 - val_loss: 0.6962 - val_acc: 0.4295\n",
      "Epoch 7/7\n",
      "2/2 [==============================] - 36s 18s/step - loss: 0.8165 - acc: 0.4531 - val_loss: 0.7004 - val_acc: 0.3557\n"
     ]
    },
    {
     "data": {
      "text/plain": [
       "<keras.callbacks.History at 0x1c28169c788>"
      ]
     },
     "execution_count": 39,
     "metadata": {},
     "output_type": "execute_result"
    }
   ],
   "source": [
    "# Training model\n",
    "com_model.fit_generator(img_txt_gen_train, epochs=7, validation_steps = 149, steps_per_epoch=2, validation_data=img_txt_gen_val, shuffle=False, class_weight=class_weight)"
   ]
  },
  {
   "cell_type": "code",
   "execution_count": 40,
   "metadata": {},
   "outputs": [
    {
     "name": "stderr",
     "output_type": "stream",
     "text": [
      "d:\\anaconda\\envs\\btechproject\\lib\\site-packages\\keras\\engine\\network.py:877: UserWarning: Layer lstm_2 was passed non-serializable keyword arguments: {'initial_state': [<tf.Tensor 'lstm_1/while/Exit_3:0' shape=(?, 32) dtype=float32>, <tf.Tensor 'lstm_1/while/Exit_4:0' shape=(?, 32) dtype=float32>]}. They will not be included in the serialized model (and thus will be missing at deserialization time).\n",
      "  '. They will not be included '\n"
     ]
    }
   ],
   "source": [
    "# Saving combined model\n",
    "com_model.save('Stack_LSTM_VGG_mul_model.h5')"
   ]
  },
  {
   "cell_type": "code",
   "execution_count": 41,
   "metadata": {},
   "outputs": [],
   "source": [
    "y_pred_com = (com_model.predict_generator(img_txt_gen_test,steps = 149))\n",
    "y_pred_com = np.round(list(itertools.chain(*y_pred_com)))"
   ]
  },
  {
   "cell_type": "code",
   "execution_count": 42,
   "metadata": {},
   "outputs": [
    {
     "data": {
      "image/png": "[encoded data removed]",
      "text/plain": [
       "<Figure size 432x288 with 2 Axes>"
      ]
     },
     "metadata": {
      "needs_background": "light"
     },
     "output_type": "display_data"
    }
   ],
   "source": [
    "labels = [1,0]\n",
    "cm = confusion_matrix(y_true, y_pred_com, labels)\n",
    "ax= plt.subplot()\n",
    "sns.heatmap(cm, annot=True, ax = ax); #annot=True to annotate cells\n",
    "\n",
    "# labels, title and ticks\n",
    "ax.set_xlabel('Predicted labels');ax.set_ylabel('True labels'); \n",
    "ax.set_title('Confusion Matrix'); \n",
    "ax.xaxis.set_ticklabels(['offensive', 'non-offensive']); ax.yaxis.set_ticklabels(['offensive', 'non-offensive']);"
   ]
  },
  {
   "cell_type": "code",
   "execution_count": 43,
   "metadata": {
    "scrolled": true
   },
   "outputs": [
    {
     "data": {
      "image/png": "[encoded data removed]",
      "text/plain": [
       "<Figure size 432x288 with 1 Axes>"
      ]
     },
     "metadata": {
      "needs_background": "light"
     },
     "output_type": "display_data"
    }
   ],
   "source": [
    "# Plotting training accuaracy \n",
    "plt.plot(com_model.history.epoch, com_model.history.history['acc'])\n",
    "plt.plot(txt_model.history.epoch, txt_model.history.history['acc'])\n",
    "plt.gca().legend(('meme model acc', 'image model acc', 'text model acc'))\n",
    "plt.xlabel('epoch')\n",
    "plt.ylabel('training accuracy')\n",
    "plt.show()"
   ]
  },
  {
   "cell_type": "code",
   "execution_count": 44,
   "metadata": {
    "scrolled": false
   },
   "outputs": [
    {
     "data": {
      "image/png": "[encoded data removed]",
      "text/plain": [
       "<Figure size 432x288 with 1 Axes>"
      ]
     },
     "metadata": {
      "needs_background": "light"
     },
     "output_type": "display_data"
    }
   ],
   "source": [
    "\n",
    "# Plotting validation accuracy\n",
    "plt.plot(com_model.history.epoch, com_model.history.history['val_acc'])\n",
    "plt.plot(txt_model.history.epoch, txt_model.history.history['val_acc'])\n",
    "plt.gca().legend(('meme model validation acc', 'image model validation acc', 'text model validation acc'))\n",
    "plt.xlabel('epoch')\n",
    "plt.ylabel('validaion accuracy')\n",
    "plt.show()"
   ]
  },
  {
   "cell_type": "code",
   "execution_count": 46,
   "metadata": {},
   "outputs": [
    {
     "data": {
      "text/plain": [
       "[0.6794470191001892, 0.8]"
      ]
     },
     "execution_count": 46,
     "metadata": {},
     "output_type": "execute_result"
    }
   ],
   "source": [
    "# Evaluating model by calculating loss and accuracy respectively\n",
    "# for combined model\n",
    "com_model.evaluate_generator(img_txt_gen_test, steps=5)"
   ]
  },
  {
   "cell_type": "code",
   "execution_count": 47,
   "metadata": {},
   "outputs": [
    {
     "data": {
      "text/plain": [
       "[0.6761613667011261, 0.6]"
      ]
     },
     "execution_count": 47,
     "metadata": {},
     "output_type": "execute_result"
    }
   ],
   "source": [
    "# loss and accuracy for text model\n",
    "txt_model.evaluate_generator(txt_gen_test, steps=5)"
   ]
  },
  {
   "cell_type": "code",
   "execution_count": 48,
   "metadata": {},
   "outputs": [
    {
     "data": {
      "text/plain": [
       "[0.023184871301054955, 1.0]"
      ]
     },
     "execution_count": 48,
     "metadata": {},
     "output_type": "execute_result"
    }
   ],
   "source": [
    "# Loss and accuracy for image model\n",
    "img_model.evaluate_generator(img_gen_test, steps=5)"
   ]
  },
  {
   "cell_type": "code",
   "execution_count": 49,
   "metadata": {},
   "outputs": [],
   "source": [
    "from sklearn.metrics import precision_recall_fscore_support"
   ]
  },
  {
   "cell_type": "code",
   "execution_count": 50,
   "metadata": {},
   "outputs": [
    {
     "data": {
      "text/plain": [
       "(array([0.85185185, 0.44262295]),\n",
       " array([0.25274725, 0.93103448]),\n",
       " array([0.38983051, 0.6       ]),\n",
       " array([91, 58], dtype=int64))"
      ]
     },
     "execution_count": 50,
     "metadata": {},
     "output_type": "execute_result"
    }
   ],
   "source": [
    "# for txt\n",
    "precision_recall_fscore_support(y_true, y_pred_txt, beta=1.0, labels=None, pos_label=1, average=None)"
   ]
  },
  {
   "cell_type": "code",
   "execution_count": 51,
   "metadata": {},
   "outputs": [
    {
     "name": "stderr",
     "output_type": "stream",
     "text": [
      "d:\\anaconda\\envs\\btechproject\\lib\\site-packages\\sklearn\\metrics\\classification.py:1437: UndefinedMetricWarning: Precision and F-score are ill-defined and being set to 0.0 in labels with no predicted samples.\n",
      "  'precision', 'predicted', average, warn_for)\n"
     ]
    },
    {
     "data": {
      "text/plain": [
       "(array([0.        , 0.38926174]),\n",
       " array([0., 1.]),\n",
       " array([0.        , 0.56038647]),\n",
       " array([91, 58], dtype=int64))"
      ]
     },
     "execution_count": 51,
     "metadata": {},
     "output_type": "execute_result"
    }
   ],
   "source": [
    "# for image\n",
    "precision_recall_fscore_support(y_true, y_pred_img, beta=1.0, labels=None, pos_label=1, average=None)"
   ]
  },
  {
   "cell_type": "code",
   "execution_count": 52,
   "metadata": {},
   "outputs": [
    {
     "data": {
      "text/plain": [
       "(array([0.        , 0.38926174]),\n",
       " array([0., 1.]),\n",
       " array([0.        , 0.56038647]),\n",
       " array([91, 58], dtype=int64))"
      ]
     },
     "execution_count": 52,
     "metadata": {},
     "output_type": "execute_result"
    }
   ],
   "source": [
    "# com model\n",
    "precision_recall_fscore_support(y_true, y_pred_com, beta=1.0, labels=None, pos_label=1, average=None)"
   ]
  },
  {
   "cell_type": "code",
   "execution_count": null,
   "metadata": {},
   "outputs": [],
   "source": []
  },
  {
   "cell_type": "code",
   "execution_count": null,
   "metadata": {},
   "outputs": [],
   "source": []
  }
 ],
 "metadata": {
  "kernelspec": {
   "display_name": ".venv",
   "language": "python",
   "name": "python3"
  },
  "language_info": {
   "codemirror_mode": {
    "name": "ipython",
    "version": 3
   },
   "file_extension": ".py",
   "mimetype": "text/x-python",
   "name": "python",
   "nbconvert_exporter": "python",
   "pygments_lexer": "ipython3",
   "version": "3.7.4"
  }
 },
 "nbformat": 4,
 "nbformat_minor": 2
}
